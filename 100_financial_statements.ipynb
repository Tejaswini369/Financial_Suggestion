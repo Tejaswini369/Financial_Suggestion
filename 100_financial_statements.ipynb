{
 "cells": [
  {
   "cell_type": "code",
   "execution_count": 1,
   "id": "e44d6604-4496-4eaa-8365-a10d456d6774",
   "metadata": {},
   "outputs": [
    {
     "name": "stdout",
     "output_type": "stream",
     "text": [
      "WARNING:tensorflow:From C:\\Users\\kteja\\AppData\\Local\\Temp\\ipykernel_27816\\3326022288.py:2: is_gpu_available (from tensorflow.python.framework.test_util) is deprecated and will be removed in a future version.\n",
      "Instructions for updating:\n",
      "Use `tf.config.list_physical_devices('GPU')` instead.\n"
     ]
    },
    {
     "data": {
      "text/plain": [
       "True"
      ]
     },
     "execution_count": 1,
     "metadata": {},
     "output_type": "execute_result"
    }
   ],
   "source": [
    "import tensorflow as tf\n",
    "tf.test.is_gpu_available()"
   ]
  },
  {
   "cell_type": "code",
   "execution_count": 2,
   "id": "6cdc6781-6dea-45e9-9ec1-3ba47b38b638",
   "metadata": {},
   "outputs": [
    {
     "name": "stdout",
     "output_type": "stream",
     "text": [
      "[name: \"/device:CPU:0\"\n",
      "device_type: \"CPU\"\n",
      "memory_limit: 268435456\n",
      "locality {\n",
      "}\n",
      "incarnation: 7322772774955383467\n",
      "xla_global_id: -1\n",
      ", name: \"/device:GPU:0\"\n",
      "device_type: \"GPU\"\n",
      "memory_limit: 3643801600\n",
      "locality {\n",
      "  bus_id: 1\n",
      "  links {\n",
      "  }\n",
      "}\n",
      "incarnation: 7275740764511254827\n",
      "physical_device_desc: \"device: 0, name: NVIDIA GeForce RTX 3060 Laptop GPU, pci bus id: 0000:01:00.0, compute capability: 8.6\"\n",
      "xla_global_id: 416903419\n",
      "]\n"
     ]
    }
   ],
   "source": [
    "from tensorflow.python.client import device_lib\n",
    "print(device_lib.list_local_devices())"
   ]
  },
  {
   "cell_type": "code",
   "execution_count": 6,
   "id": "c8e0c3b2-d7bc-4150-b09e-7d2a61a511c2",
   "metadata": {},
   "outputs": [
    {
     "name": "stdout",
     "output_type": "stream",
     "text": [
      "Requirement already satisfied: requests in c:\\users\\kteja\\anaconda3\\envs\\llm_finance\\lib\\site-packages (2.32.3)\n",
      "Requirement already satisfied: pandas in c:\\users\\kteja\\anaconda3\\envs\\llm_finance\\lib\\site-packages (2.0.3)\n",
      "Requirement already satisfied: charset-normalizer<4,>=2 in c:\\users\\kteja\\anaconda3\\envs\\llm_finance\\lib\\site-packages (from requests) (3.3.2)\n",
      "Requirement already satisfied: idna<4,>=2.5 in c:\\users\\kteja\\anaconda3\\envs\\llm_finance\\lib\\site-packages (from requests) (3.7)\n",
      "Requirement already satisfied: urllib3<3,>=1.21.1 in c:\\users\\kteja\\anaconda3\\envs\\llm_finance\\lib\\site-packages (from requests) (2.2.2)\n",
      "Requirement already satisfied: certifi>=2017.4.17 in c:\\users\\kteja\\anaconda3\\envs\\llm_finance\\lib\\site-packages (from requests) (2024.7.4)\n",
      "Requirement already satisfied: python-dateutil>=2.8.2 in c:\\users\\kteja\\anaconda3\\envs\\llm_finance\\lib\\site-packages (from pandas) (2.9.0.post0)\n",
      "Requirement already satisfied: pytz>=2020.1 in c:\\users\\kteja\\anaconda3\\envs\\llm_finance\\lib\\site-packages (from pandas) (2024.1)\n",
      "Requirement already satisfied: tzdata>=2022.1 in c:\\users\\kteja\\anaconda3\\envs\\llm_finance\\lib\\site-packages (from pandas) (2024.1)\n",
      "Requirement already satisfied: numpy>=1.20.3 in c:\\users\\kteja\\anaconda3\\envs\\llm_finance\\lib\\site-packages (from pandas) (1.24.4)\n",
      "Requirement already satisfied: six>=1.5 in c:\\users\\kteja\\anaconda3\\envs\\llm_finance\\lib\\site-packages (from python-dateutil>=2.8.2->pandas) (1.16.0)\n",
      "Note: you may need to restart the kernel to use updated packages.\n"
     ]
    }
   ],
   "source": [
    "pip install requests pandas\n"
   ]
  },
  {
   "cell_type": "code",
   "execution_count": 3,
   "id": "5e5c0cf5-711f-464e-8f28-f4c3b6b8c15d",
   "metadata": {},
   "outputs": [
    {
     "name": "stdout",
     "output_type": "stream",
     "text": [
      "No financial data found.\n"
     ]
    }
   ],
   "source": [
    "import requests\n",
    "import pandas as pd\n",
    "\n",
    "api_key = '41DZXIRYPGI796N9'\n",
    "tickers = tickers = [\n",
    "    'AAPL', 'MSFT', 'NVDA', 'GOOGL', 'AI', 'GOOG', 'AMZN', 'META', 'TSM', 'TSLA', \n",
    "    'PINS', 'IBM', 'PFE', 'VZ', 'PDD', 'DIS', 'NOW', 'BABA', 'BX', 'MS', \n",
    "    'AMAT', 'CAT', 'GS', 'NEE', 'ISRG', 'HSBC', 'CMCSA', 'RTX', 'RY', 'TTE', \n",
    "    'UL', 'SPGI', 'UNP', 'HDB', 'T', 'BHP', 'LOW', 'HON', 'LMT', 'VRTX', \n",
    "    'SNY', 'MUFG', 'TJX', 'BLK', 'UBER', 'ARM', 'SYK', 'COP', 'PGR', 'BUD', \n",
    "    'BKNG', 'INTC', 'ELV', 'C', 'ETN', 'REGN', 'PLD', 'SCHW', 'MU', 'UPS', \n",
    "    'NKE', 'BSX', 'MMC', 'CB', 'BA', 'RIO', 'ADI', 'LRCX', 'ADP', 'AMT', \n",
    "    'KKR', 'ANET', 'MDT', 'SONY', 'PANW', 'TD', 'KLAC', 'IBN', 'MMM', 'GILD', \n",
    "    'PEP', 'ABT', 'MRK', 'WMT', 'KO', 'CMG', 'MCD', 'JNJ', 'V', 'MA', \n",
    "    'PYPL', 'NFLX', 'ADBE', 'CRM', 'CSCO', 'ORCL', 'SAP', 'INTU', 'AMD', 'QCOM'\n",
    "]\n",
    "\n",
    "\n",
    "def get_financial_data(ticker, api_key):\n",
    "    url = f'https://www.alphavantage.co/query?function=INCOME_STATEMENT&symbol={ticker}&apikey={api_key}'\n",
    "    response = requests.get(url)\n",
    "    if response.status_code == 200:\n",
    "        data = response.json()\n",
    "        return data\n",
    "    else:\n",
    "        print(f\"Failed to retrieve data for {ticker}\")\n",
    "        return None\n",
    "\n",
    "financial_data = []\n",
    "\n",
    "for ticker in tickers:\n",
    "    data = get_financial_data(ticker, api_key)\n",
    "    if data:\n",
    "        annual_reports = data.get('annualReports', [])\n",
    "        for report in annual_reports:\n",
    "            report['ticker'] = ticker\n",
    "            financial_data.append(report)\n",
    "\n",
    "# Convert to DataFrame and save to CSV\n",
    "if financial_data:\n",
    "    financial_df = pd.DataFrame(financial_data)\n",
    "    financial_df.to_csv('financial_statements_new.csv', index=False)\n",
    "    print(\"Financial data gathered and saved to 'financial_statements_new.csv'.\")\n",
    "else:\n",
    "    print(\"No financial data found.\")\n"
   ]
  },
  {
   "cell_type": "code",
   "execution_count": 5,
   "id": "daef27cd-6a15-40f5-98c2-5edf80e124af",
   "metadata": {},
   "outputs": [
    {
     "name": "stdout",
     "output_type": "stream",
     "text": [
      "Financial data gathered and saved to 'financial_statements_fmp.csv'.\n"
     ]
    }
   ],
   "source": [
    "import requests\n",
    "import pandas as pd\n",
    "import time\n",
    "\n",
    "api_key = '4e4X9Ju0GcK6gpuIe0oD3CycoZ7lr5YD'\n",
    "tickers = [\n",
    "    'AAPL', 'MSFT', 'NVDA', 'GOOGL', 'AI', 'GOOG', 'AMZN', 'META', 'TSM', 'TSLA', \n",
    "    'PINS', 'IBM', 'PFE', 'VZ', 'PDD', 'DIS', 'NOW', 'BABA', 'BX', 'MS', \n",
    "    'AMAT', 'CAT', 'GS', 'NEE', 'ISRG', 'HSBC', 'CMCSA', 'RTX', 'RY', 'TTE', \n",
    "    'UL', 'SPGI', 'UNP', 'HDB', 'T', 'BHP', 'LOW', 'HON', 'LMT', 'VRTX', \n",
    "    'SNY', 'MUFG', 'TJX', 'BLK', 'UBER', 'ARM', 'SYK', 'COP', 'PGR', 'BUD', \n",
    "    'BKNG', 'INTC', 'ELV', 'C', 'ETN', 'REGN', 'PLD', 'SCHW', 'MU', 'UPS', \n",
    "    'NKE', 'BSX', 'MMC', 'CB', 'BA', 'RIO', 'ADI', 'LRCX', 'ADP', 'AMT', \n",
    "    'KKR', 'ANET', 'MDT', 'SONY', 'PANW', 'TD', 'KLAC', 'IBN', 'MMM', 'GILD', \n",
    "    'PEP', 'ABT', 'MRK', 'WMT', 'KO', 'CMG', 'MCD', 'JNJ', 'V', 'MA', \n",
    "    'PYPL', 'NFLX', 'ADBE', 'CRM', 'CSCO', 'ORCL', 'SAP', 'INTU', 'AMD', 'QCOM'\n",
    "]\n",
    "\n",
    "def get_financial_data(ticker, api_key):\n",
    "    url = f'https://financialmodelingprep.com/api/v3/income-statement/{ticker}?apikey={api_key}'\n",
    "    response = requests.get(url)\n",
    "    if response.status_code == 200:\n",
    "        data = response.json()\n",
    "        if data:\n",
    "            return data\n",
    "        else:\n",
    "            print(f\"No financial data found for {ticker}\")\n",
    "            return None\n",
    "    else:\n",
    "        print(f\"Failed to retrieve data for {ticker}, status code: {response.status_code}\")\n",
    "        return None\n",
    "\n",
    "financial_data = []\n",
    "\n",
    "for ticker in tickers:\n",
    "    data = get_financial_data(ticker, api_key)\n",
    "    if data:\n",
    "        for report in data:\n",
    "            report['ticker'] = ticker\n",
    "            financial_data.append(report)\n",
    "    # Sleep to avoid hitting the API rate limit\n",
    "    time.sleep(1)\n",
    "\n",
    "# Convert to DataFrame and save to CSV\n",
    "if financial_data:\n",
    "    financial_df = pd.DataFrame(financial_data)\n",
    "    financial_df.to_csv('financial_statements_fmp.csv', index=False)\n",
    "    print(\"Financial data gathered and saved to 'financial_statements_fmp.csv'.\")\n",
    "else:\n",
    "    print(\"No financial data found.\")\n"
   ]
  },
  {
   "cell_type": "code",
   "execution_count": null,
   "id": "e720e0ff-a20a-46f3-92cb-a12d883cfe90",
   "metadata": {},
   "outputs": [],
   "source": []
  }
 ],
 "metadata": {
  "kernelspec": {
   "display_name": "Python 3 (ipykernel)",
   "language": "python",
   "name": "python3"
  },
  "language_info": {
   "codemirror_mode": {
    "name": "ipython",
    "version": 3
   },
   "file_extension": ".py",
   "mimetype": "text/x-python",
   "name": "python",
   "nbconvert_exporter": "python",
   "pygments_lexer": "ipython3",
   "version": "3.8.19"
  }
 },
 "nbformat": 4,
 "nbformat_minor": 5
}
