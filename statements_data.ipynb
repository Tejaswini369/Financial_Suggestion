{
 "cells": [
  {
   "cell_type": "code",
   "execution_count": 3,
   "id": "3d17fa2c-b22a-44ac-8fdf-57e8639f5638",
   "metadata": {},
   "outputs": [
    {
     "name": "stdout",
     "output_type": "stream",
     "text": [
      "Requirement already satisfied: requests in c:\\users\\kteja\\anaconda3\\envs\\llm_finance\\lib\\site-packages (2.32.3)\n",
      "Requirement already satisfied: pandas in c:\\users\\kteja\\anaconda3\\envs\\llm_finance\\lib\\site-packages (2.0.3)\n",
      "Requirement already satisfied: charset-normalizer<4,>=2 in c:\\users\\kteja\\anaconda3\\envs\\llm_finance\\lib\\site-packages (from requests) (3.3.2)\n",
      "Requirement already satisfied: idna<4,>=2.5 in c:\\users\\kteja\\anaconda3\\envs\\llm_finance\\lib\\site-packages (from requests) (3.7)\n",
      "Requirement already satisfied: urllib3<3,>=1.21.1 in c:\\users\\kteja\\anaconda3\\envs\\llm_finance\\lib\\site-packages (from requests) (2.2.2)\n",
      "Requirement already satisfied: certifi>=2017.4.17 in c:\\users\\kteja\\anaconda3\\envs\\llm_finance\\lib\\site-packages (from requests) (2024.7.4)\n",
      "Requirement already satisfied: python-dateutil>=2.8.2 in c:\\users\\kteja\\anaconda3\\envs\\llm_finance\\lib\\site-packages (from pandas) (2.9.0.post0)\n",
      "Requirement already satisfied: pytz>=2020.1 in c:\\users\\kteja\\anaconda3\\envs\\llm_finance\\lib\\site-packages (from pandas) (2024.1)\n",
      "Requirement already satisfied: tzdata>=2022.1 in c:\\users\\kteja\\anaconda3\\envs\\llm_finance\\lib\\site-packages (from pandas) (2024.1)\n",
      "Requirement already satisfied: numpy>=1.20.3 in c:\\users\\kteja\\anaconda3\\envs\\llm_finance\\lib\\site-packages (from pandas) (1.24.4)\n",
      "Requirement already satisfied: six>=1.5 in c:\\users\\kteja\\anaconda3\\envs\\llm_finance\\lib\\site-packages (from python-dateutil>=2.8.2->pandas) (1.16.0)\n",
      "Note: you may need to restart the kernel to use updated packages.\n"
     ]
    }
   ],
   "source": [
    "pip install requests pandas\n"
   ]
  },
  {
   "cell_type": "code",
   "execution_count": 4,
   "id": "e53a8b90-1404-4e79-9ec3-9e35e85d030b",
   "metadata": {},
   "outputs": [
    {
     "name": "stdout",
     "output_type": "stream",
     "text": [
      "Financial data gathered and saved to 'financial_statements.csv'.\n"
     ]
    }
   ],
   "source": [
    "import requests\n",
    "import pandas as pd\n",
    "\n",
    "api_key = 'BLAXTI0ISVDS2TWD'\n",
    "tickers = ['AAPL', 'MSFT', 'NVDA' ,'GOOGL', 'AI', 'GOOG', 'AMZN', 'META', 'TSM', 'TSLA', 'PINS' ]\n",
    "\n",
    "def get_financial_data(ticker, api_key):\n",
    "    url = f'https://www.alphavantage.co/query?function=INCOME_STATEMENT&symbol={ticker}&apikey={api_key}'\n",
    "    response = requests.get(url)\n",
    "    if response.status_code == 200:\n",
    "        data = response.json()\n",
    "        return data\n",
    "    else:\n",
    "        print(f\"Failed to retrieve data for {ticker}\")\n",
    "        return None\n",
    "\n",
    "financial_data = []\n",
    "\n",
    "for ticker in tickers:\n",
    "    data = get_financial_data(ticker, api_key)\n",
    "    if data:\n",
    "        annual_reports = data.get('annualReports', [])\n",
    "        for report in annual_reports:\n",
    "            report['ticker'] = ticker\n",
    "            financial_data.append(report)\n",
    "\n",
    "# Convert to DataFrame and save to CSV\n",
    "if financial_data:\n",
    "    financial_df = pd.DataFrame(financial_data)\n",
    "    financial_df.to_csv('financial_statements.csv', index=False)\n",
    "    print(\"Financial data gathered and saved to 'financial_statements.csv'.\")\n",
    "else:\n",
    "    print(\"No financial data found.\")\n"
   ]
  },
  {
   "cell_type": "code",
   "execution_count": null,
   "id": "5632f146-e0b2-47e4-b382-2eda8792d97f",
   "metadata": {},
   "outputs": [],
   "source": []
  }
 ],
 "metadata": {
  "kernelspec": {
   "display_name": "Python 3 (ipykernel)",
   "language": "python",
   "name": "python3"
  },
  "language_info": {
   "codemirror_mode": {
    "name": "ipython",
    "version": 3
   },
   "file_extension": ".py",
   "mimetype": "text/x-python",
   "name": "python",
   "nbconvert_exporter": "python",
   "pygments_lexer": "ipython3",
   "version": "3.8.19"
  }
 },
 "nbformat": 4,
 "nbformat_minor": 5
}
