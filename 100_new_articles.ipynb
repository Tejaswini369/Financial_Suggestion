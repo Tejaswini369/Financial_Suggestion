{
 "cells": [
  {
   "cell_type": "code",
   "execution_count": 1,
   "id": "d0988c1e-7fc1-4fe3-8904-0ddae2c5b14d",
   "metadata": {},
   "outputs": [
    {
     "name": "stdout",
     "output_type": "stream",
     "text": [
      "WARNING:tensorflow:From C:\\Users\\kteja\\AppData\\Local\\Temp\\ipykernel_25224\\3326022288.py:2: is_gpu_available (from tensorflow.python.framework.test_util) is deprecated and will be removed in a future version.\n",
      "Instructions for updating:\n",
      "Use `tf.config.list_physical_devices('GPU')` instead.\n"
     ]
    },
    {
     "data": {
      "text/plain": [
       "True"
      ]
     },
     "execution_count": 1,
     "metadata": {},
     "output_type": "execute_result"
    }
   ],
   "source": [
    "import tensorflow as tf\n",
    "tf.test.is_gpu_available()"
   ]
  },
  {
   "cell_type": "code",
   "execution_count": 2,
   "id": "002dfa16-003c-4a45-a480-135b5e5cb701",
   "metadata": {},
   "outputs": [
    {
     "name": "stdout",
     "output_type": "stream",
     "text": [
      "[name: \"/device:CPU:0\"\n",
      "device_type: \"CPU\"\n",
      "memory_limit: 268435456\n",
      "locality {\n",
      "}\n",
      "incarnation: 13372899743652974314\n",
      "xla_global_id: -1\n",
      ", name: \"/device:GPU:0\"\n",
      "device_type: \"GPU\"\n",
      "memory_limit: 3643801600\n",
      "locality {\n",
      "  bus_id: 1\n",
      "  links {\n",
      "  }\n",
      "}\n",
      "incarnation: 6319837650755708353\n",
      "physical_device_desc: \"device: 0, name: NVIDIA GeForce RTX 3060 Laptop GPU, pci bus id: 0000:01:00.0, compute capability: 8.6\"\n",
      "xla_global_id: 416903419\n",
      "]\n"
     ]
    }
   ],
   "source": [
    "from tensorflow.python.client import device_lib\n",
    "print(device_lib.list_local_devices())"
   ]
  },
  {
   "cell_type": "code",
   "execution_count": 2,
   "id": "0aada469-1f36-4975-a0a0-419ebf3a82f5",
   "metadata": {},
   "outputs": [
    {
     "name": "stdout",
     "output_type": "stream",
     "text": [
      "Requirement already satisfied: pandas in c:\\users\\kteja\\anaconda3\\envs\\llm_finance\\lib\\site-packages (2.0.3)\n",
      "Requirement already satisfied: yfinance in c:\\users\\kteja\\anaconda3\\envs\\llm_finance\\lib\\site-packages (0.2.41)\n",
      "Requirement already satisfied: requests in c:\\users\\kteja\\anaconda3\\envs\\llm_finance\\lib\\site-packages (2.32.3)\n",
      "Requirement already satisfied: beautifulsoup4 in c:\\users\\kteja\\anaconda3\\envs\\llm_finance\\lib\\site-packages (4.12.3)\n",
      "Requirement already satisfied: transformers in c:\\users\\kteja\\anaconda3\\envs\\llm_finance\\lib\\site-packages (4.43.3)\n",
      "Requirement already satisfied: langchain in c:\\users\\kteja\\anaconda3\\envs\\llm_finance\\lib\\site-packages (0.2.11)\n",
      "Requirement already satisfied: torch in c:\\users\\kteja\\anaconda3\\envs\\llm_finance\\lib\\site-packages (2.4.0)\n",
      "Requirement already satisfied: python-dateutil>=2.8.2 in c:\\users\\kteja\\anaconda3\\envs\\llm_finance\\lib\\site-packages (from pandas) (2.9.0.post0)\n",
      "Requirement already satisfied: pytz>=2020.1 in c:\\users\\kteja\\anaconda3\\envs\\llm_finance\\lib\\site-packages (from pandas) (2024.1)\n",
      "Requirement already satisfied: tzdata>=2022.1 in c:\\users\\kteja\\anaconda3\\envs\\llm_finance\\lib\\site-packages (from pandas) (2024.1)\n",
      "Requirement already satisfied: numpy>=1.20.3 in c:\\users\\kteja\\anaconda3\\envs\\llm_finance\\lib\\site-packages (from pandas) (1.24.4)\n",
      "Requirement already satisfied: multitasking>=0.0.7 in c:\\users\\kteja\\anaconda3\\envs\\llm_finance\\lib\\site-packages (from yfinance) (0.0.11)\n",
      "Requirement already satisfied: lxml>=4.9.1 in c:\\users\\kteja\\anaconda3\\envs\\llm_finance\\lib\\site-packages (from yfinance) (5.2.2)\n",
      "Requirement already satisfied: platformdirs>=2.0.0 in c:\\users\\kteja\\anaconda3\\envs\\llm_finance\\lib\\site-packages (from yfinance) (3.10.0)\n",
      "Requirement already satisfied: frozendict>=2.3.4 in c:\\users\\kteja\\anaconda3\\envs\\llm_finance\\lib\\site-packages (from yfinance) (2.4.4)\n",
      "Requirement already satisfied: peewee>=3.16.2 in c:\\users\\kteja\\anaconda3\\envs\\llm_finance\\lib\\site-packages (from yfinance) (3.17.6)\n",
      "Requirement already satisfied: html5lib>=1.1 in c:\\users\\kteja\\anaconda3\\envs\\llm_finance\\lib\\site-packages (from yfinance) (1.1)\n",
      "Requirement already satisfied: charset-normalizer<4,>=2 in c:\\users\\kteja\\anaconda3\\envs\\llm_finance\\lib\\site-packages (from requests) (3.3.2)\n",
      "Requirement already satisfied: idna<4,>=2.5 in c:\\users\\kteja\\anaconda3\\envs\\llm_finance\\lib\\site-packages (from requests) (3.7)\n",
      "Requirement already satisfied: urllib3<3,>=1.21.1 in c:\\users\\kteja\\anaconda3\\envs\\llm_finance\\lib\\site-packages (from requests) (2.2.2)\n",
      "Requirement already satisfied: certifi>=2017.4.17 in c:\\users\\kteja\\anaconda3\\envs\\llm_finance\\lib\\site-packages (from requests) (2024.7.4)\n",
      "Requirement already satisfied: soupsieve>1.2 in c:\\users\\kteja\\anaconda3\\envs\\llm_finance\\lib\\site-packages (from beautifulsoup4) (2.5)\n",
      "Requirement already satisfied: filelock in c:\\users\\kteja\\anaconda3\\envs\\llm_finance\\lib\\site-packages (from transformers) (3.15.4)\n",
      "Requirement already satisfied: huggingface-hub<1.0,>=0.23.2 in c:\\users\\kteja\\anaconda3\\envs\\llm_finance\\lib\\site-packages (from transformers) (0.24.2)\n",
      "Requirement already satisfied: packaging>=20.0 in c:\\users\\kteja\\anaconda3\\envs\\llm_finance\\lib\\site-packages (from transformers) (24.1)\n",
      "Requirement already satisfied: pyyaml>=5.1 in c:\\users\\kteja\\anaconda3\\envs\\llm_finance\\lib\\site-packages (from transformers) (6.0.1)\n",
      "Requirement already satisfied: regex!=2019.12.17 in c:\\users\\kteja\\anaconda3\\envs\\llm_finance\\lib\\site-packages (from transformers) (2024.7.24)\n",
      "Requirement already satisfied: safetensors>=0.4.1 in c:\\users\\kteja\\anaconda3\\envs\\llm_finance\\lib\\site-packages (from transformers) (0.4.3)\n",
      "Requirement already satisfied: tokenizers<0.20,>=0.19 in c:\\users\\kteja\\anaconda3\\envs\\llm_finance\\lib\\site-packages (from transformers) (0.19.1)\n",
      "Requirement already satisfied: tqdm>=4.27 in c:\\users\\kteja\\anaconda3\\envs\\llm_finance\\lib\\site-packages (from transformers) (4.66.4)\n",
      "Requirement already satisfied: SQLAlchemy<3,>=1.4 in c:\\users\\kteja\\anaconda3\\envs\\llm_finance\\lib\\site-packages (from langchain) (2.0.31)\n",
      "Requirement already satisfied: aiohttp<4.0.0,>=3.8.3 in c:\\users\\kteja\\anaconda3\\envs\\llm_finance\\lib\\site-packages (from langchain) (3.9.5)\n",
      "Requirement already satisfied: async-timeout<5.0.0,>=4.0.0 in c:\\users\\kteja\\anaconda3\\envs\\llm_finance\\lib\\site-packages (from langchain) (4.0.3)\n",
      "Requirement already satisfied: langchain-core<0.3.0,>=0.2.23 in c:\\users\\kteja\\anaconda3\\envs\\llm_finance\\lib\\site-packages (from langchain) (0.2.24)\n",
      "Requirement already satisfied: langchain-text-splitters<0.3.0,>=0.2.0 in c:\\users\\kteja\\anaconda3\\envs\\llm_finance\\lib\\site-packages (from langchain) (0.2.2)\n",
      "Requirement already satisfied: langsmith<0.2.0,>=0.1.17 in c:\\users\\kteja\\anaconda3\\envs\\llm_finance\\lib\\site-packages (from langchain) (0.1.93)\n",
      "Requirement already satisfied: pydantic<3,>=1 in c:\\users\\kteja\\anaconda3\\envs\\llm_finance\\lib\\site-packages (from langchain) (2.8.2)\n",
      "Requirement already satisfied: tenacity!=8.4.0,<9.0.0,>=8.1.0 in c:\\users\\kteja\\anaconda3\\envs\\llm_finance\\lib\\site-packages (from langchain) (8.5.0)\n",
      "Requirement already satisfied: typing-extensions>=4.8.0 in c:\\users\\kteja\\anaconda3\\envs\\llm_finance\\lib\\site-packages (from torch) (4.11.0)\n",
      "Requirement already satisfied: sympy in c:\\users\\kteja\\anaconda3\\envs\\llm_finance\\lib\\site-packages (from torch) (1.13.1)\n",
      "Requirement already satisfied: networkx in c:\\users\\kteja\\anaconda3\\envs\\llm_finance\\lib\\site-packages (from torch) (3.1)\n",
      "Requirement already satisfied: jinja2 in c:\\users\\kteja\\anaconda3\\envs\\llm_finance\\lib\\site-packages (from torch) (3.1.4)\n",
      "Requirement already satisfied: fsspec in c:\\users\\kteja\\anaconda3\\envs\\llm_finance\\lib\\site-packages (from torch) (2024.5.0)\n",
      "Requirement already satisfied: aiosignal>=1.1.2 in c:\\users\\kteja\\anaconda3\\envs\\llm_finance\\lib\\site-packages (from aiohttp<4.0.0,>=3.8.3->langchain) (1.3.1)\n",
      "Requirement already satisfied: attrs>=17.3.0 in c:\\users\\kteja\\anaconda3\\envs\\llm_finance\\lib\\site-packages (from aiohttp<4.0.0,>=3.8.3->langchain) (23.1.0)\n",
      "Requirement already satisfied: frozenlist>=1.1.1 in c:\\users\\kteja\\anaconda3\\envs\\llm_finance\\lib\\site-packages (from aiohttp<4.0.0,>=3.8.3->langchain) (1.4.1)\n",
      "Requirement already satisfied: multidict<7.0,>=4.5 in c:\\users\\kteja\\anaconda3\\envs\\llm_finance\\lib\\site-packages (from aiohttp<4.0.0,>=3.8.3->langchain) (6.0.5)\n",
      "Requirement already satisfied: yarl<2.0,>=1.0 in c:\\users\\kteja\\anaconda3\\envs\\llm_finance\\lib\\site-packages (from aiohttp<4.0.0,>=3.8.3->langchain) (1.9.4)\n",
      "Requirement already satisfied: six>=1.9 in c:\\users\\kteja\\anaconda3\\envs\\llm_finance\\lib\\site-packages (from html5lib>=1.1->yfinance) (1.16.0)\n",
      "Requirement already satisfied: webencodings in c:\\users\\kteja\\anaconda3\\envs\\llm_finance\\lib\\site-packages (from html5lib>=1.1->yfinance) (0.5.1)\n",
      "Requirement already satisfied: jsonpatch<2.0,>=1.33 in c:\\users\\kteja\\anaconda3\\envs\\llm_finance\\lib\\site-packages (from langchain-core<0.3.0,>=0.2.23->langchain) (1.33)\n",
      "Requirement already satisfied: orjson<4.0.0,>=3.9.14 in c:\\users\\kteja\\anaconda3\\envs\\llm_finance\\lib\\site-packages (from langsmith<0.2.0,>=0.1.17->langchain) (3.10.6)\n",
      "Requirement already satisfied: annotated-types>=0.4.0 in c:\\users\\kteja\\anaconda3\\envs\\llm_finance\\lib\\site-packages (from pydantic<3,>=1->langchain) (0.7.0)\n",
      "Requirement already satisfied: pydantic-core==2.20.1 in c:\\users\\kteja\\anaconda3\\envs\\llm_finance\\lib\\site-packages (from pydantic<3,>=1->langchain) (2.20.1)\n",
      "Requirement already satisfied: greenlet!=0.4.17 in c:\\users\\kteja\\anaconda3\\envs\\llm_finance\\lib\\site-packages (from SQLAlchemy<3,>=1.4->langchain) (3.0.3)\n",
      "Requirement already satisfied: colorama in c:\\users\\kteja\\anaconda3\\envs\\llm_finance\\lib\\site-packages (from tqdm>=4.27->transformers) (0.4.6)\n",
      "Requirement already satisfied: MarkupSafe>=2.0 in c:\\users\\kteja\\anaconda3\\envs\\llm_finance\\lib\\site-packages (from jinja2->torch) (2.1.3)\n",
      "Requirement already satisfied: mpmath<1.4,>=1.1.0 in c:\\users\\kteja\\anaconda3\\envs\\llm_finance\\lib\\site-packages (from sympy->torch) (1.3.0)\n",
      "Requirement already satisfied: jsonpointer>=1.9 in c:\\users\\kteja\\anaconda3\\envs\\llm_finance\\lib\\site-packages (from jsonpatch<2.0,>=1.33->langchain-core<0.3.0,>=0.2.23->langchain) (3.0.0)\n",
      "Note: you may need to restart the kernel to use updated packages.\n"
     ]
    }
   ],
   "source": [
    "pip install pandas yfinance requests beautifulsoup4 transformers langchain torch\n"
   ]
  },
  {
   "cell_type": "code",
   "execution_count": 3,
   "id": "e4035501-250a-471d-8de1-8cc8944bc16a",
   "metadata": {},
   "outputs": [
    {
     "name": "stdout",
     "output_type": "stream",
     "text": [
      "Requirement already satisfied: pandas in c:\\users\\kteja\\anaconda3\\envs\\llm_finance\\lib\\site-packages (2.0.3)\n",
      "Requirement already satisfied: requests in c:\\users\\kteja\\anaconda3\\envs\\llm_finance\\lib\\site-packages (2.32.3)\n",
      "Requirement already satisfied: beautifulsoup4 in c:\\users\\kteja\\anaconda3\\envs\\llm_finance\\lib\\site-packages (4.12.3)\n",
      "Requirement already satisfied: tqdm in c:\\users\\kteja\\anaconda3\\envs\\llm_finance\\lib\\site-packages (4.66.4)\n",
      "Requirement already satisfied: python-dateutil>=2.8.2 in c:\\users\\kteja\\anaconda3\\envs\\llm_finance\\lib\\site-packages (from pandas) (2.9.0.post0)\n",
      "Requirement already satisfied: pytz>=2020.1 in c:\\users\\kteja\\anaconda3\\envs\\llm_finance\\lib\\site-packages (from pandas) (2024.1)\n",
      "Requirement already satisfied: tzdata>=2022.1 in c:\\users\\kteja\\anaconda3\\envs\\llm_finance\\lib\\site-packages (from pandas) (2024.1)\n",
      "Requirement already satisfied: numpy>=1.20.3 in c:\\users\\kteja\\anaconda3\\envs\\llm_finance\\lib\\site-packages (from pandas) (1.24.4)\n",
      "Requirement already satisfied: charset-normalizer<4,>=2 in c:\\users\\kteja\\anaconda3\\envs\\llm_finance\\lib\\site-packages (from requests) (3.3.2)\n",
      "Requirement already satisfied: idna<4,>=2.5 in c:\\users\\kteja\\anaconda3\\envs\\llm_finance\\lib\\site-packages (from requests) (3.7)\n",
      "Requirement already satisfied: urllib3<3,>=1.21.1 in c:\\users\\kteja\\anaconda3\\envs\\llm_finance\\lib\\site-packages (from requests) (2.2.2)\n",
      "Requirement already satisfied: certifi>=2017.4.17 in c:\\users\\kteja\\anaconda3\\envs\\llm_finance\\lib\\site-packages (from requests) (2024.7.4)\n",
      "Requirement already satisfied: soupsieve>1.2 in c:\\users\\kteja\\anaconda3\\envs\\llm_finance\\lib\\site-packages (from beautifulsoup4) (2.5)\n",
      "Requirement already satisfied: colorama in c:\\users\\kteja\\anaconda3\\envs\\llm_finance\\lib\\site-packages (from tqdm) (0.4.6)\n",
      "Requirement already satisfied: six>=1.5 in c:\\users\\kteja\\anaconda3\\envs\\llm_finance\\lib\\site-packages (from python-dateutil>=2.8.2->pandas) (1.16.0)\n",
      "Note: you may need to restart the kernel to use updated packages.\n"
     ]
    }
   ],
   "source": [
    "pip install pandas requests beautifulsoup4 tqdm\n"
   ]
  },
  {
   "cell_type": "code",
   "execution_count": 1,
   "id": "04abf324-a07b-4e17-9a2a-9a13275a382b",
   "metadata": {},
   "outputs": [
    {
     "name": "stderr",
     "output_type": "stream",
     "text": [
      "  0%|                                                                                 | 2/2300 [00:00<05:58,  6.42it/s]"
     ]
    },
    {
     "name": "stdout",
     "output_type": "stream",
     "text": [
      "Error fetching articles from https://www.reuters.com/technology/: 401\n",
      "Error fetching articles from https://www.marketwatch.com/latest-news: 401\n",
      "Error fetching articles from https://www.wsj.com/news/markets: 401\n"
     ]
    },
    {
     "name": "stderr",
     "output_type": "stream",
     "text": [
      "  0%|▏                                                                                | 5/2300 [00:00<08:22,  4.57it/s]"
     ]
    },
    {
     "name": "stdout",
     "output_type": "stream",
     "text": [
      "Error fetching articles from https://www.investing.com/news/stock-market-news for AAPL: 'href'\n"
     ]
    },
    {
     "name": "stderr",
     "output_type": "stream",
     "text": [
      "  0%|▎                                                                                | 8/2300 [00:01<10:04,  3.79it/s]"
     ]
    },
    {
     "name": "stdout",
     "output_type": "stream",
     "text": [
      "Error fetching articles from https://www.thestreet.com/markets: 404\n"
     ]
    },
    {
     "name": "stderr",
     "output_type": "stream",
     "text": [
      "  1%|▍                                                                               | 12/2300 [00:02<06:41,  5.70it/s]"
     ]
    },
    {
     "name": "stdout",
     "output_type": "stream",
     "text": [
      "Error fetching articles from https://www.zacks.com/investment-news: 404\n",
      "Error fetching articles from https://www.investors.com/market-trend/stock-market-today/: 403\n",
      "Error fetching articles from https://www.morningstar.com/market-news: 404\n"
     ]
    },
    {
     "name": "stderr",
     "output_type": "stream",
     "text": [
      "  1%|▌                                                                               | 16/2300 [00:03<05:41,  6.70it/s]"
     ]
    },
    {
     "name": "stdout",
     "output_type": "stream",
     "text": [
      "Error fetching articles from https://www.reuters.com/technology/: 401\n",
      "Error fetching articles from https://www.marketwatch.com/latest-news: 401\n"
     ]
    },
    {
     "name": "stderr",
     "output_type": "stream",
     "text": [
      "  1%|▋                                                                               | 21/2300 [00:04<08:34,  4.43it/s]"
     ]
    },
    {
     "name": "stdout",
     "output_type": "stream",
     "text": [
      "Error fetching articles from https://www.wsj.com/news/markets: 401\n"
     ]
    },
    {
     "name": "stderr",
     "output_type": "stream",
     "text": [
      "  1%|▉                                                                               | 27/2300 [00:06<12:01,  3.15it/s]"
     ]
    },
    {
     "name": "stdout",
     "output_type": "stream",
     "text": [
      "Error fetching articles from https://www.investing.com/news/stock-market-news for MSFT: 'href'\n"
     ]
    },
    {
     "name": "stderr",
     "output_type": "stream",
     "text": [
      "  1%|█                                                                               | 31/2300 [00:07<09:57,  3.80it/s]"
     ]
    },
    {
     "name": "stdout",
     "output_type": "stream",
     "text": [
      "Error fetching articles from https://www.thestreet.com/markets: 404\n",
      "Error fetching articles from https://www.zacks.com/investment-news: 404\n"
     ]
    },
    {
     "name": "stderr",
     "output_type": "stream",
     "text": [
      "  1%|█                                                                               | 32/2300 [00:07<11:25,  3.31it/s]"
     ]
    },
    {
     "name": "stdout",
     "output_type": "stream",
     "text": [
      "Error fetching articles from https://www.morningstar.com/market-news: 404\n"
     ]
    },
    {
     "name": "stderr",
     "output_type": "stream",
     "text": [
      "  2%|█▎                                                                              | 36/2300 [00:08<08:01,  4.70it/s]"
     ]
    },
    {
     "name": "stdout",
     "output_type": "stream",
     "text": [
      "Error fetching articles from https://www.investors.com/market-trend/stock-market-today/: 403\n"
     ]
    },
    {
     "name": "stderr",
     "output_type": "stream",
     "text": [
      "  2%|█▍                                                                              | 40/2300 [00:09<06:10,  6.11it/s]"
     ]
    },
    {
     "name": "stdout",
     "output_type": "stream",
     "text": [
      "Error fetching articles from https://www.reuters.com/technology/: 401\n"
     ]
    },
    {
     "name": "stderr",
     "output_type": "stream",
     "text": [
      "  2%|█▍                                                                              | 41/2300 [00:09<06:50,  5.50it/s]"
     ]
    },
    {
     "name": "stdout",
     "output_type": "stream",
     "text": [
      "Error fetching articles from https://www.marketwatch.com/latest-news: 401\n",
      "Error fetching articles from https://www.wsj.com/news/markets: 401\n"
     ]
    },
    {
     "name": "stderr",
     "output_type": "stream",
     "text": [
      "  2%|█▊                                                                              | 52/2300 [00:13<12:05,  3.10it/s]"
     ]
    },
    {
     "name": "stdout",
     "output_type": "stream",
     "text": [
      "Error fetching articles from https://www.investing.com/news/stock-market-news for NVDA: 'href'\n",
      "Error fetching articles from https://www.thestreet.com/markets: 404\n"
     ]
    },
    {
     "name": "stderr",
     "output_type": "stream",
     "text": [
      "  3%|██                                                                              | 58/2300 [00:14<06:27,  5.78it/s]"
     ]
    },
    {
     "name": "stdout",
     "output_type": "stream",
     "text": [
      "Error fetching articles from https://www.morningstar.com/market-news: 404\n",
      "Error fetching articles from https://www.zacks.com/investment-news: 404\n"
     ]
    },
    {
     "name": "stderr",
     "output_type": "stream",
     "text": [
      "  3%|██                                                                              | 60/2300 [00:14<05:35,  6.68it/s]"
     ]
    },
    {
     "name": "stdout",
     "output_type": "stream",
     "text": [
      "Error fetching articles from https://www.investors.com/market-trend/stock-market-today/: 403\n"
     ]
    },
    {
     "name": "stderr",
     "output_type": "stream",
     "text": [
      "  3%|██                                                                              | 61/2300 [00:15<07:14,  5.15it/s]"
     ]
    },
    {
     "name": "stdout",
     "output_type": "stream",
     "text": [
      "Error fetching articles from https://www.reuters.com/technology/: 401\n"
     ]
    },
    {
     "name": "stderr",
     "output_type": "stream",
     "text": [
      "  3%|██▏                                                                             | 64/2300 [00:15<09:17,  4.01it/s]"
     ]
    },
    {
     "name": "stdout",
     "output_type": "stream",
     "text": [
      "Error fetching articles from https://www.marketwatch.com/latest-news: 401\n"
     ]
    },
    {
     "name": "stderr",
     "output_type": "stream",
     "text": [
      "  3%|██▎                                                                             | 66/2300 [00:16<10:16,  3.63it/s]"
     ]
    },
    {
     "name": "stdout",
     "output_type": "stream",
     "text": [
      "Error fetching articles from https://www.wsj.com/news/markets: 401\n"
     ]
    },
    {
     "name": "stderr",
     "output_type": "stream",
     "text": [
      "  3%|██▌                                                                             | 74/2300 [00:19<10:15,  3.61it/s]"
     ]
    },
    {
     "name": "stdout",
     "output_type": "stream",
     "text": [
      "Error fetching articles from https://www.investing.com/news/stock-market-news for GOOGL: 'href'\n"
     ]
    },
    {
     "name": "stderr",
     "output_type": "stream",
     "text": [
      "  3%|██▋                                                                             | 77/2300 [00:19<06:55,  5.35it/s]"
     ]
    },
    {
     "name": "stdout",
     "output_type": "stream",
     "text": [
      "Error fetching articles from https://www.thestreet.com/markets: 404\n"
     ]
    },
    {
     "name": "stderr",
     "output_type": "stream",
     "text": [
      "  3%|██▋                                                                             | 79/2300 [00:20<07:32,  4.90it/s]"
     ]
    },
    {
     "name": "stdout",
     "output_type": "stream",
     "text": [
      "Error fetching articles from https://www.morningstar.com/market-news: 404\n",
      "Error fetching articles from https://www.zacks.com/investment-news: 404\n"
     ]
    },
    {
     "name": "stderr",
     "output_type": "stream",
     "text": [
      "  4%|██▉                                                                             | 83/2300 [00:20<07:08,  5.17it/s]"
     ]
    },
    {
     "name": "stdout",
     "output_type": "stream",
     "text": [
      "Error fetching articles from https://www.investors.com/market-trend/stock-market-today/: 403\n"
     ]
    },
    {
     "name": "stderr",
     "output_type": "stream",
     "text": [
      "  4%|██▉                                                                             | 85/2300 [00:21<07:45,  4.76it/s]"
     ]
    },
    {
     "name": "stdout",
     "output_type": "stream",
     "text": [
      "Error fetching articles from https://www.reuters.com/technology/: 401\n",
      "Error fetching articles from https://www.marketwatch.com/latest-news: 401\n"
     ]
    },
    {
     "name": "stderr",
     "output_type": "stream",
     "text": [
      "  4%|███                                                                             | 89/2300 [00:21<07:31,  4.90it/s]"
     ]
    },
    {
     "name": "stdout",
     "output_type": "stream",
     "text": [
      "Error fetching articles from https://www.wsj.com/news/markets: 401\n"
     ]
    },
    {
     "name": "stderr",
     "output_type": "stream",
     "text": [
      "  4%|███▎                                                                            | 97/2300 [00:25<09:01,  4.07it/s]"
     ]
    },
    {
     "name": "stdout",
     "output_type": "stream",
     "text": [
      "Error fetching articles from https://www.investing.com/news/stock-market-news for AI: 'href'\n"
     ]
    },
    {
     "name": "stderr",
     "output_type": "stream",
     "text": [
      "  4%|███▍                                                                           | 100/2300 [00:26<10:32,  3.48it/s]"
     ]
    },
    {
     "name": "stdout",
     "output_type": "stream",
     "text": [
      "Error fetching articles from https://www.thestreet.com/markets: 404Error fetching articles from https://www.zacks.com/investment-news: 404\n",
      "\n"
     ]
    },
    {
     "name": "stderr",
     "output_type": "stream",
     "text": [
      "  4%|███▌                                                                           | 103/2300 [00:27<08:48,  4.16it/s]"
     ]
    },
    {
     "name": "stdout",
     "output_type": "stream",
     "text": [
      "Error fetching articles from https://www.morningstar.com/market-news: 404\n",
      "Error fetching articles from https://www.investors.com/market-trend/stock-market-today/: 403\n"
     ]
    },
    {
     "name": "stderr",
     "output_type": "stream",
     "text": [
      "  5%|███▋                                                                           | 107/2300 [00:27<06:29,  5.63it/s]"
     ]
    },
    {
     "name": "stdout",
     "output_type": "stream",
     "text": [
      "Error fetching articles from https://www.reuters.com/technology/: 401\n"
     ]
    },
    {
     "name": "stderr",
     "output_type": "stream",
     "text": [
      "  5%|███▊                                                                           | 111/2300 [00:28<07:53,  4.63it/s]"
     ]
    },
    {
     "name": "stdout",
     "output_type": "stream",
     "text": [
      "Error fetching articles from https://www.marketwatch.com/latest-news: 401\n",
      "Error fetching articles from https://www.wsj.com/news/markets: 401\n"
     ]
    },
    {
     "name": "stderr",
     "output_type": "stream",
     "text": [
      "  5%|████                                                                           | 120/2300 [00:31<09:05,  3.99it/s]"
     ]
    },
    {
     "name": "stdout",
     "output_type": "stream",
     "text": [
      "Error fetching articles from https://www.investing.com/news/stock-market-news for GOOG: 'href'\n"
     ]
    },
    {
     "name": "stderr",
     "output_type": "stream",
     "text": [
      "  5%|████▎                                                                          | 124/2300 [00:32<06:15,  5.79it/s]"
     ]
    },
    {
     "name": "stdout",
     "output_type": "stream",
     "text": [
      "Error fetching articles from https://www.thestreet.com/markets: 404\n",
      "Error fetching articles from https://www.morningstar.com/market-news: 404\n"
     ]
    },
    {
     "name": "stderr",
     "output_type": "stream",
     "text": [
      "  5%|████▎                                                                          | 125/2300 [00:32<08:21,  4.33it/s]"
     ]
    },
    {
     "name": "stdout",
     "output_type": "stream",
     "text": [
      "Error fetching articles from https://www.zacks.com/investment-news: 404\n"
     ]
    },
    {
     "name": "stderr",
     "output_type": "stream",
     "text": [
      "  6%|████▍                                                                          | 129/2300 [00:33<07:03,  5.13it/s]"
     ]
    },
    {
     "name": "stdout",
     "output_type": "stream",
     "text": [
      "Error fetching articles from https://www.investors.com/market-trend/stock-market-today/: 403\n"
     ]
    },
    {
     "name": "stderr",
     "output_type": "stream",
     "text": [
      "  6%|████▌                                                                          | 132/2300 [00:33<05:30,  6.55it/s]"
     ]
    },
    {
     "name": "stdout",
     "output_type": "stream",
     "text": [
      "Error fetching articles from https://www.reuters.com/technology/: 401\n"
     ]
    },
    {
     "name": "stderr",
     "output_type": "stream",
     "text": [
      "  6%|████▌                                                                          | 133/2300 [00:33<07:00,  5.15it/s]"
     ]
    },
    {
     "name": "stdout",
     "output_type": "stream",
     "text": [
      "Error fetching articles from https://www.marketwatch.com/latest-news: 401\n"
     ]
    },
    {
     "name": "stderr",
     "output_type": "stream",
     "text": [
      "  6%|████▋                                                                          | 135/2300 [00:34<07:41,  4.69it/s]"
     ]
    },
    {
     "name": "stdout",
     "output_type": "stream",
     "text": [
      "Error fetching articles from https://www.wsj.com/news/markets: 401\n"
     ]
    },
    {
     "name": "stderr",
     "output_type": "stream",
     "text": [
      "  6%|████▉                                                                          | 143/2300 [00:37<09:57,  3.61it/s]"
     ]
    },
    {
     "name": "stdout",
     "output_type": "stream",
     "text": [
      "Error fetching articles from https://www.investing.com/news/stock-market-news for AMZN: 'href'\n"
     ]
    },
    {
     "name": "stderr",
     "output_type": "stream",
     "text": [
      "  6%|█████                                                                          | 146/2300 [00:38<07:43,  4.65it/s]"
     ]
    },
    {
     "name": "stdout",
     "output_type": "stream",
     "text": [
      "Error fetching articles from https://www.thestreet.com/markets: 404\n"
     ]
    },
    {
     "name": "stderr",
     "output_type": "stream",
     "text": [
      "  6%|█████                                                                          | 147/2300 [00:38<08:55,  4.02it/s]"
     ]
    },
    {
     "name": "stdout",
     "output_type": "stream",
     "text": [
      "Error fetching articles from https://www.zacks.com/investment-news: 404Error fetching articles from https://www.morningstar.com/market-news: 404\n",
      "\n"
     ]
    },
    {
     "name": "stderr",
     "output_type": "stream",
     "text": [
      "  7%|█████▏                                                                         | 150/2300 [00:39<08:05,  4.43it/s]"
     ]
    },
    {
     "name": "stdout",
     "output_type": "stream",
     "text": [
      "Error fetching articles from https://www.investors.com/market-trend/stock-market-today/: 403\n"
     ]
    },
    {
     "name": "stderr",
     "output_type": "stream",
     "text": [
      "  7%|█████▎                                                                         | 155/2300 [00:40<06:50,  5.22it/s]"
     ]
    },
    {
     "name": "stdout",
     "output_type": "stream",
     "text": [
      "Error fetching articles from https://www.reuters.com/technology/: 401\n"
     ]
    },
    {
     "name": "stderr",
     "output_type": "stream",
     "text": [
      "  7%|█████▎                                                                         | 156/2300 [00:40<08:26,  4.24it/s]"
     ]
    },
    {
     "name": "stdout",
     "output_type": "stream",
     "text": [
      "Error fetching articles from https://www.marketwatch.com/latest-news: 401\n"
     ]
    },
    {
     "name": "stderr",
     "output_type": "stream",
     "text": [
      "  7%|█████▍                                                                         | 157/2300 [00:41<09:47,  3.65it/s]"
     ]
    },
    {
     "name": "stdout",
     "output_type": "stream",
     "text": [
      "Error fetching articles from https://www.wsj.com/news/markets: 401\n"
     ]
    },
    {
     "name": "stderr",
     "output_type": "stream",
     "text": [
      "  7%|█████▋                                                                         | 167/2300 [00:44<08:15,  4.30it/s]"
     ]
    },
    {
     "name": "stdout",
     "output_type": "stream",
     "text": [
      "Error fetching articles from https://www.investing.com/news/stock-market-news for META: 'href'\n"
     ]
    },
    {
     "name": "stderr",
     "output_type": "stream",
     "text": [
      "  7%|█████▊                                                                         | 169/2300 [00:44<06:46,  5.24it/s]"
     ]
    },
    {
     "name": "stdout",
     "output_type": "stream",
     "text": [
      "Error fetching articles from https://www.zacks.com/investment-news: 404\n",
      "Error fetching articles from https://www.thestreet.com/markets: 404\n"
     ]
    },
    {
     "name": "stderr",
     "output_type": "stream",
     "text": [
      "  7%|█████▊                                                                         | 171/2300 [00:44<07:29,  4.73it/s]"
     ]
    },
    {
     "name": "stdout",
     "output_type": "stream",
     "text": [
      "Error fetching articles from https://www.morningstar.com/market-news: 404\n"
     ]
    },
    {
     "name": "stderr",
     "output_type": "stream",
     "text": [
      "  8%|█████▉                                                                         | 173/2300 [00:45<09:51,  3.60it/s]"
     ]
    },
    {
     "name": "stdout",
     "output_type": "stream",
     "text": [
      "Error fetching articles from https://www.investors.com/market-trend/stock-market-today/: 403\n"
     ]
    },
    {
     "name": "stderr",
     "output_type": "stream",
     "text": [
      "  8%|██████                                                                         | 177/2300 [00:46<10:00,  3.53it/s]"
     ]
    },
    {
     "name": "stdout",
     "output_type": "stream",
     "text": [
      "Error fetching articles from https://www.reuters.com/technology/: 401\n"
     ]
    },
    {
     "name": "stderr",
     "output_type": "stream",
     "text": [
      "  8%|██████▏                                                                        | 179/2300 [00:47<06:43,  5.25it/s]"
     ]
    },
    {
     "name": "stdout",
     "output_type": "stream",
     "text": [
      "Error fetching articles from https://www.marketwatch.com/latest-news: 401\n",
      "Error fetching articles from https://www.wsj.com/news/markets: 401\n"
     ]
    },
    {
     "name": "stderr",
     "output_type": "stream",
     "text": [
      "  8%|██████▍                                                                        | 188/2300 [00:50<09:50,  3.58it/s]"
     ]
    },
    {
     "name": "stdout",
     "output_type": "stream",
     "text": [
      "Error fetching articles from https://www.investing.com/news/stock-market-news for TSM: 'href'\n"
     ]
    },
    {
     "name": "stderr",
     "output_type": "stream",
     "text": [
      "  8%|██████▌                                                                        | 191/2300 [00:51<11:10,  3.14it/s]"
     ]
    },
    {
     "name": "stdout",
     "output_type": "stream",
     "text": [
      "Error fetching articles from https://www.zacks.com/investment-news: 404\n"
     ]
    },
    {
     "name": "stderr",
     "output_type": "stream",
     "text": [
      "  8%|██████▋                                                                        | 194/2300 [00:52<09:46,  3.59it/s]"
     ]
    },
    {
     "name": "stdout",
     "output_type": "stream",
     "text": [
      "Error fetching articles from https://www.thestreet.com/markets: 404\n",
      "Error fetching articles from https://www.morningstar.com/market-news: 404\n"
     ]
    },
    {
     "name": "stderr",
     "output_type": "stream",
     "text": [
      "  9%|██████▊                                                                        | 198/2300 [00:52<05:20,  6.55it/s]"
     ]
    },
    {
     "name": "stdout",
     "output_type": "stream",
     "text": [
      "Error fetching articles from https://www.investors.com/market-trend/stock-market-today/: 403\n"
     ]
    },
    {
     "name": "stderr",
     "output_type": "stream",
     "text": [
      "  9%|██████▉                                                                        | 201/2300 [00:53<06:09,  5.69it/s]"
     ]
    },
    {
     "name": "stdout",
     "output_type": "stream",
     "text": [
      "Error fetching articles from https://www.reuters.com/technology/: 401\n",
      "Error fetching articles from https://www.marketwatch.com/latest-news: 401\n"
     ]
    },
    {
     "name": "stderr",
     "output_type": "stream",
     "text": [
      "  9%|██████▉                                                                        | 203/2300 [00:53<08:41,  4.02it/s]"
     ]
    },
    {
     "name": "stdout",
     "output_type": "stream",
     "text": [
      "Error fetching articles from https://www.wsj.com/news/markets: 401\n"
     ]
    },
    {
     "name": "stderr",
     "output_type": "stream",
     "text": [
      "  9%|███████▎                                                                       | 212/2300 [00:56<11:52,  2.93it/s]"
     ]
    },
    {
     "name": "stdout",
     "output_type": "stream",
     "text": [
      "Error fetching articles from https://www.investing.com/news/stock-market-news for TSLA: 'href'\n"
     ]
    },
    {
     "name": "stderr",
     "output_type": "stream",
     "text": [
      "  9%|███████▍                                                                       | 217/2300 [00:57<05:22,  6.45it/s]"
     ]
    },
    {
     "name": "stdout",
     "output_type": "stream",
     "text": [
      "Error fetching articles from https://www.zacks.com/investment-news: 404\n",
      "Error fetching articles from https://www.thestreet.com/markets: 404\n"
     ]
    },
    {
     "name": "stderr",
     "output_type": "stream",
     "text": [
      " 10%|███████▌                                                                       | 219/2300 [00:57<06:57,  4.99it/s]"
     ]
    },
    {
     "name": "stdout",
     "output_type": "stream",
     "text": [
      "Error fetching articles from https://www.morningstar.com/market-news: 404\n",
      "Error fetching articles from https://www.investors.com/market-trend/stock-market-today/: 403\n"
     ]
    },
    {
     "name": "stderr",
     "output_type": "stream",
     "text": [
      " 10%|███████▋                                                                       | 222/2300 [00:58<07:43,  4.49it/s]"
     ]
    },
    {
     "name": "stdout",
     "output_type": "stream",
     "text": [
      "Error fetching articles from https://www.reuters.com/technology/: 401\n"
     ]
    },
    {
     "name": "stderr",
     "output_type": "stream",
     "text": [
      " 10%|███████▋                                                                       | 225/2300 [00:58<07:12,  4.80it/s]"
     ]
    },
    {
     "name": "stdout",
     "output_type": "stream",
     "text": [
      "Error fetching articles from https://www.marketwatch.com/latest-news: 401\n"
     ]
    },
    {
     "name": "stderr",
     "output_type": "stream",
     "text": [
      " 10%|███████▊                                                                       | 226/2300 [00:59<09:09,  3.77it/s]"
     ]
    },
    {
     "name": "stdout",
     "output_type": "stream",
     "text": [
      "Error fetching articles from https://www.wsj.com/news/markets: 401\n"
     ]
    },
    {
     "name": "stderr",
     "output_type": "stream",
     "text": [
      " 10%|████████                                                                       | 233/2300 [01:02<12:22,  2.78it/s]"
     ]
    },
    {
     "name": "stdout",
     "output_type": "stream",
     "text": [
      "Error fetching articles from https://www.investing.com/news/stock-market-news for PINS: 'href'\n",
      "Error fetching articles from https://seekingalpha.com/market-news: 403\n"
     ]
    },
    {
     "name": "stderr",
     "output_type": "stream",
     "text": [
      " 10%|████████▏                                                                      | 240/2300 [01:03<05:53,  5.83it/s]"
     ]
    },
    {
     "name": "stdout",
     "output_type": "stream",
     "text": [
      "Error fetching articles from https://www.thestreet.com/markets: 404\n",
      "Error fetching articles from https://www.morningstar.com/market-news: 404\n"
     ]
    },
    {
     "name": "stderr",
     "output_type": "stream",
     "text": [
      " 10%|████████▎                                                                      | 241/2300 [01:03<06:20,  5.41it/s]"
     ]
    },
    {
     "name": "stdout",
     "output_type": "stream",
     "text": [
      "Error fetching articles from https://www.zacks.com/investment-news: 404\n",
      "Error fetching articles from https://www.investors.com/market-trend/stock-market-today/: 403\n"
     ]
    },
    {
     "name": "stderr",
     "output_type": "stream",
     "text": [
      " 11%|████████▍                                                                      | 245/2300 [01:05<10:29,  3.27it/s]"
     ]
    },
    {
     "name": "stdout",
     "output_type": "stream",
     "text": [
      "Error fetching articles from https://www.reuters.com/technology/: 401\n"
     ]
    },
    {
     "name": "stderr",
     "output_type": "stream",
     "text": [
      " 11%|████████▍                                                                      | 247/2300 [01:05<09:36,  3.56it/s]"
     ]
    },
    {
     "name": "stdout",
     "output_type": "stream",
     "text": [
      "Error fetching articles from https://www.marketwatch.com/latest-news: 401\n"
     ]
    },
    {
     "name": "stderr",
     "output_type": "stream",
     "text": [
      " 11%|████████▌                                                                      | 250/2300 [01:06<09:12,  3.71it/s]"
     ]
    },
    {
     "name": "stdout",
     "output_type": "stream",
     "text": [
      "Error fetching articles from https://www.wsj.com/news/markets: 401\n"
     ]
    },
    {
     "name": "stderr",
     "output_type": "stream",
     "text": [
      " 11%|████████▊                                                                      | 257/2300 [01:09<08:37,  3.94it/s]"
     ]
    },
    {
     "name": "stdout",
     "output_type": "stream",
     "text": [
      "Error fetching articles from https://www.investing.com/news/stock-market-news for IBM: 'href'\n"
     ]
    },
    {
     "name": "stderr",
     "output_type": "stream",
     "text": [
      " 11%|████████▉                                                                      | 261/2300 [01:10<09:41,  3.50it/s]"
     ]
    },
    {
     "name": "stdout",
     "output_type": "stream",
     "text": [
      "Error fetching articles from https://www.zacks.com/investment-news: 404\n",
      "Error fetching articles from https://www.thestreet.com/markets: 404\n",
      "Error fetching articles from https://www.morningstar.com/market-news: 404\n"
     ]
    },
    {
     "name": "stderr",
     "output_type": "stream",
     "text": [
      " 12%|█████████                                                                      | 265/2300 [01:11<09:50,  3.45it/s]"
     ]
    },
    {
     "name": "stdout",
     "output_type": "stream",
     "text": [
      "Error fetching articles from https://www.investors.com/market-trend/stock-market-today/: 403\n"
     ]
    },
    {
     "name": "stderr",
     "output_type": "stream",
     "text": [
      " 12%|█████████▏                                                                     | 268/2300 [01:12<08:20,  4.06it/s]"
     ]
    },
    {
     "name": "stdout",
     "output_type": "stream",
     "text": [
      "Error fetching articles from https://www.reuters.com/technology/: 401\n",
      "Error fetching articles from https://www.marketwatch.com/latest-news: 401\n"
     ]
    },
    {
     "name": "stderr",
     "output_type": "stream",
     "text": [
      " 12%|█████████▎                                                                     | 271/2300 [01:12<07:55,  4.27it/s]"
     ]
    },
    {
     "name": "stdout",
     "output_type": "stream",
     "text": [
      "Error fetching articles from https://www.wsj.com/news/markets: 401\n"
     ]
    },
    {
     "name": "stderr",
     "output_type": "stream",
     "text": [
      " 12%|█████████▋                                                                     | 282/2300 [01:15<07:16,  4.63it/s]"
     ]
    },
    {
     "name": "stdout",
     "output_type": "stream",
     "text": [
      "Error fetching articles from https://www.investing.com/news/stock-market-news for PFE: 'href'\n"
     ]
    },
    {
     "name": "stderr",
     "output_type": "stream",
     "text": [
      " 12%|█████████▊                                                                     | 284/2300 [01:15<05:39,  5.95it/s]"
     ]
    },
    {
     "name": "stdout",
     "output_type": "stream",
     "text": [
      "Error fetching articles from https://www.thestreet.com/markets: 404\n"
     ]
    },
    {
     "name": "stderr",
     "output_type": "stream",
     "text": [
      " 13%|█████████▉                                                                     | 288/2300 [01:16<04:51,  6.91it/s]"
     ]
    },
    {
     "name": "stdout",
     "output_type": "stream",
     "text": [
      "Error fetching articles from https://www.morningstar.com/market-news: 404\n",
      "Error fetching articles from https://www.zacks.com/investment-news: 404\n"
     ]
    },
    {
     "name": "stderr",
     "output_type": "stream",
     "text": [
      " 13%|█████████▉                                                                     | 289/2300 [01:16<05:59,  5.60it/s]"
     ]
    },
    {
     "name": "stdout",
     "output_type": "stream",
     "text": [
      "Error fetching articles from https://www.investors.com/market-trend/stock-market-today/: 403\n"
     ]
    },
    {
     "name": "stderr",
     "output_type": "stream",
     "text": [
      " 13%|██████████                                                                     | 294/2300 [01:17<04:42,  7.11it/s]"
     ]
    },
    {
     "name": "stdout",
     "output_type": "stream",
     "text": [
      "Error fetching articles from https://www.reuters.com/technology/: 401\n",
      "Error fetching articles from https://www.marketwatch.com/latest-news: 401\n"
     ]
    },
    {
     "name": "stderr",
     "output_type": "stream",
     "text": [
      " 13%|██████████▏                                                                    | 295/2300 [01:17<06:40,  5.00it/s]"
     ]
    },
    {
     "name": "stdout",
     "output_type": "stream",
     "text": [
      "Error fetching articles from https://www.wsj.com/news/markets: 401\n"
     ]
    },
    {
     "name": "stderr",
     "output_type": "stream",
     "text": [
      " 13%|██████████▎                                                                    | 300/2300 [01:21<16:23,  2.03it/s]"
     ]
    },
    {
     "name": "stdout",
     "output_type": "stream",
     "text": [
      "Error fetching articles from https://seekingalpha.com/market-news: 403\n"
     ]
    },
    {
     "name": "stderr",
     "output_type": "stream",
     "text": [
      " 13%|██████████▍                                                                    | 304/2300 [01:21<07:34,  4.39it/s]"
     ]
    },
    {
     "name": "stdout",
     "output_type": "stream",
     "text": [
      "Error fetching articles from https://www.investing.com/news/stock-market-news for VZ: 'href'\n"
     ]
    },
    {
     "name": "stderr",
     "output_type": "stream",
     "text": [
      " 13%|██████████▍                                                                    | 305/2300 [01:22<10:46,  3.08it/s]"
     ]
    },
    {
     "name": "stdout",
     "output_type": "stream",
     "text": [
      "Error fetching articles from https://www.zacks.com/investment-news: 404\n"
     ]
    },
    {
     "name": "stderr",
     "output_type": "stream",
     "text": [
      " 13%|██████████▌                                                                    | 308/2300 [01:23<08:40,  3.83it/s]"
     ]
    },
    {
     "name": "stdout",
     "output_type": "stream",
     "text": [
      "Error fetching articles from https://www.thestreet.com/markets: 404\n",
      "Error fetching articles from https://www.morningstar.com/market-news: 404\n"
     ]
    },
    {
     "name": "stderr",
     "output_type": "stream",
     "text": [
      " 14%|██████████▋                                                                    | 312/2300 [01:23<05:21,  6.18it/s]"
     ]
    },
    {
     "name": "stdout",
     "output_type": "stream",
     "text": [
      "Error fetching articles from https://www.investors.com/market-trend/stock-market-today/: 403\n"
     ]
    },
    {
     "name": "stderr",
     "output_type": "stream",
     "text": [
      " 14%|██████████▊                                                                    | 316/2300 [01:24<06:10,  5.35it/s]"
     ]
    },
    {
     "name": "stdout",
     "output_type": "stream",
     "text": [
      "Error fetching articles from https://www.reuters.com/technology/: 401\n"
     ]
    },
    {
     "name": "stderr",
     "output_type": "stream",
     "text": [
      " 14%|██████████▉                                                                    | 318/2300 [01:24<06:25,  5.14it/s]"
     ]
    },
    {
     "name": "stdout",
     "output_type": "stream",
     "text": [
      "Error fetching articles from https://www.marketwatch.com/latest-news: 401\n"
     ]
    },
    {
     "name": "stderr",
     "output_type": "stream",
     "text": [
      " 14%|██████████▉                                                                    | 319/2300 [01:25<08:01,  4.12it/s]"
     ]
    },
    {
     "name": "stdout",
     "output_type": "stream",
     "text": [
      "Error fetching articles from https://www.wsj.com/news/markets: 401\n"
     ]
    },
    {
     "name": "stderr",
     "output_type": "stream",
     "text": [
      " 14%|███████████▏                                                                   | 326/2300 [01:27<10:20,  3.18it/s]"
     ]
    },
    {
     "name": "stdout",
     "output_type": "stream",
     "text": [
      "Error fetching articles from https://www.investing.com/news/stock-market-news for PDD: 'href'\n"
     ]
    },
    {
     "name": "stderr",
     "output_type": "stream",
     "text": [
      " 14%|███████████▎                                                                   | 330/2300 [01:28<07:06,  4.62it/s]"
     ]
    },
    {
     "name": "stdout",
     "output_type": "stream",
     "text": [
      "Error fetching articles from https://www.thestreet.com/markets: 404\n",
      "Error fetching articles from https://www.zacks.com/investment-news: 404\n"
     ]
    },
    {
     "name": "stderr",
     "output_type": "stream",
     "text": [
      " 14%|███████████▍                                                                   | 332/2300 [01:28<06:24,  5.11it/s]"
     ]
    },
    {
     "name": "stdout",
     "output_type": "stream",
     "text": [
      "Error fetching articles from https://www.morningstar.com/market-news: 404\n"
     ]
    },
    {
     "name": "stderr",
     "output_type": "stream",
     "text": [
      " 15%|███████████▌                                                                   | 336/2300 [01:29<06:32,  5.00it/s]"
     ]
    },
    {
     "name": "stdout",
     "output_type": "stream",
     "text": [
      "Error fetching articles from https://www.investors.com/market-trend/stock-market-today/: 403\n"
     ]
    },
    {
     "name": "stderr",
     "output_type": "stream",
     "text": [
      " 15%|███████████▋                                                                   | 340/2300 [01:30<04:38,  7.04it/s]"
     ]
    },
    {
     "name": "stdout",
     "output_type": "stream",
     "text": [
      "Error fetching articles from https://www.reuters.com/technology/: 401\n",
      "Error fetching articles from https://www.marketwatch.com/latest-news: 401\n"
     ]
    },
    {
     "name": "stderr",
     "output_type": "stream",
     "text": [
      " 15%|███████████▋                                                                   | 342/2300 [01:30<04:50,  6.73it/s]"
     ]
    },
    {
     "name": "stdout",
     "output_type": "stream",
     "text": [
      "Error fetching articles from https://www.wsj.com/news/markets: 401\n"
     ]
    },
    {
     "name": "stderr",
     "output_type": "stream",
     "text": [
      " 15%|████████████                                                                   | 350/2300 [01:34<09:58,  3.26it/s]"
     ]
    },
    {
     "name": "stdout",
     "output_type": "stream",
     "text": [
      "Error fetching articles from https://www.investing.com/news/stock-market-news for DIS: 'href'\n"
     ]
    },
    {
     "name": "stderr",
     "output_type": "stream",
     "text": [
      " 15%|████████████                                                                   | 352/2300 [01:34<09:04,  3.58it/s]"
     ]
    },
    {
     "name": "stdout",
     "output_type": "stream",
     "text": [
      "Error fetching articles from https://www.thestreet.com/markets: 404\n"
     ]
    },
    {
     "name": "stderr",
     "output_type": "stream",
     "text": [
      " 15%|████████████                                                                   | 353/2300 [01:35<10:10,  3.19it/s]"
     ]
    },
    {
     "name": "stdout",
     "output_type": "stream",
     "text": [
      "Error fetching articles from https://www.zacks.com/investment-news: 404\n"
     ]
    },
    {
     "name": "stderr",
     "output_type": "stream",
     "text": [
      " 15%|████████████▏                                                                  | 356/2300 [01:36<07:59,  4.05it/s]"
     ]
    },
    {
     "name": "stdout",
     "output_type": "stream",
     "text": [
      "Error fetching articles from https://www.morningstar.com/market-news: 404\n"
     ]
    },
    {
     "name": "stderr",
     "output_type": "stream",
     "text": [
      " 16%|████████████▎                                                                  | 358/2300 [01:36<06:29,  4.99it/s]"
     ]
    },
    {
     "name": "stdout",
     "output_type": "stream",
     "text": [
      "Error fetching articles from https://www.investors.com/market-trend/stock-market-today/: 403\n"
     ]
    },
    {
     "name": "stderr",
     "output_type": "stream",
     "text": [
      " 16%|████████████▍                                                                  | 361/2300 [01:37<07:44,  4.17it/s]"
     ]
    },
    {
     "name": "stdout",
     "output_type": "stream",
     "text": [
      "Error fetching articles from https://www.reuters.com/technology/: 401\n"
     ]
    },
    {
     "name": "stderr",
     "output_type": "stream",
     "text": [
      " 16%|████████████▍                                                                  | 363/2300 [01:37<07:52,  4.10it/s]"
     ]
    },
    {
     "name": "stdout",
     "output_type": "stream",
     "text": [
      "Error fetching articles from https://www.marketwatch.com/latest-news: 401\n",
      "Error fetching articles from https://www.wsj.com/news/markets: 401\n"
     ]
    },
    {
     "name": "stderr",
     "output_type": "stream",
     "text": [
      " 16%|████████████▊                                                                  | 373/2300 [01:40<05:40,  5.66it/s]"
     ]
    },
    {
     "name": "stdout",
     "output_type": "stream",
     "text": [
      "Error fetching articles from https://seekingalpha.com/market-news: 403\n",
      "Error fetching articles from https://www.investing.com/news/stock-market-news for NOW: 'href'\n"
     ]
    },
    {
     "name": "stderr",
     "output_type": "stream",
     "text": [
      " 16%|████████████▉                                                                  | 375/2300 [01:41<06:27,  4.97it/s]"
     ]
    },
    {
     "name": "stdout",
     "output_type": "stream",
     "text": [
      "Error fetching articles from https://www.thestreet.com/markets: 404\n",
      "Error fetching articles from https://www.zacks.com/investment-news: 404\n"
     ]
    },
    {
     "name": "stderr",
     "output_type": "stream",
     "text": [
      " 16%|█████████████                                                                  | 379/2300 [01:41<06:00,  5.33it/s]"
     ]
    },
    {
     "name": "stdout",
     "output_type": "stream",
     "text": [
      "Error fetching articles from https://www.morningstar.com/market-news: 404\n"
     ]
    },
    {
     "name": "stderr",
     "output_type": "stream",
     "text": [
      " 17%|█████████████                                                                  | 380/2300 [01:42<07:07,  4.49it/s]"
     ]
    },
    {
     "name": "stdout",
     "output_type": "stream",
     "text": [
      "Error fetching articles from https://www.investors.com/market-trend/stock-market-today/: 403\n"
     ]
    },
    {
     "name": "stderr",
     "output_type": "stream",
     "text": [
      " 17%|█████████████▏                                                                 | 383/2300 [01:42<06:44,  4.73it/s]"
     ]
    },
    {
     "name": "stdout",
     "output_type": "stream",
     "text": [
      "Error fetching articles from https://www.reuters.com/technology/: 401\n"
     ]
    },
    {
     "name": "stderr",
     "output_type": "stream",
     "text": [
      " 17%|█████████████▏                                                                 | 385/2300 [01:43<06:55,  4.60it/s]"
     ]
    },
    {
     "name": "stdout",
     "output_type": "stream",
     "text": [
      "Error fetching articles from https://www.marketwatch.com/latest-news: 401\n",
      "Error fetching articles from https://www.wsj.com/news/markets: 401\n"
     ]
    },
    {
     "name": "stderr",
     "output_type": "stream",
     "text": [
      " 17%|█████████████▍                                                                 | 392/2300 [01:45<09:16,  3.43it/s]"
     ]
    },
    {
     "name": "stdout",
     "output_type": "stream",
     "text": [
      "Error fetching articles from https://seekingalpha.com/market-news: 403\n"
     ]
    },
    {
     "name": "stderr",
     "output_type": "stream",
     "text": [
      " 17%|█████████████▌                                                                 | 396/2300 [01:47<10:18,  3.08it/s]"
     ]
    },
    {
     "name": "stdout",
     "output_type": "stream",
     "text": [
      "Error fetching articles from https://www.investing.com/news/stock-market-news for BABA: 'href'\n"
     ]
    },
    {
     "name": "stderr",
     "output_type": "stream",
     "text": [
      " 17%|█████████████▋                                                                 | 400/2300 [01:47<06:12,  5.10it/s]"
     ]
    },
    {
     "name": "stdout",
     "output_type": "stream",
     "text": [
      "Error fetching articles from https://www.thestreet.com/markets: 404\n",
      "Error fetching articles from https://www.morningstar.com/market-news: 404\n"
     ]
    },
    {
     "name": "stderr",
     "output_type": "stream",
     "text": [
      " 18%|█████████████▉                                                                 | 404/2300 [01:48<04:56,  6.40it/s]"
     ]
    },
    {
     "name": "stdout",
     "output_type": "stream",
     "text": [
      "Error fetching articles from https://www.investors.com/market-trend/stock-market-today/: 403Error fetching articles from https://www.zacks.com/investment-news: 404\n",
      "\n"
     ]
    },
    {
     "name": "stderr",
     "output_type": "stream",
     "text": [
      " 18%|██████████████                                                                 | 409/2300 [01:49<05:00,  6.30it/s]"
     ]
    },
    {
     "name": "stdout",
     "output_type": "stream",
     "text": [
      "Error fetching articles from https://www.reuters.com/technology/: 401\n",
      "Error fetching articles from https://www.marketwatch.com/latest-news: 401\n"
     ]
    },
    {
     "name": "stderr",
     "output_type": "stream",
     "text": [
      " 18%|██████████████                                                                 | 410/2300 [01:49<06:06,  5.15it/s]"
     ]
    },
    {
     "name": "stdout",
     "output_type": "stream",
     "text": [
      "Error fetching articles from https://www.wsj.com/news/markets: 401\n"
     ]
    },
    {
     "name": "stderr",
     "output_type": "stream",
     "text": [
      " 18%|██████████████▍                                                                | 422/2300 [01:54<08:27,  3.70it/s]"
     ]
    },
    {
     "name": "stdout",
     "output_type": "stream",
     "text": [
      "Error fetching articles from https://www.investing.com/news/stock-market-news for BX: 'href'\n",
      "Error fetching articles from https://www.thestreet.com/markets: 404\n",
      "Error fetching articles from https://www.zacks.com/investment-news: 404\n"
     ]
    },
    {
     "name": "stderr",
     "output_type": "stream",
     "text": [
      " 19%|██████████████▋                                                                | 426/2300 [01:54<04:49,  6.48it/s]"
     ]
    },
    {
     "name": "stdout",
     "output_type": "stream",
     "text": [
      "Error fetching articles from https://www.morningstar.com/market-news: 404\n",
      "Error fetching articles from https://www.investors.com/market-trend/stock-market-today/: 403\n"
     ]
    },
    {
     "name": "stderr",
     "output_type": "stream",
     "text": [
      " 19%|██████████████▊                                                                | 431/2300 [01:56<06:11,  5.03it/s]"
     ]
    },
    {
     "name": "stdout",
     "output_type": "stream",
     "text": [
      "Error fetching articles from https://www.reuters.com/technology/: 401\n"
     ]
    },
    {
     "name": "stderr",
     "output_type": "stream",
     "text": [
      " 19%|██████████████▊                                                                | 432/2300 [01:56<06:19,  4.92it/s]"
     ]
    },
    {
     "name": "stdout",
     "output_type": "stream",
     "text": [
      "Error fetching articles from https://www.marketwatch.com/latest-news: 401\n"
     ]
    },
    {
     "name": "stderr",
     "output_type": "stream",
     "text": [
      " 19%|██████████████▊                                                                | 433/2300 [01:56<08:52,  3.50it/s]"
     ]
    },
    {
     "name": "stdout",
     "output_type": "stream",
     "text": [
      "Error fetching articles from https://www.wsj.com/news/markets: 401\n"
     ]
    },
    {
     "name": "stderr",
     "output_type": "stream",
     "text": [
      " 19%|███████████████▏                                                               | 443/2300 [01:59<06:57,  4.45it/s]"
     ]
    },
    {
     "name": "stdout",
     "output_type": "stream",
     "text": [
      "Error fetching articles from https://www.investing.com/news/stock-market-news for MS: 'href'\n",
      "Error fetching articles from https://www.thestreet.com/markets: 404\n"
     ]
    },
    {
     "name": "stderr",
     "output_type": "stream",
     "text": [
      " 19%|███████████████▎                                                               | 446/2300 [02:00<06:55,  4.46it/s]"
     ]
    },
    {
     "name": "stdout",
     "output_type": "stream",
     "text": [
      "Error fetching articles from https://www.morningstar.com/market-news: 404\n",
      "Error fetching articles from https://www.zacks.com/investment-news: 404\n"
     ]
    },
    {
     "name": "stderr",
     "output_type": "stream",
     "text": [
      " 20%|███████████████▍                                                               | 449/2300 [02:01<05:21,  5.76it/s]"
     ]
    },
    {
     "name": "stdout",
     "output_type": "stream",
     "text": [
      "Error fetching articles from https://www.investors.com/market-trend/stock-market-today/: 403\n"
     ]
    },
    {
     "name": "stderr",
     "output_type": "stream",
     "text": [
      " 20%|███████████████▌                                                               | 454/2300 [02:02<06:19,  4.86it/s]"
     ]
    },
    {
     "name": "stdout",
     "output_type": "stream",
     "text": [
      "Error fetching articles from https://www.reuters.com/technology/: 401\n",
      "Error fetching articles from https://www.marketwatch.com/latest-news: 401\n"
     ]
    },
    {
     "name": "stderr",
     "output_type": "stream",
     "text": [
      " 20%|███████████████▋                                                               | 456/2300 [02:02<08:02,  3.82it/s]"
     ]
    },
    {
     "name": "stdout",
     "output_type": "stream",
     "text": [
      "Error fetching articles from https://www.wsj.com/news/markets: 401\n"
     ]
    },
    {
     "name": "stderr",
     "output_type": "stream",
     "text": [
      " 20%|████████████████                                                               | 467/2300 [02:07<11:13,  2.72it/s]"
     ]
    },
    {
     "name": "stdout",
     "output_type": "stream",
     "text": [
      "Error fetching articles from https://www.investing.com/news/stock-market-news for AMAT: 'href'\n"
     ]
    },
    {
     "name": "stderr",
     "output_type": "stream",
     "text": [
      " 20%|████████████████                                                               | 469/2300 [02:08<08:50,  3.45it/s]"
     ]
    },
    {
     "name": "stdout",
     "output_type": "stream",
     "text": [
      "Error fetching articles from https://www.thestreet.com/markets: 404\n"
     ]
    },
    {
     "name": "stderr",
     "output_type": "stream",
     "text": [
      " 21%|████████████████▏                                                              | 472/2300 [02:08<05:06,  5.96it/s]"
     ]
    },
    {
     "name": "stdout",
     "output_type": "stream",
     "text": [
      "Error fetching articles from https://www.zacks.com/investment-news: 404\n",
      "Error fetching articles from https://www.morningstar.com/market-news: 404\n",
      "Error fetching articles from https://www.investors.com/market-trend/stock-market-today/: 403\n"
     ]
    },
    {
     "name": "stderr",
     "output_type": "stream",
     "text": [
      " 21%|████████████████▎                                                              | 475/2300 [02:09<10:34,  2.88it/s]"
     ]
    },
    {
     "name": "stdout",
     "output_type": "stream",
     "text": [
      "Error fetching articles from https://www.reuters.com/technology/: 401\n",
      "Error fetching articles from https://www.marketwatch.com/latest-news: 401\n",
      "Error fetching articles from https://www.wsj.com/news/markets: 401\n"
     ]
    },
    {
     "name": "stderr",
     "output_type": "stream",
     "text": [
      " 21%|████████████████▉                                                              | 492/2300 [02:12<04:34,  6.60it/s]"
     ]
    },
    {
     "name": "stdout",
     "output_type": "stream",
     "text": [
      "Error fetching articles from https://www.investing.com/news/stock-market-news for CAT: 'href'\n",
      "Error fetching articles from https://www.thestreet.com/markets: 404\n",
      "Error fetching articles from https://www.morningstar.com/market-news: 404\n",
      "Error fetching articles from https://www.zacks.com/investment-news: 404\n"
     ]
    },
    {
     "name": "stderr",
     "output_type": "stream",
     "text": [
      " 22%|█████████████████                                                              | 496/2300 [02:13<05:32,  5.42it/s]"
     ]
    },
    {
     "name": "stdout",
     "output_type": "stream",
     "text": [
      "Error fetching articles from https://www.investors.com/market-trend/stock-market-today/: 403\n"
     ]
    },
    {
     "name": "stderr",
     "output_type": "stream",
     "text": [
      " 22%|█████████████████                                                              | 498/2300 [02:14<07:06,  4.22it/s]"
     ]
    },
    {
     "name": "stdout",
     "output_type": "stream",
     "text": [
      "Error fetching articles from https://www.reuters.com/technology/: 401\n"
     ]
    },
    {
     "name": "stderr",
     "output_type": "stream",
     "text": [
      " 22%|█████████████████▏                                                             | 501/2300 [02:15<06:57,  4.31it/s]"
     ]
    },
    {
     "name": "stdout",
     "output_type": "stream",
     "text": [
      "Error fetching articles from https://www.marketwatch.com/latest-news: 401\n"
     ]
    },
    {
     "name": "stderr",
     "output_type": "stream",
     "text": [
      " 22%|█████████████████▏                                                             | 502/2300 [02:15<07:17,  4.11it/s]"
     ]
    },
    {
     "name": "stdout",
     "output_type": "stream",
     "text": [
      "Error fetching articles from https://www.wsj.com/news/markets: 401\n"
     ]
    },
    {
     "name": "stderr",
     "output_type": "stream",
     "text": [
      " 22%|█████████████████▌                                                             | 512/2300 [02:19<09:12,  3.24it/s]"
     ]
    },
    {
     "name": "stdout",
     "output_type": "stream",
     "text": [
      "Error fetching articles from https://www.investing.com/news/stock-market-news for GS: 'href'\n"
     ]
    },
    {
     "name": "stderr",
     "output_type": "stream",
     "text": [
      " 22%|█████████████████▋                                                             | 515/2300 [02:20<07:33,  3.94it/s]"
     ]
    },
    {
     "name": "stdout",
     "output_type": "stream",
     "text": [
      "Error fetching articles from https://www.thestreet.com/markets: 404\n",
      "Error fetching articles from https://www.morningstar.com/market-news: 404\n",
      "Error fetching articles from https://www.zacks.com/investment-news: 404\n"
     ]
    },
    {
     "name": "stderr",
     "output_type": "stream",
     "text": [
      " 23%|█████████████████▊                                                             | 520/2300 [02:20<05:00,  5.92it/s]"
     ]
    },
    {
     "name": "stdout",
     "output_type": "stream",
     "text": [
      "Error fetching articles from https://www.investors.com/market-trend/stock-market-today/: 403\n"
     ]
    },
    {
     "name": "stderr",
     "output_type": "stream",
     "text": [
      " 23%|█████████████████▉                                                             | 521/2300 [02:21<05:51,  5.06it/s]"
     ]
    },
    {
     "name": "stdout",
     "output_type": "stream",
     "text": [
      "Error fetching articles from https://www.reuters.com/technology/: 401\n"
     ]
    },
    {
     "name": "stderr",
     "output_type": "stream",
     "text": [
      " 23%|█████████████████▉                                                             | 523/2300 [02:21<08:03,  3.67it/s]"
     ]
    },
    {
     "name": "stdout",
     "output_type": "stream",
     "text": [
      "Error fetching articles from https://www.marketwatch.com/latest-news: 401\n"
     ]
    },
    {
     "name": "stderr",
     "output_type": "stream",
     "text": [
      " 23%|██████████████████                                                             | 527/2300 [02:22<06:20,  4.66it/s]"
     ]
    },
    {
     "name": "stdout",
     "output_type": "stream",
     "text": [
      "Error fetching articles from https://www.wsj.com/news/markets: 401\n"
     ]
    },
    {
     "name": "stderr",
     "output_type": "stream",
     "text": [
      " 23%|██████████████████▍                                                            | 536/2300 [02:25<06:33,  4.49it/s]"
     ]
    },
    {
     "name": "stdout",
     "output_type": "stream",
     "text": [
      "Error fetching articles from https://www.investing.com/news/stock-market-news for NEE: 'href'\n"
     ]
    },
    {
     "name": "stderr",
     "output_type": "stream",
     "text": [
      " 23%|██████████████████▌                                                            | 539/2300 [02:25<05:47,  5.07it/s]"
     ]
    },
    {
     "name": "stdout",
     "output_type": "stream",
     "text": [
      "Error fetching articles from https://www.thestreet.com/markets: 404\n",
      "Error fetching articles from https://www.morningstar.com/market-news: 404\n"
     ]
    },
    {
     "name": "stderr",
     "output_type": "stream",
     "text": [
      " 24%|██████████████████▌                                                            | 541/2300 [02:26<06:01,  4.87it/s]"
     ]
    },
    {
     "name": "stdout",
     "output_type": "stream",
     "text": [
      "Error fetching articles from https://www.investors.com/market-trend/stock-market-today/: 403\n",
      "Error fetching articles from https://www.zacks.com/investment-news: 404\n"
     ]
    },
    {
     "name": "stderr",
     "output_type": "stream",
     "text": [
      " 24%|██████████████████▋                                                            | 544/2300 [02:27<07:08,  4.10it/s]"
     ]
    },
    {
     "name": "stdout",
     "output_type": "stream",
     "text": [
      "Error fetching articles from https://www.reuters.com/technology/: 401\n"
     ]
    },
    {
     "name": "stderr",
     "output_type": "stream",
     "text": [
      " 24%|██████████████████▊                                                            | 546/2300 [02:27<06:36,  4.43it/s]"
     ]
    },
    {
     "name": "stdout",
     "output_type": "stream",
     "text": [
      "Error fetching articles from https://www.marketwatch.com/latest-news: 401\n"
     ]
    },
    {
     "name": "stderr",
     "output_type": "stream",
     "text": [
      " 24%|██████████████████▊                                                            | 549/2300 [02:27<05:32,  5.26it/s]"
     ]
    },
    {
     "name": "stdout",
     "output_type": "stream",
     "text": [
      "Error fetching articles from https://www.wsj.com/news/markets: 401\n"
     ]
    },
    {
     "name": "stderr",
     "output_type": "stream",
     "text": [
      " 24%|███████████████████▏                                                           | 557/2300 [02:31<09:12,  3.15it/s]"
     ]
    },
    {
     "name": "stdout",
     "output_type": "stream",
     "text": [
      "Error fetching articles from https://www.investing.com/news/stock-market-news for ISRG: 'href'\n"
     ]
    },
    {
     "name": "stderr",
     "output_type": "stream",
     "text": [
      " 24%|███████████████████▎                                                           | 562/2300 [02:33<06:12,  4.66it/s]"
     ]
    },
    {
     "name": "stdout",
     "output_type": "stream",
     "text": [
      "Error fetching articles from https://www.thestreet.com/markets: 404\n",
      "Error fetching articles from https://www.zacks.com/investment-news: 404\n",
      "Error fetching articles from https://www.morningstar.com/market-news: 404\n"
     ]
    },
    {
     "name": "stderr",
     "output_type": "stream",
     "text": [
      " 25%|███████████████████▎                                                           | 564/2300 [02:33<05:57,  4.85it/s]"
     ]
    },
    {
     "name": "stdout",
     "output_type": "stream",
     "text": [
      "Error fetching articles from https://www.investors.com/market-trend/stock-market-today/: 403\n"
     ]
    },
    {
     "name": "stderr",
     "output_type": "stream",
     "text": [
      " 25%|███████████████████▌                                                           | 568/2300 [02:34<06:58,  4.13it/s]"
     ]
    },
    {
     "name": "stdout",
     "output_type": "stream",
     "text": [
      "Error fetching articles from https://www.reuters.com/technology/: 401\n"
     ]
    },
    {
     "name": "stderr",
     "output_type": "stream",
     "text": [
      " 25%|███████████████████▌                                                           | 570/2300 [02:35<07:42,  3.74it/s]"
     ]
    },
    {
     "name": "stdout",
     "output_type": "stream",
     "text": [
      "Error fetching articles from https://www.marketwatch.com/latest-news: 401\n",
      "Error fetching articles from https://www.wsj.com/news/markets: 401\n"
     ]
    },
    {
     "name": "stderr",
     "output_type": "stream",
     "text": [
      " 25%|███████████████████▊                                                           | 577/2300 [02:36<04:06,  6.99it/s]"
     ]
    },
    {
     "name": "stdout",
     "output_type": "stream",
     "text": [
      "Error fetching articles from https://seekingalpha.com/market-news: 403\n"
     ]
    },
    {
     "name": "stderr",
     "output_type": "stream",
     "text": [
      " 25%|████████████████████                                                           | 583/2300 [02:37<05:54,  4.84it/s]"
     ]
    },
    {
     "name": "stdout",
     "output_type": "stream",
     "text": [
      "Error fetching articles from https://www.investing.com/news/stock-market-news for HSBC: 'href'\n",
      "Error fetching articles from https://www.thestreet.com/markets: 404\n"
     ]
    },
    {
     "name": "stderr",
     "output_type": "stream",
     "text": [
      " 25%|████████████████████                                                           | 585/2300 [02:38<06:08,  4.65it/s]"
     ]
    },
    {
     "name": "stdout",
     "output_type": "stream",
     "text": [
      "Error fetching articles from https://www.morningstar.com/market-news: 404\n",
      "Error fetching articles from https://www.zacks.com/investment-news: 404\n"
     ]
    },
    {
     "name": "stderr",
     "output_type": "stream",
     "text": [
      " 26%|████████████████████▏                                                          | 587/2300 [02:38<05:24,  5.27it/s]"
     ]
    },
    {
     "name": "stdout",
     "output_type": "stream",
     "text": [
      "Error fetching articles from https://www.investors.com/market-trend/stock-market-today/: 403\n"
     ]
    },
    {
     "name": "stderr",
     "output_type": "stream",
     "text": [
      " 26%|████████████████████▎                                                          | 591/2300 [02:39<05:49,  4.89it/s]"
     ]
    },
    {
     "name": "stdout",
     "output_type": "stream",
     "text": [
      "Error fetching articles from https://www.reuters.com/technology/: 401\n",
      "Error fetching articles from https://www.marketwatch.com/latest-news: 401\n"
     ]
    },
    {
     "name": "stderr",
     "output_type": "stream",
     "text": [
      " 26%|████████████████████▍                                                          | 595/2300 [02:40<05:30,  5.15it/s]"
     ]
    },
    {
     "name": "stdout",
     "output_type": "stream",
     "text": [
      "Error fetching articles from https://www.wsj.com/news/markets: 401\n"
     ]
    },
    {
     "name": "stderr",
     "output_type": "stream",
     "text": [
      " 26%|████████████████████▋                                                          | 602/2300 [02:44<10:21,  2.73it/s]"
     ]
    },
    {
     "name": "stdout",
     "output_type": "stream",
     "text": [
      "Error fetching articles from https://www.investing.com/news/stock-market-news for CMCSA: 'href'\n"
     ]
    },
    {
     "name": "stderr",
     "output_type": "stream",
     "text": [
      " 26%|████████████████████▊                                                          | 605/2300 [02:45<09:50,  2.87it/s]"
     ]
    },
    {
     "name": "stdout",
     "output_type": "stream",
     "text": [
      "Error fetching articles from https://www.thestreet.com/markets: 404\n"
     ]
    },
    {
     "name": "stderr",
     "output_type": "stream",
     "text": [
      " 26%|████████████████████▊                                                          | 607/2300 [02:45<07:59,  3.53it/s]"
     ]
    },
    {
     "name": "stdout",
     "output_type": "stream",
     "text": [
      "Error fetching articles from https://www.zacks.com/investment-news: 404\n",
      "Error fetching articles from https://www.morningstar.com/market-news: 404\n"
     ]
    },
    {
     "name": "stderr",
     "output_type": "stream",
     "text": [
      " 27%|█████████████████████                                                          | 613/2300 [02:46<05:35,  5.03it/s]"
     ]
    },
    {
     "name": "stdout",
     "output_type": "stream",
     "text": [
      "Error fetching articles from https://www.investors.com/market-trend/stock-market-today/: 403\n"
     ]
    },
    {
     "name": "stderr",
     "output_type": "stream",
     "text": [
      " 27%|█████████████████████                                                          | 615/2300 [02:46<05:10,  5.43it/s]"
     ]
    },
    {
     "name": "stdout",
     "output_type": "stream",
     "text": [
      "Error fetching articles from https://www.reuters.com/technology/: 401\n"
     ]
    },
    {
     "name": "stderr",
     "output_type": "stream",
     "text": [
      " 27%|█████████████████████▏                                                         | 617/2300 [02:47<06:06,  4.60it/s]"
     ]
    },
    {
     "name": "stdout",
     "output_type": "stream",
     "text": [
      "Error fetching articles from https://www.marketwatch.com/latest-news: 401\n"
     ]
    },
    {
     "name": "stderr",
     "output_type": "stream",
     "text": [
      " 27%|█████████████████████▏                                                         | 618/2300 [02:47<05:12,  5.37it/s]"
     ]
    },
    {
     "name": "stdout",
     "output_type": "stream",
     "text": [
      "Error fetching articles from https://www.wsj.com/news/markets: 401\n"
     ]
    },
    {
     "name": "stderr",
     "output_type": "stream",
     "text": [
      " 27%|█████████████████████▌                                                         | 628/2300 [02:50<04:49,  5.78it/s]"
     ]
    },
    {
     "name": "stdout",
     "output_type": "stream",
     "text": [
      "Error fetching articles from https://www.investing.com/news/stock-market-news for RTX: 'href'\n"
     ]
    },
    {
     "name": "stderr",
     "output_type": "stream",
     "text": [
      " 27%|█████████████████████▌                                                         | 629/2300 [02:50<05:13,  5.34it/s]"
     ]
    },
    {
     "name": "stdout",
     "output_type": "stream",
     "text": [
      "Error fetching articles from https://www.thestreet.com/markets: 404\n",
      "Error fetching articles from https://www.morningstar.com/market-news: 404\n",
      "Error fetching articles from https://www.zacks.com/investment-news: 404\n"
     ]
    },
    {
     "name": "stderr",
     "output_type": "stream",
     "text": [
      " 28%|█████████████████████▋                                                         | 633/2300 [02:51<05:16,  5.27it/s]"
     ]
    },
    {
     "name": "stdout",
     "output_type": "stream",
     "text": [
      "Error fetching articles from https://www.investors.com/market-trend/stock-market-today/: 403\n"
     ]
    },
    {
     "name": "stderr",
     "output_type": "stream",
     "text": [
      " 28%|█████████████████████▉                                                         | 638/2300 [02:52<04:28,  6.20it/s]"
     ]
    },
    {
     "name": "stdout",
     "output_type": "stream",
     "text": [
      "Error fetching articles from https://www.reuters.com/technology/: 401\n"
     ]
    },
    {
     "name": "stderr",
     "output_type": "stream",
     "text": [
      " 28%|█████████████████████▉                                                         | 639/2300 [02:52<04:54,  5.64it/s]"
     ]
    },
    {
     "name": "stdout",
     "output_type": "stream",
     "text": [
      "Error fetching articles from https://www.marketwatch.com/latest-news: 401\n"
     ]
    },
    {
     "name": "stderr",
     "output_type": "stream",
     "text": [
      " 28%|██████████████████████                                                         | 641/2300 [02:53<05:23,  5.12it/s]"
     ]
    },
    {
     "name": "stdout",
     "output_type": "stream",
     "text": [
      "Error fetching articles from https://www.wsj.com/news/markets: 401\n"
     ]
    },
    {
     "name": "stderr",
     "output_type": "stream",
     "text": [
      " 28%|██████████████████████▎                                                        | 650/2300 [02:57<07:58,  3.45it/s]"
     ]
    },
    {
     "name": "stdout",
     "output_type": "stream",
     "text": [
      "Error fetching articles from https://www.investing.com/news/stock-market-news for RY: 'href'\n"
     ]
    },
    {
     "name": "stderr",
     "output_type": "stream",
     "text": [
      " 28%|██████████████████████▎                                                        | 651/2300 [02:57<08:24,  3.27it/s]"
     ]
    },
    {
     "name": "stdout",
     "output_type": "stream",
     "text": [
      "Error fetching articles from https://www.thestreet.com/markets: 404\n"
     ]
    },
    {
     "name": "stderr",
     "output_type": "stream",
     "text": [
      " 28%|██████████████████████▍                                                        | 654/2300 [02:58<06:10,  4.44it/s]"
     ]
    },
    {
     "name": "stdout",
     "output_type": "stream",
     "text": [
      "Error fetching articles from https://www.zacks.com/investment-news: 404\n",
      "Error fetching articles from https://www.morningstar.com/market-news: 404\n"
     ]
    },
    {
     "name": "stderr",
     "output_type": "stream",
     "text": [
      " 29%|██████████████████████▋                                                        | 660/2300 [02:59<04:11,  6.53it/s]"
     ]
    },
    {
     "name": "stdout",
     "output_type": "stream",
     "text": [
      "Error fetching articles from https://www.investors.com/market-trend/stock-market-today/: 403\n",
      "Error fetching articles from https://www.reuters.com/technology/: 401\n"
     ]
    },
    {
     "name": "stderr",
     "output_type": "stream",
     "text": [
      " 29%|██████████████████████▋                                                        | 661/2300 [02:59<06:16,  4.35it/s]"
     ]
    },
    {
     "name": "stdout",
     "output_type": "stream",
     "text": [
      "Error fetching articles from https://www.marketwatch.com/latest-news: 401\n"
     ]
    },
    {
     "name": "stderr",
     "output_type": "stream",
     "text": [
      " 29%|██████████████████████▊                                                        | 665/2300 [03:00<04:14,  6.43it/s]"
     ]
    },
    {
     "name": "stdout",
     "output_type": "stream",
     "text": [
      "Error fetching articles from https://www.wsj.com/news/markets: 401\n"
     ]
    },
    {
     "name": "stderr",
     "output_type": "stream",
     "text": [
      " 29%|███████████████████████                                                        | 673/2300 [03:03<05:43,  4.73it/s]"
     ]
    },
    {
     "name": "stdout",
     "output_type": "stream",
     "text": [
      "Error fetching articles from https://www.investing.com/news/stock-market-news for TTE: 'href'\n"
     ]
    },
    {
     "name": "stderr",
     "output_type": "stream",
     "text": [
      " 29%|███████████████████████▏                                                       | 675/2300 [03:03<04:24,  6.14it/s]"
     ]
    },
    {
     "name": "stdout",
     "output_type": "stream",
     "text": [
      "Error fetching articles from https://www.thestreet.com/markets: 404\n"
     ]
    },
    {
     "name": "stderr",
     "output_type": "stream",
     "text": [
      " 29%|███████████████████████▎                                                       | 677/2300 [03:03<04:49,  5.62it/s]"
     ]
    },
    {
     "name": "stdout",
     "output_type": "stream",
     "text": [
      "Error fetching articles from https://www.morningstar.com/market-news: 404\n",
      "Error fetching articles from https://www.zacks.com/investment-news: 404\n"
     ]
    },
    {
     "name": "stderr",
     "output_type": "stream",
     "text": [
      " 30%|███████████████████████▍                                                       | 681/2300 [03:04<06:32,  4.13it/s]"
     ]
    },
    {
     "name": "stdout",
     "output_type": "stream",
     "text": [
      "Error fetching articles from https://www.investors.com/market-trend/stock-market-today/: 403\n"
     ]
    },
    {
     "name": "stderr",
     "output_type": "stream",
     "text": [
      " 30%|███████████████████████▍                                                       | 683/2300 [03:05<05:20,  5.05it/s]"
     ]
    },
    {
     "name": "stdout",
     "output_type": "stream",
     "text": [
      "Error fetching articles from https://www.reuters.com/technology/: 401\n"
     ]
    },
    {
     "name": "stderr",
     "output_type": "stream",
     "text": [
      " 30%|███████████████████████▌                                                       | 686/2300 [03:05<05:49,  4.62it/s]"
     ]
    },
    {
     "name": "stdout",
     "output_type": "stream",
     "text": [
      "Error fetching articles from https://www.marketwatch.com/latest-news: 401\n",
      "Error fetching articles from https://www.wsj.com/news/markets: 401\n"
     ]
    },
    {
     "name": "stderr",
     "output_type": "stream",
     "text": [
      " 30%|███████████████████████▉                                                       | 696/2300 [03:09<08:16,  3.23it/s]"
     ]
    },
    {
     "name": "stdout",
     "output_type": "stream",
     "text": [
      "Error fetching articles from https://www.investing.com/news/stock-market-news for UL: 'href'\n",
      "Error fetching articles from https://www.thestreet.com/markets: 404\n"
     ]
    },
    {
     "name": "stderr",
     "output_type": "stream",
     "text": [
      " 30%|████████████████████████                                                       | 700/2300 [03:10<06:18,  4.22it/s]"
     ]
    },
    {
     "name": "stdout",
     "output_type": "stream",
     "text": [
      "Error fetching articles from https://www.zacks.com/investment-news: 404\n",
      "Error fetching articles from https://www.morningstar.com/market-news: 404\n"
     ]
    },
    {
     "name": "stderr",
     "output_type": "stream",
     "text": [
      " 31%|████████████████████████▏                                                      | 703/2300 [03:11<04:54,  5.42it/s]"
     ]
    },
    {
     "name": "stdout",
     "output_type": "stream",
     "text": [
      "Error fetching articles from https://www.investors.com/market-trend/stock-market-today/: 403\n"
     ]
    },
    {
     "name": "stderr",
     "output_type": "stream",
     "text": [
      " 31%|████████████████████████▏                                                      | 706/2300 [03:12<07:18,  3.63it/s]"
     ]
    },
    {
     "name": "stdout",
     "output_type": "stream",
     "text": [
      "Error fetching articles from https://www.reuters.com/technology/: 401\n"
     ]
    },
    {
     "name": "stderr",
     "output_type": "stream",
     "text": [
      " 31%|████████████████████████▎                                                      | 708/2300 [03:12<06:09,  4.31it/s]"
     ]
    },
    {
     "name": "stdout",
     "output_type": "stream",
     "text": [
      "Error fetching articles from https://www.marketwatch.com/latest-news: 401\n"
     ]
    },
    {
     "name": "stderr",
     "output_type": "stream",
     "text": [
      " 31%|████████████████████████▍                                                      | 711/2300 [03:13<05:31,  4.79it/s]"
     ]
    },
    {
     "name": "stdout",
     "output_type": "stream",
     "text": [
      "Error fetching articles from https://www.wsj.com/news/markets: 401\n"
     ]
    },
    {
     "name": "stderr",
     "output_type": "stream",
     "text": [
      " 31%|████████████████████████▋                                                      | 719/2300 [03:15<07:20,  3.59it/s]"
     ]
    },
    {
     "name": "stdout",
     "output_type": "stream",
     "text": [
      "Error fetching articles from https://www.investing.com/news/stock-market-news for SPGI: 'href'\n"
     ]
    },
    {
     "name": "stderr",
     "output_type": "stream",
     "text": [
      " 32%|████████████████████████▉                                                      | 725/2300 [03:16<03:37,  7.23it/s]"
     ]
    },
    {
     "name": "stdout",
     "output_type": "stream",
     "text": [
      "Error fetching articles from https://www.thestreet.com/markets: 404\n",
      "Error fetching articles from https://www.morningstar.com/market-news: 404\n",
      "Error fetching articles from https://www.zacks.com/investment-news: 404\n",
      "Error fetching articles from https://www.investors.com/market-trend/stock-market-today/: 403\n"
     ]
    },
    {
     "name": "stderr",
     "output_type": "stream",
     "text": [
      " 32%|█████████████████████████                                                      | 729/2300 [03:17<05:18,  4.94it/s]"
     ]
    },
    {
     "name": "stdout",
     "output_type": "stream",
     "text": [
      "Error fetching articles from https://www.reuters.com/technology/: 401\n"
     ]
    },
    {
     "name": "stderr",
     "output_type": "stream",
     "text": [
      " 32%|█████████████████████████                                                      | 731/2300 [03:17<06:05,  4.29it/s]"
     ]
    },
    {
     "name": "stdout",
     "output_type": "stream",
     "text": [
      "Error fetching articles from https://www.marketwatch.com/latest-news: 401\n"
     ]
    },
    {
     "name": "stderr",
     "output_type": "stream",
     "text": [
      " 32%|█████████████████████████▏                                                     | 733/2300 [03:18<06:55,  3.78it/s]"
     ]
    },
    {
     "name": "stdout",
     "output_type": "stream",
     "text": [
      "Error fetching articles from https://www.wsj.com/news/markets: 401\n"
     ]
    },
    {
     "name": "stderr",
     "output_type": "stream",
     "text": [
      " 32%|█████████████████████████▍                                                     | 741/2300 [03:22<08:12,  3.17it/s]"
     ]
    },
    {
     "name": "stdout",
     "output_type": "stream",
     "text": [
      "Error fetching articles from https://www.investing.com/news/stock-market-news for UNP: 'href'\n"
     ]
    },
    {
     "name": "stderr",
     "output_type": "stream",
     "text": [
      " 32%|█████████████████████████▌                                                     | 743/2300 [03:23<08:46,  2.96it/s]"
     ]
    },
    {
     "name": "stdout",
     "output_type": "stream",
     "text": [
      "Error fetching articles from https://www.zacks.com/investment-news: 404\n"
     ]
    },
    {
     "name": "stderr",
     "output_type": "stream",
     "text": [
      " 32%|█████████████████████████▌                                                     | 746/2300 [03:23<06:04,  4.26it/s]"
     ]
    },
    {
     "name": "stdout",
     "output_type": "stream",
     "text": [
      "Error fetching articles from https://www.thestreet.com/markets: 404\n",
      "Error fetching articles from https://www.morningstar.com/market-news: 404\n"
     ]
    },
    {
     "name": "stderr",
     "output_type": "stream",
     "text": [
      " 33%|█████████████████████████▋                                                     | 749/2300 [03:24<05:52,  4.40it/s]"
     ]
    },
    {
     "name": "stdout",
     "output_type": "stream",
     "text": [
      "Error fetching articles from https://www.investors.com/market-trend/stock-market-today/: 403\n"
     ]
    },
    {
     "name": "stderr",
     "output_type": "stream",
     "text": [
      " 33%|█████████████████████████▊                                                     | 751/2300 [03:24<04:48,  5.37it/s]"
     ]
    },
    {
     "name": "stdout",
     "output_type": "stream",
     "text": [
      "Error fetching articles from https://www.reuters.com/technology/: 401\n"
     ]
    },
    {
     "name": "stderr",
     "output_type": "stream",
     "text": [
      " 33%|█████████████████████████▉                                                     | 754/2300 [03:25<05:19,  4.85it/s]"
     ]
    },
    {
     "name": "stdout",
     "output_type": "stream",
     "text": [
      "Error fetching articles from https://www.marketwatch.com/latest-news: 401\n",
      "Error fetching articles from https://www.wsj.com/news/markets: 401\n"
     ]
    },
    {
     "name": "stderr",
     "output_type": "stream",
     "text": [
      " 33%|██████████████████████████▎                                                    | 766/2300 [03:28<04:44,  5.39it/s]"
     ]
    },
    {
     "name": "stdout",
     "output_type": "stream",
     "text": [
      "Error fetching articles from https://www.investing.com/news/stock-market-news for HDB: 'href'\n"
     ]
    },
    {
     "name": "stderr",
     "output_type": "stream",
     "text": [
      " 33%|██████████████████████████▍                                                    | 769/2300 [03:28<04:21,  5.86it/s]"
     ]
    },
    {
     "name": "stdout",
     "output_type": "stream",
     "text": [
      "Error fetching articles from https://www.thestreet.com/markets: 404\n",
      "Error fetching articles from https://www.morningstar.com/market-news: 404\n"
     ]
    },
    {
     "name": "stderr",
     "output_type": "stream",
     "text": [
      " 33%|██████████████████████████▍                                                    | 770/2300 [03:29<04:33,  5.59it/s]"
     ]
    },
    {
     "name": "stdout",
     "output_type": "stream",
     "text": [
      "Error fetching articles from https://www.zacks.com/investment-news: 404\n",
      "Error fetching articles from https://www.investors.com/market-trend/stock-market-today/: 403\n"
     ]
    },
    {
     "name": "stderr",
     "output_type": "stream",
     "text": [
      " 34%|██████████████████████████▌                                                    | 775/2300 [03:30<07:07,  3.57it/s]"
     ]
    },
    {
     "name": "stdout",
     "output_type": "stream",
     "text": [
      "Error fetching articles from https://www.reuters.com/technology/: 401\n"
     ]
    },
    {
     "name": "stderr",
     "output_type": "stream",
     "text": [
      " 34%|██████████████████████████▋                                                    | 777/2300 [03:31<05:57,  4.26it/s]"
     ]
    },
    {
     "name": "stdout",
     "output_type": "stream",
     "text": [
      "Error fetching articles from https://www.marketwatch.com/latest-news: 401\n"
     ]
    },
    {
     "name": "stderr",
     "output_type": "stream",
     "text": [
      " 34%|██████████████████████████▊                                                    | 779/2300 [03:31<05:05,  4.98it/s]"
     ]
    },
    {
     "name": "stdout",
     "output_type": "stream",
     "text": [
      "Error fetching articles from https://www.wsj.com/news/markets: 401\n"
     ]
    },
    {
     "name": "stderr",
     "output_type": "stream",
     "text": [
      " 34%|███████████████████████████                                                    | 788/2300 [03:34<06:28,  3.89it/s]"
     ]
    },
    {
     "name": "stdout",
     "output_type": "stream",
     "text": [
      "Error fetching articles from https://www.investing.com/news/stock-market-news for T: 'href'\n"
     ]
    },
    {
     "name": "stderr",
     "output_type": "stream",
     "text": [
      " 34%|███████████████████████████▏                                                   | 790/2300 [03:35<04:53,  5.15it/s]"
     ]
    },
    {
     "name": "stdout",
     "output_type": "stream",
     "text": [
      "Error fetching articles from https://www.thestreet.com/markets: 404\n"
     ]
    },
    {
     "name": "stderr",
     "output_type": "stream",
     "text": [
      " 34%|███████████████████████████▏                                                   | 791/2300 [03:35<05:34,  4.51it/s]"
     ]
    },
    {
     "name": "stdout",
     "output_type": "stream",
     "text": [
      "Error fetching articles from https://www.morningstar.com/market-news: 404\n",
      "Error fetching articles from https://www.zacks.com/investment-news: 404\n"
     ]
    },
    {
     "name": "stderr",
     "output_type": "stream",
     "text": [
      " 35%|███████████████████████████▎                                                   | 794/2300 [03:36<06:08,  4.09it/s]"
     ]
    },
    {
     "name": "stdout",
     "output_type": "stream",
     "text": [
      "Error fetching articles from https://www.investors.com/market-trend/stock-market-today/: 403\n"
     ]
    },
    {
     "name": "stderr",
     "output_type": "stream",
     "text": [
      " 35%|███████████████████████████▍                                                   | 798/2300 [03:37<06:18,  3.97it/s]"
     ]
    },
    {
     "name": "stdout",
     "output_type": "stream",
     "text": [
      "Error fetching articles from https://www.reuters.com/technology/: 401\n"
     ]
    },
    {
     "name": "stderr",
     "output_type": "stream",
     "text": [
      " 35%|███████████████████████████▍                                                   | 800/2300 [03:37<05:42,  4.38it/s]"
     ]
    },
    {
     "name": "stdout",
     "output_type": "stream",
     "text": [
      "Error fetching articles from https://www.marketwatch.com/latest-news: 401\n"
     ]
    },
    {
     "name": "stderr",
     "output_type": "stream",
     "text": [
      " 35%|███████████████████████████▌                                                   | 801/2300 [03:38<07:08,  3.50it/s]"
     ]
    },
    {
     "name": "stdout",
     "output_type": "stream",
     "text": [
      "Error fetching articles from https://www.wsj.com/news/markets: 401\n"
     ]
    },
    {
     "name": "stderr",
     "output_type": "stream",
     "text": [
      " 35%|███████████████████████████▊                                                   | 810/2300 [03:40<04:48,  5.17it/s]"
     ]
    },
    {
     "name": "stdout",
     "output_type": "stream",
     "text": [
      "Error fetching articles from https://www.investing.com/news/stock-market-news for BHP: 'href'\n"
     ]
    },
    {
     "name": "stderr",
     "output_type": "stream",
     "text": [
      " 35%|███████████████████████████▉                                                   | 812/2300 [03:41<04:15,  5.83it/s]"
     ]
    },
    {
     "name": "stdout",
     "output_type": "stream",
     "text": [
      "Error fetching articles from https://www.thestreet.com/markets: 404\n",
      "Error fetching articles from https://www.zacks.com/investment-news: 404\n",
      "Error fetching articles from https://www.morningstar.com/market-news: 404\n"
     ]
    },
    {
     "name": "stderr",
     "output_type": "stream",
     "text": [
      " 36%|████████████████████████████                                                   | 817/2300 [03:42<06:49,  3.62it/s]"
     ]
    },
    {
     "name": "stdout",
     "output_type": "stream",
     "text": [
      "Error fetching articles from https://www.investors.com/market-trend/stock-market-today/: 403\n"
     ]
    },
    {
     "name": "stderr",
     "output_type": "stream",
     "text": [
      " 36%|████████████████████████████▏                                                  | 821/2300 [03:43<04:52,  5.05it/s]"
     ]
    },
    {
     "name": "stdout",
     "output_type": "stream",
     "text": [
      "Error fetching articles from https://www.reuters.com/technology/: 401\n"
     ]
    },
    {
     "name": "stderr",
     "output_type": "stream",
     "text": [
      " 36%|████████████████████████████▎                                                  | 824/2300 [03:44<04:38,  5.30it/s]"
     ]
    },
    {
     "name": "stdout",
     "output_type": "stream",
     "text": [
      "Error fetching articles from https://www.marketwatch.com/latest-news: 401\n"
     ]
    },
    {
     "name": "stderr",
     "output_type": "stream",
     "text": [
      " 36%|████████████████████████████▎                                                  | 825/2300 [03:44<05:19,  4.62it/s]"
     ]
    },
    {
     "name": "stdout",
     "output_type": "stream",
     "text": [
      "Error fetching articles from https://www.wsj.com/news/markets: 401\n"
     ]
    },
    {
     "name": "stderr",
     "output_type": "stream",
     "text": [
      " 36%|████████████████████████████▋                                                  | 835/2300 [03:47<03:56,  6.19it/s]"
     ]
    },
    {
     "name": "stdout",
     "output_type": "stream",
     "text": [
      "Error fetching articles from https://www.investing.com/news/stock-market-news for LOW: 'href'\n"
     ]
    },
    {
     "name": "stderr",
     "output_type": "stream",
     "text": [
      " 36%|████████████████████████████▋                                                  | 837/2300 [03:47<04:19,  5.63it/s]"
     ]
    },
    {
     "name": "stdout",
     "output_type": "stream",
     "text": [
      "Error fetching articles from https://www.thestreet.com/markets: 404\n",
      "Error fetching articles from https://www.zacks.com/investment-news: 404\n"
     ]
    },
    {
     "name": "stderr",
     "output_type": "stream",
     "text": [
      " 36%|████████████████████████████▊                                                  | 838/2300 [03:48<04:39,  5.23it/s]"
     ]
    },
    {
     "name": "stdout",
     "output_type": "stream",
     "text": [
      "Error fetching articles from https://www.morningstar.com/market-news: 404\n"
     ]
    },
    {
     "name": "stderr",
     "output_type": "stream",
     "text": [
      " 36%|████████████████████████████▊                                                  | 839/2300 [03:48<06:23,  3.81it/s]"
     ]
    },
    {
     "name": "stdout",
     "output_type": "stream",
     "text": [
      "Error fetching articles from https://www.investors.com/market-trend/stock-market-today/: 403\n"
     ]
    },
    {
     "name": "stderr",
     "output_type": "stream",
     "text": [
      " 37%|████████████████████████████▉                                                  | 844/2300 [03:49<04:23,  5.52it/s]"
     ]
    },
    {
     "name": "stdout",
     "output_type": "stream",
     "text": [
      "Error fetching articles from https://www.reuters.com/technology/: 401\n"
     ]
    },
    {
     "name": "stderr",
     "output_type": "stream",
     "text": [
      " 37%|█████████████████████████████                                                  | 846/2300 [03:49<04:30,  5.38it/s]"
     ]
    },
    {
     "name": "stdout",
     "output_type": "stream",
     "text": [
      "Error fetching articles from https://www.marketwatch.com/latest-news: 401\n"
     ]
    },
    {
     "name": "stderr",
     "output_type": "stream",
     "text": [
      " 37%|█████████████████████████████▏                                                 | 848/2300 [03:50<04:57,  4.88it/s]"
     ]
    },
    {
     "name": "stdout",
     "output_type": "stream",
     "text": [
      "Error fetching articles from https://www.wsj.com/news/markets: 401\n"
     ]
    },
    {
     "name": "stderr",
     "output_type": "stream",
     "text": [
      " 37%|█████████████████████████████▎                                                 | 855/2300 [03:53<07:16,  3.31it/s]"
     ]
    },
    {
     "name": "stdout",
     "output_type": "stream",
     "text": [
      "Error fetching articles from https://www.investing.com/news/stock-market-news for HON: 'href'\n"
     ]
    },
    {
     "name": "stderr",
     "output_type": "stream",
     "text": [
      " 37%|█████████████████████████████▌                                                 | 862/2300 [03:55<04:55,  4.87it/s]"
     ]
    },
    {
     "name": "stdout",
     "output_type": "stream",
     "text": [
      "Error fetching articles from https://www.thestreet.com/markets: 404\n",
      "Error fetching articles from https://www.zacks.com/investment-news: 404\n"
     ]
    },
    {
     "name": "stderr",
     "output_type": "stream",
     "text": [
      " 38%|█████████████████████████████▋                                                 | 864/2300 [03:56<05:33,  4.30it/s]"
     ]
    },
    {
     "name": "stdout",
     "output_type": "stream",
     "text": [
      "Error fetching articles from https://www.morningstar.com/market-news: 404\n",
      "Error fetching articles from https://www.investors.com/market-trend/stock-market-today/: 403\n"
     ]
    },
    {
     "name": "stderr",
     "output_type": "stream",
     "text": [
      " 38%|█████████████████████████████▊                                                 | 867/2300 [03:56<04:19,  5.52it/s]"
     ]
    },
    {
     "name": "stdout",
     "output_type": "stream",
     "text": [
      "Error fetching articles from https://www.reuters.com/technology/: 401\n"
     ]
    },
    {
     "name": "stderr",
     "output_type": "stream",
     "text": [
      " 38%|█████████████████████████████▊                                                 | 869/2300 [03:56<04:19,  5.51it/s]"
     ]
    },
    {
     "name": "stdout",
     "output_type": "stream",
     "text": [
      "Error fetching articles from https://www.marketwatch.com/latest-news: 401\n"
     ]
    },
    {
     "name": "stderr",
     "output_type": "stream",
     "text": [
      " 38%|█████████████████████████████▉                                                 | 872/2300 [03:57<03:54,  6.08it/s]"
     ]
    },
    {
     "name": "stdout",
     "output_type": "stream",
     "text": [
      "Error fetching articles from https://www.wsj.com/news/markets: 401\n"
     ]
    },
    {
     "name": "stderr",
     "output_type": "stream",
     "text": [
      " 38%|██████████████████████████████▏                                                | 880/2300 [03:59<05:49,  4.07it/s]"
     ]
    },
    {
     "name": "stdout",
     "output_type": "stream",
     "text": [
      "Error fetching articles from https://www.investing.com/news/stock-market-news for LMT: 'href'\n"
     ]
    },
    {
     "name": "stderr",
     "output_type": "stream",
     "text": [
      " 38%|██████████████████████████████▎                                                | 883/2300 [04:00<03:50,  6.14it/s]"
     ]
    },
    {
     "name": "stdout",
     "output_type": "stream",
     "text": [
      "Error fetching articles from https://www.thestreet.com/markets: 404\n",
      "Error fetching articles from https://www.morningstar.com/market-news: 404\n"
     ]
    },
    {
     "name": "stderr",
     "output_type": "stream",
     "text": [
      " 38%|██████████████████████████████▍                                                | 885/2300 [04:00<04:29,  5.25it/s]"
     ]
    },
    {
     "name": "stdout",
     "output_type": "stream",
     "text": [
      "Error fetching articles from https://www.zacks.com/investment-news: 404\n",
      "Error fetching articles from https://www.investors.com/market-trend/stock-market-today/: 403\n"
     ]
    },
    {
     "name": "stderr",
     "output_type": "stream",
     "text": [
      " 39%|██████████████████████████████▌                                                | 890/2300 [04:01<04:52,  4.82it/s]"
     ]
    },
    {
     "name": "stdout",
     "output_type": "stream",
     "text": [
      "Error fetching articles from https://www.reuters.com/technology/: 401\n"
     ]
    },
    {
     "name": "stderr",
     "output_type": "stream",
     "text": [
      " 39%|██████████████████████████████▋                                                | 892/2300 [04:02<04:34,  5.14it/s]"
     ]
    },
    {
     "name": "stdout",
     "output_type": "stream",
     "text": [
      "Error fetching articles from https://www.marketwatch.com/latest-news: 401\n"
     ]
    },
    {
     "name": "stderr",
     "output_type": "stream",
     "text": [
      " 39%|██████████████████████████████▋                                                | 894/2300 [04:02<04:43,  4.96it/s]"
     ]
    },
    {
     "name": "stdout",
     "output_type": "stream",
     "text": [
      "Error fetching articles from https://www.wsj.com/news/markets: 401\n"
     ]
    },
    {
     "name": "stderr",
     "output_type": "stream",
     "text": [
      " 39%|███████████████████████████████                                                | 905/2300 [04:06<05:16,  4.41it/s]"
     ]
    },
    {
     "name": "stdout",
     "output_type": "stream",
     "text": [
      "Error fetching articles from https://www.investing.com/news/stock-market-news for VRTX: 'href'\n",
      "Error fetching articles from https://www.thestreet.com/markets: 404\n"
     ]
    },
    {
     "name": "stderr",
     "output_type": "stream",
     "text": [
      " 39%|███████████████████████████████                                                | 906/2300 [04:07<06:03,  3.83it/s]"
     ]
    },
    {
     "name": "stdout",
     "output_type": "stream",
     "text": [
      "Error fetching articles from https://www.zacks.com/investment-news: 404\n",
      "Error fetching articles from https://www.morningstar.com/market-news: 404\n"
     ]
    },
    {
     "name": "stderr",
     "output_type": "stream",
     "text": [
      " 40%|███████████████████████████████▏                                               | 909/2300 [04:07<05:27,  4.25it/s]"
     ]
    },
    {
     "name": "stdout",
     "output_type": "stream",
     "text": [
      "Error fetching articles from https://www.investors.com/market-trend/stock-market-today/: 403\n"
     ]
    },
    {
     "name": "stderr",
     "output_type": "stream",
     "text": [
      " 40%|███████████████████████████████▎                                               | 913/2300 [04:08<04:31,  5.12it/s]"
     ]
    },
    {
     "name": "stdout",
     "output_type": "stream",
     "text": [
      "Error fetching articles from https://www.reuters.com/technology/: 401\n"
     ]
    },
    {
     "name": "stderr",
     "output_type": "stream",
     "text": [
      " 40%|███████████████████████████████▍                                               | 915/2300 [04:09<04:53,  4.72it/s]"
     ]
    },
    {
     "name": "stdout",
     "output_type": "stream",
     "text": [
      "Error fetching articles from https://www.marketwatch.com/latest-news: 401\n"
     ]
    },
    {
     "name": "stderr",
     "output_type": "stream",
     "text": [
      " 40%|███████████████████████████████▍                                               | 917/2300 [04:09<04:27,  5.18it/s]"
     ]
    },
    {
     "name": "stdout",
     "output_type": "stream",
     "text": [
      "Error fetching articles from https://www.wsj.com/news/markets: 401\n"
     ]
    },
    {
     "name": "stderr",
     "output_type": "stream",
     "text": [
      " 40%|███████████████████████████████▊                                               | 926/2300 [04:12<05:19,  4.30it/s]"
     ]
    },
    {
     "name": "stdout",
     "output_type": "stream",
     "text": [
      "Error fetching articles from https://www.investing.com/news/stock-market-news for SNY: 'href'\n"
     ]
    },
    {
     "name": "stderr",
     "output_type": "stream",
     "text": [
      " 40%|███████████████████████████████▉                                               | 929/2300 [04:13<04:44,  4.82it/s]"
     ]
    },
    {
     "name": "stdout",
     "output_type": "stream",
     "text": [
      "Error fetching articles from https://www.thestreet.com/markets: 404\n",
      "Error fetching articles from https://www.morningstar.com/market-news: 404\n",
      "Error fetching articles from https://www.zacks.com/investment-news: 404\n"
     ]
    },
    {
     "name": "stderr",
     "output_type": "stream",
     "text": [
      " 41%|████████████████████████████████                                               | 933/2300 [04:13<03:58,  5.74it/s]"
     ]
    },
    {
     "name": "stdout",
     "output_type": "stream",
     "text": [
      "Error fetching articles from https://www.investors.com/market-trend/stock-market-today/: 403\n"
     ]
    },
    {
     "name": "stderr",
     "output_type": "stream",
     "text": [
      " 41%|████████████████████████████████▏                                              | 937/2300 [04:14<04:48,  4.73it/s]"
     ]
    },
    {
     "name": "stdout",
     "output_type": "stream",
     "text": [
      "Error fetching articles from https://www.reuters.com/technology/: 401\n"
     ]
    },
    {
     "name": "stderr",
     "output_type": "stream",
     "text": [
      " 41%|████████████████████████████████▎                                              | 939/2300 [04:15<06:10,  3.67it/s]"
     ]
    },
    {
     "name": "stdout",
     "output_type": "stream",
     "text": [
      "Error fetching articles from https://www.marketwatch.com/latest-news: 401\n",
      "Error fetching articles from https://www.wsj.com/news/markets: 401\n"
     ]
    },
    {
     "name": "stderr",
     "output_type": "stream",
     "text": [
      " 41%|████████████████████████████████▍                                              | 946/2300 [04:18<10:52,  2.07it/s]"
     ]
    },
    {
     "name": "stdout",
     "output_type": "stream",
     "text": [
      "Error fetching articles from https://www.investing.com/news/stock-market-news for MUFG: 'href'\n"
     ]
    },
    {
     "name": "stderr",
     "output_type": "stream",
     "text": [
      " 41%|████████████████████████████████▋                                              | 950/2300 [04:19<05:23,  4.17it/s]"
     ]
    },
    {
     "name": "stdout",
     "output_type": "stream",
     "text": [
      "Error fetching articles from https://www.thestreet.com/markets: 404\n"
     ]
    },
    {
     "name": "stderr",
     "output_type": "stream",
     "text": [
      " 41%|████████████████████████████████▋                                              | 952/2300 [04:19<05:51,  3.83it/s]"
     ]
    },
    {
     "name": "stdout",
     "output_type": "stream",
     "text": [
      "Error fetching articles from https://www.morningstar.com/market-news: 404\n",
      "Error fetching articles from https://www.zacks.com/investment-news: 404\n"
     ]
    },
    {
     "name": "stderr",
     "output_type": "stream",
     "text": [
      " 41%|████████████████████████████████▊                                              | 954/2300 [04:20<05:57,  3.77it/s]"
     ]
    },
    {
     "name": "stdout",
     "output_type": "stream",
     "text": [
      "Error fetching articles from https://www.investors.com/market-trend/stock-market-today/: 403\n"
     ]
    },
    {
     "name": "stderr",
     "output_type": "stream",
     "text": [
      " 42%|████████████████████████████████▉                                              | 958/2300 [04:21<05:07,  4.36it/s]"
     ]
    },
    {
     "name": "stdout",
     "output_type": "stream",
     "text": [
      "Error fetching articles from https://www.reuters.com/technology/: 401\n"
     ]
    },
    {
     "name": "stderr",
     "output_type": "stream",
     "text": [
      " 42%|█████████████████████████████████                                              | 962/2300 [04:21<03:54,  5.70it/s]"
     ]
    },
    {
     "name": "stdout",
     "output_type": "stream",
     "text": [
      "Error fetching articles from https://www.marketwatch.com/latest-news: 401\n"
     ]
    },
    {
     "name": "stderr",
     "output_type": "stream",
     "text": [
      " 42%|█████████████████████████████████                                              | 963/2300 [04:22<04:33,  4.89it/s]"
     ]
    },
    {
     "name": "stdout",
     "output_type": "stream",
     "text": [
      "Error fetching articles from https://www.wsj.com/news/markets: 401\n"
     ]
    },
    {
     "name": "stderr",
     "output_type": "stream",
     "text": [
      " 42%|█████████████████████████████████▎                                             | 971/2300 [04:25<05:43,  3.87it/s]"
     ]
    },
    {
     "name": "stdout",
     "output_type": "stream",
     "text": [
      "Error fetching articles from https://www.investing.com/news/stock-market-news for TJX: 'href'\n"
     ]
    },
    {
     "name": "stderr",
     "output_type": "stream",
     "text": [
      " 42%|█████████████████████████████████▍                                             | 973/2300 [04:25<05:02,  4.39it/s]"
     ]
    },
    {
     "name": "stdout",
     "output_type": "stream",
     "text": [
      "Error fetching articles from https://www.thestreet.com/markets: 404\n"
     ]
    },
    {
     "name": "stderr",
     "output_type": "stream",
     "text": [
      " 42%|█████████████████████████████████▍                                             | 974/2300 [04:26<06:17,  3.51it/s]"
     ]
    },
    {
     "name": "stdout",
     "output_type": "stream",
     "text": [
      "Error fetching articles from https://www.morningstar.com/market-news: 404\n",
      "Error fetching articles from https://www.zacks.com/investment-news: 404\n"
     ]
    },
    {
     "name": "stderr",
     "output_type": "stream",
     "text": [
      " 42%|█████████████████████████████████▌                                             | 977/2300 [04:26<04:52,  4.52it/s]"
     ]
    },
    {
     "name": "stdout",
     "output_type": "stream",
     "text": [
      "Error fetching articles from https://www.investors.com/market-trend/stock-market-today/: 403\n"
     ]
    },
    {
     "name": "stderr",
     "output_type": "stream",
     "text": [
      " 43%|█████████████████████████████████▋                                             | 981/2300 [04:27<05:30,  3.99it/s]"
     ]
    },
    {
     "name": "stdout",
     "output_type": "stream",
     "text": [
      "Error fetching articles from https://www.reuters.com/technology/: 401\n"
     ]
    },
    {
     "name": "stderr",
     "output_type": "stream",
     "text": [
      " 43%|█████████████████████████████████▊                                             | 984/2300 [04:28<04:34,  4.80it/s]"
     ]
    },
    {
     "name": "stdout",
     "output_type": "stream",
     "text": [
      "Error fetching articles from https://www.marketwatch.com/latest-news: 401\n"
     ]
    },
    {
     "name": "stderr",
     "output_type": "stream",
     "text": [
      " 43%|█████████████████████████████████▊                                             | 986/2300 [04:28<04:27,  4.92it/s]"
     ]
    },
    {
     "name": "stdout",
     "output_type": "stream",
     "text": [
      "Error fetching articles from https://www.wsj.com/news/markets: 401\n"
     ]
    },
    {
     "name": "stderr",
     "output_type": "stream",
     "text": [
      " 43%|██████████████████████████████████▏                                            | 994/2300 [04:31<05:30,  3.96it/s]"
     ]
    },
    {
     "name": "stdout",
     "output_type": "stream",
     "text": [
      "Error fetching articles from https://www.investing.com/news/stock-market-news for BLK: 'href'\n"
     ]
    },
    {
     "name": "stderr",
     "output_type": "stream",
     "text": [
      " 43%|██████████████████████████████████▏                                            | 996/2300 [04:32<04:55,  4.41it/s]"
     ]
    },
    {
     "name": "stdout",
     "output_type": "stream",
     "text": [
      "Error fetching articles from https://www.thestreet.com/markets: 404\n"
     ]
    },
    {
     "name": "stderr",
     "output_type": "stream",
     "text": [
      " 43%|█████████████████████████████████▉                                            | 1000/2300 [04:32<03:57,  5.48it/s]"
     ]
    },
    {
     "name": "stdout",
     "output_type": "stream",
     "text": [
      "Error fetching articles from https://www.morningstar.com/market-news: 404Error fetching articles from https://www.zacks.com/investment-news: 404\n",
      "\n"
     ]
    },
    {
     "name": "stderr",
     "output_type": "stream",
     "text": [
      " 44%|█████████████████████████████████▉                                            | 1001/2300 [04:33<05:57,  3.63it/s]"
     ]
    },
    {
     "name": "stdout",
     "output_type": "stream",
     "text": [
      "Error fetching articles from https://www.investors.com/market-trend/stock-market-today/: 403\n"
     ]
    },
    {
     "name": "stderr",
     "output_type": "stream",
     "text": [
      " 44%|██████████████████████████████████                                            | 1005/2300 [04:33<04:11,  5.15it/s]"
     ]
    },
    {
     "name": "stdout",
     "output_type": "stream",
     "text": [
      "Error fetching articles from https://www.reuters.com/technology/: 401\n"
     ]
    },
    {
     "name": "stderr",
     "output_type": "stream",
     "text": [
      " 44%|██████████████████████████████████▏                                           | 1007/2300 [04:34<04:27,  4.84it/s]"
     ]
    },
    {
     "name": "stdout",
     "output_type": "stream",
     "text": [
      "Error fetching articles from https://www.marketwatch.com/latest-news: 401\n"
     ]
    },
    {
     "name": "stderr",
     "output_type": "stream",
     "text": [
      " 44%|██████████████████████████████████▏                                           | 1009/2300 [04:34<03:27,  6.21it/s]"
     ]
    },
    {
     "name": "stdout",
     "output_type": "stream",
     "text": [
      "Error fetching articles from https://www.wsj.com/news/markets: 401\n"
     ]
    },
    {
     "name": "stderr",
     "output_type": "stream",
     "text": [
      " 44%|██████████████████████████████████▌                                           | 1020/2300 [04:38<04:32,  4.70it/s]"
     ]
    },
    {
     "name": "stdout",
     "output_type": "stream",
     "text": [
      "Error fetching articles from https://www.investing.com/news/stock-market-news for UBER: 'href'\n",
      "Error fetching articles from https://www.thestreet.com/markets: 404\n"
     ]
    },
    {
     "name": "stderr",
     "output_type": "stream",
     "text": [
      " 44%|██████████████████████████████████▋                                           | 1023/2300 [04:38<03:01,  7.04it/s]"
     ]
    },
    {
     "name": "stdout",
     "output_type": "stream",
     "text": [
      "Error fetching articles from https://www.morningstar.com/market-news: 404\n",
      "Error fetching articles from https://www.zacks.com/investment-news: 404\n"
     ]
    },
    {
     "name": "stderr",
     "output_type": "stream",
     "text": [
      " 45%|██████████████████████████████████▊                                           | 1025/2300 [04:38<03:24,  6.23it/s]"
     ]
    },
    {
     "name": "stdout",
     "output_type": "stream",
     "text": [
      "Error fetching articles from https://www.investors.com/market-trend/stock-market-today/: 403\n"
     ]
    },
    {
     "name": "stderr",
     "output_type": "stream",
     "text": [
      " 45%|██████████████████████████████████▉                                           | 1030/2300 [04:40<03:47,  5.58it/s]"
     ]
    },
    {
     "name": "stdout",
     "output_type": "stream",
     "text": [
      "Error fetching articles from https://www.reuters.com/technology/: 401\n",
      "Error fetching articles from https://www.marketwatch.com/latest-news: 401\n"
     ]
    },
    {
     "name": "stderr",
     "output_type": "stream",
     "text": [
      " 45%|██████████████████████████████████▉                                           | 1031/2300 [04:40<05:17,  3.99it/s]"
     ]
    },
    {
     "name": "stdout",
     "output_type": "stream",
     "text": [
      "Error fetching articles from https://www.wsj.com/news/markets: 401\n"
     ]
    },
    {
     "name": "stderr",
     "output_type": "stream",
     "text": [
      " 45%|███████████████████████████████████▎                                          | 1040/2300 [04:45<09:18,  2.26it/s]"
     ]
    },
    {
     "name": "stdout",
     "output_type": "stream",
     "text": [
      "Error fetching articles from https://www.investing.com/news/stock-market-news for ARM: 'href'\n"
     ]
    },
    {
     "name": "stderr",
     "output_type": "stream",
     "text": [
      " 45%|███████████████████████████████████▎                                          | 1041/2300 [04:45<08:07,  2.58it/s]"
     ]
    },
    {
     "name": "stdout",
     "output_type": "stream",
     "text": [
      "Error fetching articles from https://www.thestreet.com/markets: 404\n"
     ]
    },
    {
     "name": "stderr",
     "output_type": "stream",
     "text": [
      " 45%|███████████████████████████████████▍                                          | 1044/2300 [04:46<06:35,  3.17it/s]"
     ]
    },
    {
     "name": "stdout",
     "output_type": "stream",
     "text": [
      "Error fetching articles from https://www.zacks.com/investment-news: 404\n",
      "Error fetching articles from https://www.morningstar.com/market-news: 404\n"
     ]
    },
    {
     "name": "stderr",
     "output_type": "stream",
     "text": [
      " 46%|███████████████████████████████████▌                                          | 1048/2300 [04:47<03:18,  6.29it/s]"
     ]
    },
    {
     "name": "stdout",
     "output_type": "stream",
     "text": [
      "Error fetching articles from https://www.investors.com/market-trend/stock-market-today/: 403\n"
     ]
    },
    {
     "name": "stderr",
     "output_type": "stream",
     "text": [
      " 46%|███████████████████████████████████▋                                          | 1053/2300 [04:48<04:06,  5.06it/s]"
     ]
    },
    {
     "name": "stdout",
     "output_type": "stream",
     "text": [
      "Error fetching articles from https://www.reuters.com/technology/: 401\n",
      "Error fetching articles from https://www.marketwatch.com/latest-news: 401\n"
     ]
    },
    {
     "name": "stderr",
     "output_type": "stream",
     "text": [
      " 46%|███████████████████████████████████▊                                          | 1055/2300 [04:48<03:01,  6.87it/s]"
     ]
    },
    {
     "name": "stdout",
     "output_type": "stream",
     "text": [
      "Error fetching articles from https://www.wsj.com/news/markets: 401\n"
     ]
    },
    {
     "name": "stderr",
     "output_type": "stream",
     "text": [
      " 46%|████████████████████████████████████▏                                         | 1066/2300 [04:50<03:07,  6.58it/s]"
     ]
    },
    {
     "name": "stdout",
     "output_type": "stream",
     "text": [
      "Error fetching articles from https://www.investing.com/news/stock-market-news for SYK: 'href'\n",
      "Error fetching articles from https://www.thestreet.com/markets: 404\n"
     ]
    },
    {
     "name": "stderr",
     "output_type": "stream",
     "text": [
      " 46%|████████████████████████████████████▏                                         | 1068/2300 [04:51<03:49,  5.37it/s]"
     ]
    },
    {
     "name": "stdout",
     "output_type": "stream",
     "text": [
      "Error fetching articles from https://www.zacks.com/investment-news: 404\n",
      "Error fetching articles from https://www.morningstar.com/market-news: 404\n"
     ]
    },
    {
     "name": "stderr",
     "output_type": "stream",
     "text": [
      " 47%|████████████████████████████████████▎                                         | 1071/2300 [04:51<03:29,  5.88it/s]"
     ]
    },
    {
     "name": "stdout",
     "output_type": "stream",
     "text": [
      "Error fetching articles from https://www.investors.com/market-trend/stock-market-today/: 403\n"
     ]
    },
    {
     "name": "stderr",
     "output_type": "stream",
     "text": [
      " 47%|████████████████████████████████████▍                                         | 1073/2300 [04:52<03:37,  5.65it/s]"
     ]
    },
    {
     "name": "stdout",
     "output_type": "stream",
     "text": [
      "Error fetching articles from https://www.reuters.com/technology/: 401\n"
     ]
    },
    {
     "name": "stderr",
     "output_type": "stream",
     "text": [
      " 47%|████████████████████████████████████▍                                         | 1076/2300 [04:52<03:58,  5.12it/s]"
     ]
    },
    {
     "name": "stdout",
     "output_type": "stream",
     "text": [
      "Error fetching articles from https://www.marketwatch.com/latest-news: 401\n"
     ]
    },
    {
     "name": "stderr",
     "output_type": "stream",
     "text": [
      " 47%|████████████████████████████████████▌                                         | 1077/2300 [04:53<04:40,  4.36it/s]"
     ]
    },
    {
     "name": "stdout",
     "output_type": "stream",
     "text": [
      "Error fetching articles from https://www.wsj.com/news/markets: 401\n"
     ]
    },
    {
     "name": "stderr",
     "output_type": "stream",
     "text": [
      " 47%|████████████████████████████████████▊                                         | 1086/2300 [04:56<05:10,  3.91it/s]"
     ]
    },
    {
     "name": "stdout",
     "output_type": "stream",
     "text": [
      "Error fetching articles from https://www.investing.com/news/stock-market-news for COP: 'href'\n"
     ]
    },
    {
     "name": "stderr",
     "output_type": "stream",
     "text": [
      " 47%|████████████████████████████████████▉                                         | 1091/2300 [04:57<03:48,  5.28it/s]"
     ]
    },
    {
     "name": "stdout",
     "output_type": "stream",
     "text": [
      "Error fetching articles from https://www.zacks.com/investment-news: 404\n",
      "Error fetching articles from https://www.thestreet.com/markets: 404\n"
     ]
    },
    {
     "name": "stderr",
     "output_type": "stream",
     "text": [
      " 47%|█████████████████████████████████████                                         | 1092/2300 [04:58<04:30,  4.46it/s]"
     ]
    },
    {
     "name": "stdout",
     "output_type": "stream",
     "text": [
      "Error fetching articles from https://www.morningstar.com/market-news: 404\n",
      "Error fetching articles from https://www.investors.com/market-trend/stock-market-today/: 403\n"
     ]
    },
    {
     "name": "stderr",
     "output_type": "stream",
     "text": [
      " 48%|█████████████████████████████████████▏                                        | 1095/2300 [04:58<04:19,  4.64it/s]"
     ]
    },
    {
     "name": "stdout",
     "output_type": "stream",
     "text": [
      "Error fetching articles from https://www.reuters.com/technology/: 401\n"
     ]
    },
    {
     "name": "stderr",
     "output_type": "stream",
     "text": [
      " 48%|█████████████████████████████████████▎                                        | 1100/2300 [04:59<03:48,  5.24it/s]"
     ]
    },
    {
     "name": "stdout",
     "output_type": "stream",
     "text": [
      "Error fetching articles from https://www.marketwatch.com/latest-news: 401\n"
     ]
    },
    {
     "name": "stderr",
     "output_type": "stream",
     "text": [
      " 48%|█████████████████████████████████████▎                                        | 1102/2300 [05:00<05:23,  3.70it/s]"
     ]
    },
    {
     "name": "stdout",
     "output_type": "stream",
     "text": [
      "Error fetching articles from https://www.wsj.com/news/markets: 401\n"
     ]
    },
    {
     "name": "stderr",
     "output_type": "stream",
     "text": [
      " 48%|█████████████████████████████████████▋                                        | 1110/2300 [05:03<05:09,  3.84it/s]"
     ]
    },
    {
     "name": "stdout",
     "output_type": "stream",
     "text": [
      "Error fetching articles from https://www.investing.com/news/stock-market-news for PGR: 'href'\n"
     ]
    },
    {
     "name": "stderr",
     "output_type": "stream",
     "text": [
      " 48%|█████████████████████████████████████▋                                        | 1112/2300 [05:03<04:27,  4.44it/s]"
     ]
    },
    {
     "name": "stdout",
     "output_type": "stream",
     "text": [
      "Error fetching articles from https://www.thestreet.com/markets: 404\n",
      "Error fetching articles from https://www.zacks.com/investment-news: 404\n"
     ]
    },
    {
     "name": "stderr",
     "output_type": "stream",
     "text": [
      " 48%|█████████████████████████████████████▊                                        | 1114/2300 [05:04<04:38,  4.25it/s]"
     ]
    },
    {
     "name": "stdout",
     "output_type": "stream",
     "text": [
      "Error fetching articles from https://www.morningstar.com/market-news: 404\n"
     ]
    },
    {
     "name": "stderr",
     "output_type": "stream",
     "text": [
      " 49%|█████████████████████████████████████▉                                        | 1118/2300 [05:05<04:31,  4.35it/s]"
     ]
    },
    {
     "name": "stdout",
     "output_type": "stream",
     "text": [
      "Error fetching articles from https://www.investors.com/market-trend/stock-market-today/: 403\n"
     ]
    },
    {
     "name": "stderr",
     "output_type": "stream",
     "text": [
      " 49%|█████████████████████████████████████▉                                        | 1120/2300 [05:05<03:51,  5.10it/s]"
     ]
    },
    {
     "name": "stdout",
     "output_type": "stream",
     "text": [
      "Error fetching articles from https://www.reuters.com/technology/: 401\n"
     ]
    },
    {
     "name": "stderr",
     "output_type": "stream",
     "text": [
      " 49%|██████████████████████████████████████                                        | 1121/2300 [05:05<04:33,  4.31it/s]"
     ]
    },
    {
     "name": "stdout",
     "output_type": "stream",
     "text": [
      "Error fetching articles from https://www.marketwatch.com/latest-news: 401\n"
     ]
    },
    {
     "name": "stderr",
     "output_type": "stream",
     "text": [
      " 49%|██████████████████████████████████████                                        | 1124/2300 [05:06<04:18,  4.54it/s]"
     ]
    },
    {
     "name": "stdout",
     "output_type": "stream",
     "text": [
      "Error fetching articles from https://www.wsj.com/news/markets: 401\n"
     ]
    },
    {
     "name": "stderr",
     "output_type": "stream",
     "text": [
      " 49%|██████████████████████████████████████▍                                       | 1133/2300 [05:09<04:30,  4.32it/s]"
     ]
    },
    {
     "name": "stdout",
     "output_type": "stream",
     "text": [
      "Error fetching articles from https://www.investing.com/news/stock-market-news for BUD: 'href'\n"
     ]
    },
    {
     "name": "stderr",
     "output_type": "stream",
     "text": [
      " 49%|██████████████████████████████████████▍                                       | 1134/2300 [05:09<04:52,  3.98it/s]"
     ]
    },
    {
     "name": "stdout",
     "output_type": "stream",
     "text": [
      "Error fetching articles from https://www.thestreet.com/markets: 404\n"
     ]
    },
    {
     "name": "stderr",
     "output_type": "stream",
     "text": [
      " 49%|██████████████████████████████████████▌                                       | 1137/2300 [05:10<03:41,  5.26it/s]"
     ]
    },
    {
     "name": "stdout",
     "output_type": "stream",
     "text": [
      "Error fetching articles from https://www.zacks.com/investment-news: 404\n",
      "Error fetching articles from https://www.morningstar.com/market-news: 404\n"
     ]
    },
    {
     "name": "stderr",
     "output_type": "stream",
     "text": [
      " 50%|██████████████████████████████████████▋                                       | 1140/2300 [05:11<03:36,  5.35it/s]"
     ]
    },
    {
     "name": "stdout",
     "output_type": "stream",
     "text": [
      "Error fetching articles from https://www.investors.com/market-trend/stock-market-today/: 403\n"
     ]
    },
    {
     "name": "stderr",
     "output_type": "stream",
     "text": [
      " 50%|██████████████████████████████████████▊                                       | 1144/2300 [05:11<03:06,  6.19it/s]"
     ]
    },
    {
     "name": "stdout",
     "output_type": "stream",
     "text": [
      "Error fetching articles from https://www.reuters.com/technology/: 401\n"
     ]
    },
    {
     "name": "stderr",
     "output_type": "stream",
     "text": [
      " 50%|██████████████████████████████████████▊                                       | 1145/2300 [05:12<04:12,  4.58it/s]"
     ]
    },
    {
     "name": "stdout",
     "output_type": "stream",
     "text": [
      "Error fetching articles from https://www.marketwatch.com/latest-news: 401\n"
     ]
    },
    {
     "name": "stderr",
     "output_type": "stream",
     "text": [
      " 50%|██████████████████████████████████████▉                                       | 1147/2300 [05:12<04:23,  4.37it/s]"
     ]
    },
    {
     "name": "stdout",
     "output_type": "stream",
     "text": [
      "Error fetching articles from https://www.wsj.com/news/markets: 401\n"
     ]
    },
    {
     "name": "stderr",
     "output_type": "stream",
     "text": [
      " 50%|███████████████████████████████████████▏                                      | 1154/2300 [05:16<07:35,  2.51it/s]"
     ]
    },
    {
     "name": "stdout",
     "output_type": "stream",
     "text": [
      "Error fetching articles from https://www.investing.com/news/stock-market-news for BKNG: 'href'\n"
     ]
    },
    {
     "name": "stderr",
     "output_type": "stream",
     "text": [
      " 50%|███████████████████████████████████████▎                                      | 1160/2300 [05:17<04:47,  3.97it/s]"
     ]
    },
    {
     "name": "stdout",
     "output_type": "stream",
     "text": [
      "Error fetching articles from https://www.thestreet.com/markets: 404\n",
      "Error fetching articles from https://www.morningstar.com/market-news: 404\n"
     ]
    },
    {
     "name": "stderr",
     "output_type": "stream",
     "text": [
      " 51%|███████████████████████████████████████▍                                      | 1162/2300 [05:18<03:52,  4.90it/s]"
     ]
    },
    {
     "name": "stdout",
     "output_type": "stream",
     "text": [
      "Error fetching articles from https://www.zacks.com/investment-news: 404\n",
      "Error fetching articles from https://www.investors.com/market-trend/stock-market-today/: 403\n"
     ]
    },
    {
     "name": "stderr",
     "output_type": "stream",
     "text": [
      " 51%|███████████████████████████████████████▌                                      | 1167/2300 [05:19<03:41,  5.11it/s]"
     ]
    },
    {
     "name": "stdout",
     "output_type": "stream",
     "text": [
      "Error fetching articles from https://www.reuters.com/technology/: 401\n",
      "Error fetching articles from https://www.marketwatch.com/latest-news: 401\n"
     ]
    },
    {
     "name": "stderr",
     "output_type": "stream",
     "text": [
      " 51%|███████████████████████████████████████▋                                      | 1170/2300 [05:19<04:10,  4.51it/s]"
     ]
    },
    {
     "name": "stdout",
     "output_type": "stream",
     "text": [
      "Error fetching articles from https://www.wsj.com/news/markets: 401\n"
     ]
    },
    {
     "name": "stderr",
     "output_type": "stream",
     "text": [
      " 51%|███████████████████████████████████████▉                                      | 1178/2300 [05:22<04:51,  3.85it/s]"
     ]
    },
    {
     "name": "stdout",
     "output_type": "stream",
     "text": [
      "Error fetching articles from https://www.investing.com/news/stock-market-news for INTC: 'href'\n",
      "Error fetching articles from https://www.thestreet.com/markets: 404\n"
     ]
    },
    {
     "name": "stderr",
     "output_type": "stream",
     "text": [
      " 51%|████████████████████████████████████████                                      | 1181/2300 [05:23<05:10,  3.60it/s]"
     ]
    },
    {
     "name": "stdout",
     "output_type": "stream",
     "text": [
      "Error fetching articles from https://www.morningstar.com/market-news: 404\n",
      "Error fetching articles from https://www.zacks.com/investment-news: 404\n"
     ]
    },
    {
     "name": "stderr",
     "output_type": "stream",
     "text": [
      " 52%|████████████████████████████████████████▏                                     | 1185/2300 [05:24<03:47,  4.91it/s]"
     ]
    },
    {
     "name": "stdout",
     "output_type": "stream",
     "text": [
      "Error fetching articles from https://www.investors.com/market-trend/stock-market-today/: 403\n"
     ]
    },
    {
     "name": "stderr",
     "output_type": "stream",
     "text": [
      " 52%|████████████████████████████████████████▎                                     | 1190/2300 [05:24<03:07,  5.91it/s]"
     ]
    },
    {
     "name": "stdout",
     "output_type": "stream",
     "text": [
      "Error fetching articles from https://www.reuters.com/technology/: 401\n"
     ]
    },
    {
     "name": "stderr",
     "output_type": "stream",
     "text": [
      " 52%|████████████████████████████████████████▍                                     | 1191/2300 [05:25<04:09,  4.45it/s]"
     ]
    },
    {
     "name": "stdout",
     "output_type": "stream",
     "text": [
      "Error fetching articles from https://www.marketwatch.com/latest-news: 401\n"
     ]
    },
    {
     "name": "stderr",
     "output_type": "stream",
     "text": [
      " 52%|████████████████████████████████████████▍                                     | 1192/2300 [05:25<05:20,  3.46it/s]"
     ]
    },
    {
     "name": "stdout",
     "output_type": "stream",
     "text": [
      "Error fetching articles from https://www.wsj.com/news/markets: 401\n"
     ]
    },
    {
     "name": "stderr",
     "output_type": "stream",
     "text": [
      " 52%|████████████████████████████████████████▋                                     | 1201/2300 [05:28<03:47,  4.83it/s]"
     ]
    },
    {
     "name": "stdout",
     "output_type": "stream",
     "text": [
      "Error fetching articles from https://www.investing.com/news/stock-market-news for ELV: 'href'\n"
     ]
    },
    {
     "name": "stderr",
     "output_type": "stream",
     "text": [
      " 52%|████████████████████████████████████████▊                                     | 1203/2300 [05:29<05:04,  3.60it/s]"
     ]
    },
    {
     "name": "stdout",
     "output_type": "stream",
     "text": [
      "Error fetching articles from https://www.thestreet.com/markets: 404\n"
     ]
    },
    {
     "name": "stderr",
     "output_type": "stream",
     "text": [
      " 52%|████████████████████████████████████████▉                                     | 1207/2300 [05:29<03:10,  5.74it/s]"
     ]
    },
    {
     "name": "stdout",
     "output_type": "stream",
     "text": [
      "Error fetching articles from https://www.zacks.com/investment-news: 404\n",
      "Error fetching articles from https://www.morningstar.com/market-news: 404\n"
     ]
    },
    {
     "name": "stderr",
     "output_type": "stream",
     "text": [
      " 53%|█████████████████████████████████████████                                     | 1209/2300 [05:30<03:40,  4.95it/s]"
     ]
    },
    {
     "name": "stdout",
     "output_type": "stream",
     "text": [
      "Error fetching articles from https://www.investors.com/market-trend/stock-market-today/: 403\n"
     ]
    },
    {
     "name": "stderr",
     "output_type": "stream",
     "text": [
      " 53%|█████████████████████████████████████████                                     | 1212/2300 [05:31<03:56,  4.60it/s]"
     ]
    },
    {
     "name": "stdout",
     "output_type": "stream",
     "text": [
      "Error fetching articles from https://www.reuters.com/technology/: 401\n"
     ]
    },
    {
     "name": "stderr",
     "output_type": "stream",
     "text": [
      " 53%|█████████████████████████████████████████▏                                    | 1214/2300 [05:31<03:51,  4.69it/s]"
     ]
    },
    {
     "name": "stdout",
     "output_type": "stream",
     "text": [
      "Error fetching articles from https://www.marketwatch.com/latest-news: 401\n"
     ]
    },
    {
     "name": "stderr",
     "output_type": "stream",
     "text": [
      " 53%|█████████████████████████████████████████▎                                    | 1217/2300 [05:32<03:13,  5.60it/s]"
     ]
    },
    {
     "name": "stdout",
     "output_type": "stream",
     "text": [
      "Error fetching articles from https://www.wsj.com/news/markets: 401\n"
     ]
    },
    {
     "name": "stderr",
     "output_type": "stream",
     "text": [
      " 53%|█████████████████████████████████████████▌                                    | 1225/2300 [05:35<04:44,  3.77it/s]"
     ]
    },
    {
     "name": "stdout",
     "output_type": "stream",
     "text": [
      "Error fetching articles from https://www.investing.com/news/stock-market-news for C: 'href'\n"
     ]
    },
    {
     "name": "stderr",
     "output_type": "stream",
     "text": [
      " 53%|█████████████████████████████████████████▋                                    | 1229/2300 [05:35<03:06,  5.73it/s]"
     ]
    },
    {
     "name": "stdout",
     "output_type": "stream",
     "text": [
      "Error fetching articles from https://www.thestreet.com/markets: 404\n",
      "Error fetching articles from https://www.morningstar.com/market-news: 404\n"
     ]
    },
    {
     "name": "stderr",
     "output_type": "stream",
     "text": [
      " 53%|█████████████████████████████████████████▋                                    | 1230/2300 [05:35<03:14,  5.51it/s]"
     ]
    },
    {
     "name": "stdout",
     "output_type": "stream",
     "text": [
      "Error fetching articles from https://www.zacks.com/investment-news: 404\n",
      "Error fetching articles from https://www.investors.com/market-trend/stock-market-today/: 403\n"
     ]
    },
    {
     "name": "stderr",
     "output_type": "stream",
     "text": [
      " 54%|█████████████████████████████████████████▉                                    | 1235/2300 [05:37<04:21,  4.08it/s]"
     ]
    },
    {
     "name": "stdout",
     "output_type": "stream",
     "text": [
      "Error fetching articles from https://www.reuters.com/technology/: 401\n"
     ]
    },
    {
     "name": "stderr",
     "output_type": "stream",
     "text": [
      " 54%|█████████████████████████████████████████▉                                    | 1237/2300 [05:37<03:18,  5.35it/s]"
     ]
    },
    {
     "name": "stdout",
     "output_type": "stream",
     "text": [
      "Error fetching articles from https://www.marketwatch.com/latest-news: 401\n",
      "Error fetching articles from https://www.wsj.com/news/markets: 401\n"
     ]
    },
    {
     "name": "stderr",
     "output_type": "stream",
     "text": [
      " 54%|██████████████████████████████████████████▎                                   | 1248/2300 [05:41<03:56,  4.44it/s]"
     ]
    },
    {
     "name": "stdout",
     "output_type": "stream",
     "text": [
      "Error fetching articles from https://www.investing.com/news/stock-market-news for ETN: 'href'\n"
     ]
    },
    {
     "name": "stderr",
     "output_type": "stream",
     "text": [
      " 54%|██████████████████████████████████████████▍                                   | 1250/2300 [05:41<03:42,  4.73it/s]"
     ]
    },
    {
     "name": "stdout",
     "output_type": "stream",
     "text": [
      "Error fetching articles from https://www.thestreet.com/markets: 404\n"
     ]
    },
    {
     "name": "stderr",
     "output_type": "stream",
     "text": [
      " 54%|██████████████████████████████████████████▍                                   | 1251/2300 [05:42<05:04,  3.45it/s]"
     ]
    },
    {
     "name": "stdout",
     "output_type": "stream",
     "text": [
      "Error fetching articles from https://www.zacks.com/investment-news: 404\n",
      "Error fetching articles from https://www.morningstar.com/market-news: 404\n"
     ]
    },
    {
     "name": "stderr",
     "output_type": "stream",
     "text": [
      " 54%|██████████████████████████████████████████▍                                   | 1253/2300 [05:42<04:45,  3.66it/s]"
     ]
    },
    {
     "name": "stdout",
     "output_type": "stream",
     "text": [
      "Error fetching articles from https://www.investors.com/market-trend/stock-market-today/: 403\n"
     ]
    },
    {
     "name": "stderr",
     "output_type": "stream",
     "text": [
      " 55%|██████████████████████████████████████████▋                                   | 1259/2300 [05:44<04:07,  4.20it/s]"
     ]
    },
    {
     "name": "stdout",
     "output_type": "stream",
     "text": [
      "Error fetching articles from https://www.reuters.com/technology/: 401\n",
      "Error fetching articles from https://www.marketwatch.com/latest-news: 401\n"
     ]
    },
    {
     "name": "stderr",
     "output_type": "stream",
     "text": [
      " 55%|██████████████████████████████████████████▊                                   | 1262/2300 [05:44<03:14,  5.33it/s]"
     ]
    },
    {
     "name": "stdout",
     "output_type": "stream",
     "text": [
      "Error fetching articles from https://www.wsj.com/news/markets: 401\n"
     ]
    },
    {
     "name": "stderr",
     "output_type": "stream",
     "text": [
      " 55%|███████████████████████████████████████████                                   | 1269/2300 [05:47<05:00,  3.43it/s]"
     ]
    },
    {
     "name": "stdout",
     "output_type": "stream",
     "text": [
      "Error fetching articles from https://www.investing.com/news/stock-market-news for REGN: 'href'\n"
     ]
    },
    {
     "name": "stderr",
     "output_type": "stream",
     "text": [
      " 55%|███████████████████████████████████████████▏                                  | 1272/2300 [05:48<04:48,  3.56it/s]"
     ]
    },
    {
     "name": "stdout",
     "output_type": "stream",
     "text": [
      "Error fetching articles from https://www.thestreet.com/markets: 404\n"
     ]
    },
    {
     "name": "stderr",
     "output_type": "stream",
     "text": [
      " 55%|███████████████████████████████████████████▏                                  | 1273/2300 [05:48<04:56,  3.47it/s]"
     ]
    },
    {
     "name": "stdout",
     "output_type": "stream",
     "text": [
      "Error fetching articles from https://www.zacks.com/investment-news: 404\n"
     ]
    },
    {
     "name": "stderr",
     "output_type": "stream",
     "text": [
      " 55%|███████████████████████████████████████████▎                                  | 1276/2300 [05:49<04:30,  3.79it/s]"
     ]
    },
    {
     "name": "stdout",
     "output_type": "stream",
     "text": [
      "Error fetching articles from https://www.morningstar.com/market-news: 404\n",
      "Error fetching articles from https://www.investors.com/market-trend/stock-market-today/: 403\n"
     ]
    },
    {
     "name": "stderr",
     "output_type": "stream",
     "text": [
      " 56%|███████████████████████████████████████████▌                                  | 1283/2300 [05:50<03:04,  5.51it/s]"
     ]
    },
    {
     "name": "stdout",
     "output_type": "stream",
     "text": [
      "Error fetching articles from https://www.reuters.com/technology/: 401\n",
      "Error fetching articles from https://www.marketwatch.com/latest-news: 401\n"
     ]
    },
    {
     "name": "stderr",
     "output_type": "stream",
     "text": [
      " 56%|███████████████████████████████████████████▌                                  | 1285/2300 [05:51<03:38,  4.64it/s]"
     ]
    },
    {
     "name": "stdout",
     "output_type": "stream",
     "text": [
      "Error fetching articles from https://www.wsj.com/news/markets: 401\n"
     ]
    },
    {
     "name": "stderr",
     "output_type": "stream",
     "text": [
      " 56%|███████████████████████████████████████████▊                                  | 1292/2300 [05:53<04:51,  3.46it/s]"
     ]
    },
    {
     "name": "stdout",
     "output_type": "stream",
     "text": [
      "Error fetching articles from https://www.investing.com/news/stock-market-news for PLD: 'href'\n"
     ]
    },
    {
     "name": "stderr",
     "output_type": "stream",
     "text": [
      " 56%|███████████████████████████████████████████▉                                  | 1297/2300 [05:55<03:54,  4.28it/s]"
     ]
    },
    {
     "name": "stdout",
     "output_type": "stream",
     "text": [
      "Error fetching articles from https://www.thestreet.com/markets: 404\n",
      "Error fetching articles from https://www.zacks.com/investment-news: 404\n"
     ]
    },
    {
     "name": "stderr",
     "output_type": "stream",
     "text": [
      " 56%|████████████████████████████████████████████                                  | 1299/2300 [05:55<03:46,  4.42it/s]"
     ]
    },
    {
     "name": "stdout",
     "output_type": "stream",
     "text": [
      "Error fetching articles from https://www.morningstar.com/market-news: 404\n",
      "Error fetching articles from https://www.investors.com/market-trend/stock-market-today/: 403\n"
     ]
    },
    {
     "name": "stderr",
     "output_type": "stream",
     "text": [
      " 57%|████████████████████████████████████████████▏                                 | 1303/2300 [05:56<03:33,  4.66it/s]"
     ]
    },
    {
     "name": "stdout",
     "output_type": "stream",
     "text": [
      "Error fetching articles from https://www.reuters.com/technology/: 401\n"
     ]
    },
    {
     "name": "stderr",
     "output_type": "stream",
     "text": [
      " 57%|████████████████████████████████████████████▎                                 | 1306/2300 [05:56<03:02,  5.46it/s]"
     ]
    },
    {
     "name": "stdout",
     "output_type": "stream",
     "text": [
      "Error fetching articles from https://www.marketwatch.com/latest-news: 401\n"
     ]
    },
    {
     "name": "stderr",
     "output_type": "stream",
     "text": [
      " 57%|████████████████████████████████████████████▎                                 | 1307/2300 [05:57<03:51,  4.29it/s]"
     ]
    },
    {
     "name": "stdout",
     "output_type": "stream",
     "text": [
      "Error fetching articles from https://www.wsj.com/news/markets: 401\n"
     ]
    },
    {
     "name": "stderr",
     "output_type": "stream",
     "text": [
      " 57%|████████████████████████████████████████████▋                                 | 1318/2300 [06:01<04:20,  3.77it/s]"
     ]
    },
    {
     "name": "stdout",
     "output_type": "stream",
     "text": [
      "Error fetching articles from https://www.investing.com/news/stock-market-news for SCHW: 'href'\n"
     ]
    },
    {
     "name": "stderr",
     "output_type": "stream",
     "text": [
      " 57%|████████████████████████████████████████████▋                                 | 1319/2300 [06:01<04:19,  3.78it/s]"
     ]
    },
    {
     "name": "stdout",
     "output_type": "stream",
     "text": [
      "Error fetching articles from https://www.thestreet.com/markets: 404\n"
     ]
    },
    {
     "name": "stderr",
     "output_type": "stream",
     "text": [
      " 57%|████████████████████████████████████████████▊                                 | 1320/2300 [06:01<04:38,  3.51it/s]"
     ]
    },
    {
     "name": "stdout",
     "output_type": "stream",
     "text": [
      "Error fetching articles from https://www.zacks.com/investment-news: 404\n",
      "Error fetching articles from https://www.morningstar.com/market-news: 404\n"
     ]
    },
    {
     "name": "stderr",
     "output_type": "stream",
     "text": [
      " 58%|████████████████████████████████████████████▉                                 | 1325/2300 [06:02<03:26,  4.72it/s]"
     ]
    },
    {
     "name": "stdout",
     "output_type": "stream",
     "text": [
      "Error fetching articles from https://www.investors.com/market-trend/stock-market-today/: 403\n"
     ]
    },
    {
     "name": "stderr",
     "output_type": "stream",
     "text": [
      " 58%|█████████████████████████████████████████████                                 | 1327/2300 [06:03<03:24,  4.77it/s]"
     ]
    },
    {
     "name": "stdout",
     "output_type": "stream",
     "text": [
      "Error fetching articles from https://www.reuters.com/technology/: 401\n",
      "Error fetching articles from https://www.marketwatch.com/latest-news: 401\n"
     ]
    },
    {
     "name": "stderr",
     "output_type": "stream",
     "text": [
      " 58%|█████████████████████████████████████████████▏                                | 1331/2300 [06:03<03:54,  4.13it/s]"
     ]
    },
    {
     "name": "stdout",
     "output_type": "stream",
     "text": [
      "Error fetching articles from https://www.wsj.com/news/markets: 401\n"
     ]
    },
    {
     "name": "stderr",
     "output_type": "stream",
     "text": [
      " 58%|█████████████████████████████████████████████▌                                | 1342/2300 [06:07<03:45,  4.25it/s]"
     ]
    },
    {
     "name": "stdout",
     "output_type": "stream",
     "text": [
      "Error fetching articles from https://www.thestreet.com/markets: 404\n",
      "Error fetching articles from https://www.investing.com/news/stock-market-news for MU: 'href'\n"
     ]
    },
    {
     "name": "stderr",
     "output_type": "stream",
     "text": [
      " 58%|█████████████████████████████████████████████▌                                | 1343/2300 [06:07<04:13,  3.77it/s]"
     ]
    },
    {
     "name": "stdout",
     "output_type": "stream",
     "text": [
      "Error fetching articles from https://www.zacks.com/investment-news: 404\n",
      "Error fetching articles from https://www.morningstar.com/market-news: 404\n"
     ]
    },
    {
     "name": "stderr",
     "output_type": "stream",
     "text": [
      " 59%|█████████████████████████████████████████████▋                                | 1346/2300 [06:08<03:23,  4.69it/s]"
     ]
    },
    {
     "name": "stdout",
     "output_type": "stream",
     "text": [
      "Error fetching articles from https://www.investors.com/market-trend/stock-market-today/: 403\n"
     ]
    },
    {
     "name": "stderr",
     "output_type": "stream",
     "text": [
      " 59%|█████████████████████████████████████████████▊                                | 1350/2300 [06:08<02:52,  5.51it/s]"
     ]
    },
    {
     "name": "stdout",
     "output_type": "stream",
     "text": [
      "Error fetching articles from https://www.reuters.com/technology/: 401\n"
     ]
    },
    {
     "name": "stderr",
     "output_type": "stream",
     "text": [
      " 59%|█████████████████████████████████████████████▊                                | 1352/2300 [06:09<02:55,  5.39it/s]"
     ]
    },
    {
     "name": "stdout",
     "output_type": "stream",
     "text": [
      "Error fetching articles from https://www.marketwatch.com/latest-news: 401\n"
     ]
    },
    {
     "name": "stderr",
     "output_type": "stream",
     "text": [
      " 59%|█████████████████████████████████████████████▉                                | 1355/2300 [06:10<03:27,  4.55it/s]"
     ]
    },
    {
     "name": "stdout",
     "output_type": "stream",
     "text": [
      "Error fetching articles from https://www.wsj.com/news/markets: 401\n"
     ]
    },
    {
     "name": "stderr",
     "output_type": "stream",
     "text": [
      " 59%|██████████████████████████████████████████████▏                               | 1363/2300 [06:13<03:56,  3.97it/s]"
     ]
    },
    {
     "name": "stdout",
     "output_type": "stream",
     "text": [
      "Error fetching articles from https://www.investing.com/news/stock-market-news for UPS: 'href'\n"
     ]
    },
    {
     "name": "stderr",
     "output_type": "stream",
     "text": [
      " 59%|██████████████████████████████████████████████▎                               | 1366/2300 [06:13<03:27,  4.50it/s]"
     ]
    },
    {
     "name": "stdout",
     "output_type": "stream",
     "text": [
      "Error fetching articles from https://www.thestreet.com/markets: 404\n",
      "Error fetching articles from https://www.zacks.com/investment-news: 404\n"
     ]
    },
    {
     "name": "stderr",
     "output_type": "stream",
     "text": [
      " 59%|██████████████████████████████████████████████▍                               | 1368/2300 [06:13<02:39,  5.83it/s]"
     ]
    },
    {
     "name": "stdout",
     "output_type": "stream",
     "text": [
      "Error fetching articles from https://www.morningstar.com/market-news: 404\n"
     ]
    },
    {
     "name": "stderr",
     "output_type": "stream",
     "text": [
      " 60%|██████████████████████████████████████████████▍                               | 1369/2300 [06:14<04:03,  3.82it/s]"
     ]
    },
    {
     "name": "stdout",
     "output_type": "stream",
     "text": [
      "Error fetching articles from https://www.investors.com/market-trend/stock-market-today/: 403\n"
     ]
    },
    {
     "name": "stderr",
     "output_type": "stream",
     "text": [
      " 60%|██████████████████████████████████████████████▌                               | 1372/2300 [06:15<03:42,  4.17it/s]"
     ]
    },
    {
     "name": "stdout",
     "output_type": "stream",
     "text": [
      "Error fetching articles from https://www.reuters.com/technology/: 401\n"
     ]
    },
    {
     "name": "stderr",
     "output_type": "stream",
     "text": [
      " 60%|██████████████████████████████████████████████▋                               | 1376/2300 [06:16<03:18,  4.66it/s]"
     ]
    },
    {
     "name": "stdout",
     "output_type": "stream",
     "text": [
      "Error fetching articles from https://www.marketwatch.com/latest-news: 401\n"
     ]
    },
    {
     "name": "stderr",
     "output_type": "stream",
     "text": [
      " 60%|██████████████████████████████████████████████▋                               | 1377/2300 [06:16<04:05,  3.76it/s]"
     ]
    },
    {
     "name": "stdout",
     "output_type": "stream",
     "text": [
      "Error fetching articles from https://www.wsj.com/news/markets: 401\n"
     ]
    },
    {
     "name": "stderr",
     "output_type": "stream",
     "text": [
      " 60%|██████████████████████████████████████████████▉                               | 1384/2300 [06:19<04:00,  3.81it/s]"
     ]
    },
    {
     "name": "stdout",
     "output_type": "stream",
     "text": [
      "Error fetching articles from https://www.investing.com/news/stock-market-news for NKE: 'href'\n"
     ]
    },
    {
     "name": "stderr",
     "output_type": "stream",
     "text": [
      " 60%|███████████████████████████████████████████████                               | 1387/2300 [06:19<04:00,  3.79it/s]"
     ]
    },
    {
     "name": "stdout",
     "output_type": "stream",
     "text": [
      "Error fetching articles from https://www.zacks.com/investment-news: 404\n"
     ]
    },
    {
     "name": "stderr",
     "output_type": "stream",
     "text": [
      " 60%|███████████████████████████████████████████████                               | 1388/2300 [06:20<04:32,  3.35it/s]"
     ]
    },
    {
     "name": "stdout",
     "output_type": "stream",
     "text": [
      "Error fetching articles from https://www.thestreet.com/markets: 404\n",
      "Error fetching articles from https://www.morningstar.com/market-news: 404\n"
     ]
    },
    {
     "name": "stderr",
     "output_type": "stream",
     "text": [
      " 61%|███████████████████████████████████████████████▎                              | 1394/2300 [06:21<02:32,  5.94it/s]"
     ]
    },
    {
     "name": "stdout",
     "output_type": "stream",
     "text": [
      "Error fetching articles from https://www.investors.com/market-trend/stock-market-today/: 403\n"
     ]
    },
    {
     "name": "stderr",
     "output_type": "stream",
     "text": [
      " 61%|███████████████████████████████████████████████▎                              | 1395/2300 [06:21<03:11,  4.72it/s]"
     ]
    },
    {
     "name": "stdout",
     "output_type": "stream",
     "text": [
      "Error fetching articles from https://www.reuters.com/technology/: 401\n"
     ]
    },
    {
     "name": "stderr",
     "output_type": "stream",
     "text": [
      " 61%|███████████████████████████████████████████████▍                              | 1397/2300 [06:22<03:28,  4.33it/s]"
     ]
    },
    {
     "name": "stdout",
     "output_type": "stream",
     "text": [
      "Error fetching articles from https://www.marketwatch.com/latest-news: 401\n"
     ]
    },
    {
     "name": "stderr",
     "output_type": "stream",
     "text": [
      " 61%|███████████████████████████████████████████████▍                              | 1400/2300 [06:22<03:19,  4.51it/s]"
     ]
    },
    {
     "name": "stdout",
     "output_type": "stream",
     "text": [
      "Error fetching articles from https://www.wsj.com/news/markets: 401\n"
     ]
    },
    {
     "name": "stderr",
     "output_type": "stream",
     "text": [
      " 61%|███████████████████████████████████████████████▋                              | 1407/2300 [06:25<04:09,  3.58it/s]"
     ]
    },
    {
     "name": "stdout",
     "output_type": "stream",
     "text": [
      "Error fetching articles from https://www.investing.com/news/stock-market-news for BSX: 'href'\n"
     ]
    },
    {
     "name": "stderr",
     "output_type": "stream",
     "text": [
      " 61%|███████████████████████████████████████████████▉                              | 1414/2300 [06:26<01:47,  8.21it/s]"
     ]
    },
    {
     "name": "stdout",
     "output_type": "stream",
     "text": [
      "Error fetching articles from https://www.thestreet.com/markets: 404\n",
      "Error fetching articles from https://www.morningstar.com/market-news: 404\n",
      "Error fetching articles from https://www.zacks.com/investment-news: 404\n",
      "Error fetching articles from https://www.investors.com/market-trend/stock-market-today/: 403\n"
     ]
    },
    {
     "name": "stderr",
     "output_type": "stream",
     "text": [
      " 62%|████████████████████████████████████████████████                              | 1419/2300 [06:27<03:15,  4.51it/s]"
     ]
    },
    {
     "name": "stdout",
     "output_type": "stream",
     "text": [
      "Error fetching articles from https://www.reuters.com/technology/: 401\n"
     ]
    },
    {
     "name": "stderr",
     "output_type": "stream",
     "text": [
      " 62%|████████████████████████████████████████████████▏                             | 1421/2300 [06:28<03:45,  3.90it/s]"
     ]
    },
    {
     "name": "stdout",
     "output_type": "stream",
     "text": [
      "Error fetching articles from https://www.marketwatch.com/latest-news: 401\n",
      "Error fetching articles from https://www.wsj.com/news/markets: 401\n"
     ]
    },
    {
     "name": "stderr",
     "output_type": "stream",
     "text": [
      " 62%|████████████████████████████████████████████████▌                             | 1432/2300 [06:32<03:24,  4.24it/s]"
     ]
    },
    {
     "name": "stdout",
     "output_type": "stream",
     "text": [
      "Error fetching articles from https://www.investing.com/news/stock-market-news for MMC: 'href'\n"
     ]
    },
    {
     "name": "stderr",
     "output_type": "stream",
     "text": [
      " 62%|████████████████████████████████████████████████▌                             | 1433/2300 [06:32<03:39,  3.96it/s]"
     ]
    },
    {
     "name": "stdout",
     "output_type": "stream",
     "text": [
      "Error fetching articles from https://www.thestreet.com/markets: 404\n"
     ]
    },
    {
     "name": "stderr",
     "output_type": "stream",
     "text": [
      " 62%|████████████████████████████████████████████████▋                             | 1435/2300 [06:33<03:39,  3.95it/s]"
     ]
    },
    {
     "name": "stdout",
     "output_type": "stream",
     "text": [
      "Error fetching articles from https://www.zacks.com/investment-news: 404\n"
     ]
    },
    {
     "name": "stderr",
     "output_type": "stream",
     "text": [
      " 63%|████████████████████████████████████████████████▊                             | 1438/2300 [06:33<02:54,  4.94it/s]"
     ]
    },
    {
     "name": "stdout",
     "output_type": "stream",
     "text": [
      "Error fetching articles from https://www.morningstar.com/market-news: 404\n",
      "Error fetching articles from https://www.investors.com/market-trend/stock-market-today/: 403\n"
     ]
    },
    {
     "name": "stderr",
     "output_type": "stream",
     "text": [
      " 63%|████████████████████████████████████████████████▉                             | 1442/2300 [06:34<03:03,  4.67it/s]"
     ]
    },
    {
     "name": "stdout",
     "output_type": "stream",
     "text": [
      "Error fetching articles from https://www.reuters.com/technology/: 401\n"
     ]
    },
    {
     "name": "stderr",
     "output_type": "stream",
     "text": [
      " 63%|████████████████████████████████████████████████▉                             | 1444/2300 [06:34<02:56,  4.86it/s]"
     ]
    },
    {
     "name": "stdout",
     "output_type": "stream",
     "text": [
      "Error fetching articles from https://www.marketwatch.com/latest-news: 401\n"
     ]
    },
    {
     "name": "stderr",
     "output_type": "stream",
     "text": [
      " 63%|█████████████████████████████████████████████████                             | 1447/2300 [06:35<03:21,  4.23it/s]"
     ]
    },
    {
     "name": "stdout",
     "output_type": "stream",
     "text": [
      "Error fetching articles from https://www.wsj.com/news/markets: 401\n"
     ]
    },
    {
     "name": "stderr",
     "output_type": "stream",
     "text": [
      " 63%|█████████████████████████████████████████████████▎                            | 1454/2300 [06:38<03:12,  4.40it/s]"
     ]
    },
    {
     "name": "stdout",
     "output_type": "stream",
     "text": [
      "Error fetching articles from https://www.investing.com/news/stock-market-news for CB: 'href'\n"
     ]
    },
    {
     "name": "stderr",
     "output_type": "stream",
     "text": [
      " 63%|█████████████████████████████████████████████████▍                            | 1457/2300 [06:39<03:48,  3.69it/s]"
     ]
    },
    {
     "name": "stdout",
     "output_type": "stream",
     "text": [
      "Error fetching articles from https://www.thestreet.com/markets: 404\n",
      "Error fetching articles from https://www.zacks.com/investment-news: 404\n"
     ]
    },
    {
     "name": "stderr",
     "output_type": "stream",
     "text": [
      " 64%|█████████████████████████████████████████████████▌                            | 1461/2300 [06:39<02:48,  4.97it/s]"
     ]
    },
    {
     "name": "stdout",
     "output_type": "stream",
     "text": [
      "Error fetching articles from https://www.morningstar.com/market-news: 404\n",
      "Error fetching articles from https://www.investors.com/market-trend/stock-market-today/: 403\n"
     ]
    },
    {
     "name": "stderr",
     "output_type": "stream",
     "text": [
      " 64%|█████████████████████████████████████████████████▊                            | 1467/2300 [06:41<02:45,  5.03it/s]"
     ]
    },
    {
     "name": "stdout",
     "output_type": "stream",
     "text": [
      "Error fetching articles from https://www.reuters.com/technology/: 401\n",
      "Error fetching articles from https://www.marketwatch.com/latest-news: 401\n"
     ]
    },
    {
     "name": "stderr",
     "output_type": "stream",
     "text": [
      " 64%|█████████████████████████████████████████████████▉                            | 1471/2300 [06:41<02:24,  5.75it/s]"
     ]
    },
    {
     "name": "stdout",
     "output_type": "stream",
     "text": [
      "Error fetching articles from https://www.wsj.com/news/markets: 401\n"
     ]
    },
    {
     "name": "stderr",
     "output_type": "stream",
     "text": [
      " 64%|█████████████████████████████████████████████████▉                            | 1473/2300 [06:43<07:31,  1.83it/s]"
     ]
    },
    {
     "name": "stdout",
     "output_type": "stream",
     "text": [
      "Error fetching articles from https://www.investing.com/news/stock-market-news for BA: 'href'\n"
     ]
    },
    {
     "name": "stderr",
     "output_type": "stream",
     "text": [
      " 64%|██████████████████████████████████████████████████▏                           | 1479/2300 [06:44<03:11,  4.29it/s]"
     ]
    },
    {
     "name": "stdout",
     "output_type": "stream",
     "text": [
      "Error fetching articles from https://www.thestreet.com/markets: 404\n"
     ]
    },
    {
     "name": "stderr",
     "output_type": "stream",
     "text": [
      " 64%|██████████████████████████████████████████████████▎                           | 1483/2300 [06:45<03:14,  4.20it/s]"
     ]
    },
    {
     "name": "stdout",
     "output_type": "stream",
     "text": [
      "Error fetching articles from https://www.zacks.com/investment-news: 404\n",
      "Error fetching articles from https://www.morningstar.com/market-news: 404\n",
      "Error fetching articles from https://www.investors.com/market-trend/stock-market-today/: 403\n"
     ]
    },
    {
     "name": "stderr",
     "output_type": "stream",
     "text": [
      " 65%|██████████████████████████████████████████████████▍                           | 1487/2300 [06:46<02:48,  4.83it/s]"
     ]
    },
    {
     "name": "stdout",
     "output_type": "stream",
     "text": [
      "Error fetching articles from https://www.reuters.com/technology/: 401\n"
     ]
    },
    {
     "name": "stderr",
     "output_type": "stream",
     "text": [
      " 65%|██████████████████████████████████████████████████▌                           | 1491/2300 [06:47<02:10,  6.21it/s]"
     ]
    },
    {
     "name": "stdout",
     "output_type": "stream",
     "text": [
      "Error fetching articles from https://www.marketwatch.com/latest-news: 401\n",
      "Error fetching articles from https://www.wsj.com/news/markets: 401\n"
     ]
    },
    {
     "name": "stderr",
     "output_type": "stream",
     "text": [
      " 65%|██████████████████████████████████████████████████▉                           | 1501/2300 [06:51<03:25,  3.88it/s]"
     ]
    },
    {
     "name": "stdout",
     "output_type": "stream",
     "text": [
      "Error fetching articles from https://www.investing.com/news/stock-market-news for RIO: 'href'\n"
     ]
    },
    {
     "name": "stderr",
     "output_type": "stream",
     "text": [
      " 65%|██████████████████████████████████████████████████▉                           | 1503/2300 [06:51<04:06,  3.24it/s]"
     ]
    },
    {
     "name": "stdout",
     "output_type": "stream",
     "text": [
      "Error fetching articles from https://www.thestreet.com/markets: 404\n",
      "Error fetching articles from https://www.morningstar.com/market-news: 404\n",
      "Error fetching articles from https://www.zacks.com/investment-news: 404\n"
     ]
    },
    {
     "name": "stderr",
     "output_type": "stream",
     "text": [
      " 66%|███████████████████████████████████████████████████▏                          | 1508/2300 [06:52<02:31,  5.23it/s]"
     ]
    },
    {
     "name": "stdout",
     "output_type": "stream",
     "text": [
      "Error fetching articles from https://www.investors.com/market-trend/stock-market-today/: 403\n"
     ]
    },
    {
     "name": "stderr",
     "output_type": "stream",
     "text": [
      " 66%|███████████████████████████████████████████████████▎                          | 1512/2300 [06:53<02:26,  5.37it/s]"
     ]
    },
    {
     "name": "stdout",
     "output_type": "stream",
     "text": [
      "Error fetching articles from https://www.reuters.com/technology/: 401\n"
     ]
    },
    {
     "name": "stderr",
     "output_type": "stream",
     "text": [
      " 66%|███████████████████████████████████████████████████▎                          | 1513/2300 [06:53<02:20,  5.62it/s]"
     ]
    },
    {
     "name": "stdout",
     "output_type": "stream",
     "text": [
      "Error fetching articles from https://www.marketwatch.com/latest-news: 401\n"
     ]
    },
    {
     "name": "stderr",
     "output_type": "stream",
     "text": [
      " 66%|███████████████████████████████████████████████████▍                          | 1515/2300 [06:54<03:01,  4.33it/s]"
     ]
    },
    {
     "name": "stdout",
     "output_type": "stream",
     "text": [
      "Error fetching articles from https://www.wsj.com/news/markets: 401\n"
     ]
    },
    {
     "name": "stderr",
     "output_type": "stream",
     "text": [
      " 66%|███████████████████████████████████████████████████▋                          | 1523/2300 [06:57<02:52,  4.50it/s]"
     ]
    },
    {
     "name": "stdout",
     "output_type": "stream",
     "text": [
      "Error fetching articles from https://www.investing.com/news/stock-market-news for ADI: 'href'\n"
     ]
    },
    {
     "name": "stderr",
     "output_type": "stream",
     "text": [
      " 66%|███████████████████████████████████████████████████▊                          | 1526/2300 [06:58<03:42,  3.48it/s]"
     ]
    },
    {
     "name": "stdout",
     "output_type": "stream",
     "text": [
      "Error fetching articles from https://www.zacks.com/investment-news: 404\n",
      "Error fetching articles from https://www.thestreet.com/markets: 404\n"
     ]
    },
    {
     "name": "stderr",
     "output_type": "stream",
     "text": [
      " 66%|███████████████████████████████████████████████████▊                          | 1529/2300 [06:59<03:09,  4.07it/s]"
     ]
    },
    {
     "name": "stdout",
     "output_type": "stream",
     "text": [
      "Error fetching articles from https://www.morningstar.com/market-news: 404\n"
     ]
    },
    {
     "name": "stderr",
     "output_type": "stream",
     "text": [
      " 67%|███████████████████████████████████████████████████▉                          | 1531/2300 [06:59<02:35,  4.96it/s]"
     ]
    },
    {
     "name": "stdout",
     "output_type": "stream",
     "text": [
      "Error fetching articles from https://www.investors.com/market-trend/stock-market-today/: 403\n"
     ]
    },
    {
     "name": "stderr",
     "output_type": "stream",
     "text": [
      " 67%|████████████████████████████████████████████████████                          | 1535/2300 [07:00<02:11,  5.81it/s]"
     ]
    },
    {
     "name": "stdout",
     "output_type": "stream",
     "text": [
      "Error fetching articles from https://www.reuters.com/technology/: 401\n",
      "Error fetching articles from https://www.marketwatch.com/latest-news: 401\n"
     ]
    },
    {
     "name": "stderr",
     "output_type": "stream",
     "text": [
      " 67%|████████████████████████████████████████████████████                          | 1537/2300 [07:00<02:22,  5.37it/s]"
     ]
    },
    {
     "name": "stdout",
     "output_type": "stream",
     "text": [
      "Error fetching articles from https://www.wsj.com/news/markets: 401\n"
     ]
    },
    {
     "name": "stderr",
     "output_type": "stream",
     "text": [
      " 67%|████████████████████████████████████████████████████▍                         | 1546/2300 [07:03<03:07,  4.02it/s]"
     ]
    },
    {
     "name": "stdout",
     "output_type": "stream",
     "text": [
      "Error fetching articles from https://www.investing.com/news/stock-market-news for LRCX: 'href'\n"
     ]
    },
    {
     "name": "stderr",
     "output_type": "stream",
     "text": [
      " 67%|████████████████████████████████████████████████████▌                         | 1549/2300 [07:04<02:27,  5.09it/s]"
     ]
    },
    {
     "name": "stdout",
     "output_type": "stream",
     "text": [
      "Error fetching articles from https://www.thestreet.com/markets: 404\n"
     ]
    },
    {
     "name": "stderr",
     "output_type": "stream",
     "text": [
      " 67%|████████████████████████████████████████████████████▌                         | 1551/2300 [07:04<03:14,  3.86it/s]"
     ]
    },
    {
     "name": "stdout",
     "output_type": "stream",
     "text": [
      "Error fetching articles from https://www.zacks.com/investment-news: 404\n",
      "Error fetching articles from https://www.morningstar.com/market-news: 404\n"
     ]
    },
    {
     "name": "stderr",
     "output_type": "stream",
     "text": [
      " 68%|████████████████████████████████████████████████████▋                         | 1553/2300 [07:05<02:58,  4.20it/s]"
     ]
    },
    {
     "name": "stdout",
     "output_type": "stream",
     "text": [
      "Error fetching articles from https://www.investors.com/market-trend/stock-market-today/: 403\n"
     ]
    },
    {
     "name": "stderr",
     "output_type": "stream",
     "text": [
      " 68%|████████████████████████████████████████████████████▊                         | 1557/2300 [07:05<02:05,  5.94it/s]"
     ]
    },
    {
     "name": "stdout",
     "output_type": "stream",
     "text": [
      "Error fetching articles from https://www.reuters.com/technology/: 401\n"
     ]
    },
    {
     "name": "stderr",
     "output_type": "stream",
     "text": [
      " 68%|████████████████████████████████████████████████████▊                         | 1559/2300 [07:06<02:15,  5.46it/s]"
     ]
    },
    {
     "name": "stdout",
     "output_type": "stream",
     "text": [
      "Error fetching articles from https://www.marketwatch.com/latest-news: 401\n"
     ]
    },
    {
     "name": "stderr",
     "output_type": "stream",
     "text": [
      " 68%|████████████████████████████████████████████████████▉                         | 1561/2300 [07:06<02:33,  4.81it/s]"
     ]
    },
    {
     "name": "stdout",
     "output_type": "stream",
     "text": [
      "Error fetching articles from https://www.wsj.com/news/markets: 401\n"
     ]
    },
    {
     "name": "stderr",
     "output_type": "stream",
     "text": [
      " 68%|█████████████████████████████████████████████████████▏                        | 1570/2300 [07:10<03:00,  4.05it/s]"
     ]
    },
    {
     "name": "stdout",
     "output_type": "stream",
     "text": [
      "Error fetching articles from https://www.investing.com/news/stock-market-news for ADP: 'href'\n"
     ]
    },
    {
     "name": "stderr",
     "output_type": "stream",
     "text": [
      " 68%|█████████████████████████████████████████████████████▎                        | 1573/2300 [07:11<02:50,  4.26it/s]"
     ]
    },
    {
     "name": "stdout",
     "output_type": "stream",
     "text": [
      "Error fetching articles from https://www.zacks.com/investment-news: 404\n",
      "Error fetching articles from https://www.thestreet.com/markets: 404\n"
     ]
    },
    {
     "name": "stderr",
     "output_type": "stream",
     "text": [
      " 68%|█████████████████████████████████████████████████████▍                        | 1574/2300 [07:11<03:32,  3.42it/s]"
     ]
    },
    {
     "name": "stdout",
     "output_type": "stream",
     "text": [
      "Error fetching articles from https://www.morningstar.com/market-news: 404\n"
     ]
    },
    {
     "name": "stderr",
     "output_type": "stream",
     "text": [
      " 69%|█████████████████████████████████████████████████████▍                        | 1576/2300 [07:12<03:33,  3.39it/s]"
     ]
    },
    {
     "name": "stdout",
     "output_type": "stream",
     "text": [
      "Error fetching articles from https://www.investors.com/market-trend/stock-market-today/: 403\n"
     ]
    },
    {
     "name": "stderr",
     "output_type": "stream",
     "text": [
      " 69%|█████████████████████████████████████████████████████▌                        | 1580/2300 [07:12<01:51,  6.48it/s]"
     ]
    },
    {
     "name": "stdout",
     "output_type": "stream",
     "text": [
      "Error fetching articles from https://www.reuters.com/technology/: 401\n"
     ]
    },
    {
     "name": "stderr",
     "output_type": "stream",
     "text": [
      " 69%|█████████████████████████████████████████████████████▋                        | 1583/2300 [07:13<02:02,  5.83it/s]"
     ]
    },
    {
     "name": "stdout",
     "output_type": "stream",
     "text": [
      "Error fetching articles from https://www.marketwatch.com/latest-news: 401\n",
      "Error fetching articles from https://www.wsj.com/news/markets: 401\n"
     ]
    },
    {
     "name": "stderr",
     "output_type": "stream",
     "text": [
      " 69%|██████████████████████████████████████████████████████                        | 1594/2300 [07:16<02:35,  4.55it/s]"
     ]
    },
    {
     "name": "stdout",
     "output_type": "stream",
     "text": [
      "Error fetching articles from https://www.investing.com/news/stock-market-news for AMT: 'href'\n"
     ]
    },
    {
     "name": "stderr",
     "output_type": "stream",
     "text": [
      " 69%|██████████████████████████████████████████████████████                        | 1595/2300 [07:16<02:37,  4.47it/s]"
     ]
    },
    {
     "name": "stdout",
     "output_type": "stream",
     "text": [
      "Error fetching articles from https://www.thestreet.com/markets: 404\n"
     ]
    },
    {
     "name": "stderr",
     "output_type": "stream",
     "text": [
      " 69%|██████████████████████████████████████████████████████▏                       | 1596/2300 [07:17<03:07,  3.76it/s]"
     ]
    },
    {
     "name": "stdout",
     "output_type": "stream",
     "text": [
      "Error fetching articles from https://www.zacks.com/investment-news: 404Error fetching articles from https://www.morningstar.com/market-news: 404\n",
      "\n"
     ]
    },
    {
     "name": "stderr",
     "output_type": "stream",
     "text": [
      " 70%|██████████████████████████████████████████████████████▏                       | 1599/2300 [07:17<02:23,  4.88it/s]"
     ]
    },
    {
     "name": "stdout",
     "output_type": "stream",
     "text": [
      "Error fetching articles from https://www.investors.com/market-trend/stock-market-today/: 403\n"
     ]
    },
    {
     "name": "stderr",
     "output_type": "stream",
     "text": [
      " 70%|██████████████████████████████████████████████████████▎                       | 1603/2300 [07:18<02:42,  4.28it/s]"
     ]
    },
    {
     "name": "stdout",
     "output_type": "stream",
     "text": [
      "Error fetching articles from https://www.reuters.com/technology/: 401\n"
     ]
    },
    {
     "name": "stderr",
     "output_type": "stream",
     "text": [
      " 70%|██████████████████████████████████████████████████████▍                       | 1606/2300 [07:19<02:34,  4.50it/s]"
     ]
    },
    {
     "name": "stdout",
     "output_type": "stream",
     "text": [
      "Error fetching articles from https://www.marketwatch.com/latest-news: 401\n"
     ]
    },
    {
     "name": "stderr",
     "output_type": "stream",
     "text": [
      " 70%|██████████████████████████████████████████████████████▌                       | 1608/2300 [07:20<02:49,  4.07it/s]"
     ]
    },
    {
     "name": "stdout",
     "output_type": "stream",
     "text": [
      "Error fetching articles from https://www.wsj.com/news/markets: 401\n"
     ]
    },
    {
     "name": "stderr",
     "output_type": "stream",
     "text": [
      " 70%|██████████████████████████████████████████████████████▊                       | 1616/2300 [07:23<03:24,  3.34it/s]"
     ]
    },
    {
     "name": "stdout",
     "output_type": "stream",
     "text": [
      "Error fetching articles from https://www.investing.com/news/stock-market-news for KKR: 'href'\n",
      "Error fetching articles from https://www.thestreet.com/markets: 404\n"
     ]
    },
    {
     "name": "stderr",
     "output_type": "stream",
     "text": [
      " 70%|██████████████████████████████████████████████████████▉                       | 1619/2300 [07:23<02:25,  4.68it/s]"
     ]
    },
    {
     "name": "stdout",
     "output_type": "stream",
     "text": [
      "Error fetching articles from https://www.morningstar.com/market-news: 404\n"
     ]
    },
    {
     "name": "stderr",
     "output_type": "stream",
     "text": [
      " 70%|██████████████████████████████████████████████████████▉                       | 1620/2300 [07:23<02:25,  4.66it/s]"
     ]
    },
    {
     "name": "stdout",
     "output_type": "stream",
     "text": [
      "Error fetching articles from https://www.zacks.com/investment-news: 404\n"
     ]
    },
    {
     "name": "stderr",
     "output_type": "stream",
     "text": [
      " 71%|███████████████████████████████████████████████████████                       | 1623/2300 [07:24<02:22,  4.75it/s]"
     ]
    },
    {
     "name": "stdout",
     "output_type": "stream",
     "text": [
      "Error fetching articles from https://www.investors.com/market-trend/stock-market-today/: 403\n"
     ]
    },
    {
     "name": "stderr",
     "output_type": "stream",
     "text": [
      " 71%|███████████████████████████████████████████████████████▏                      | 1626/2300 [07:24<02:22,  4.75it/s]"
     ]
    },
    {
     "name": "stdout",
     "output_type": "stream",
     "text": [
      "Error fetching articles from https://www.reuters.com/technology/: 401\n"
     ]
    },
    {
     "name": "stderr",
     "output_type": "stream",
     "text": [
      " 71%|███████████████████████████████████████████████████████▏                      | 1628/2300 [07:25<02:49,  3.97it/s]"
     ]
    },
    {
     "name": "stdout",
     "output_type": "stream",
     "text": [
      "Error fetching articles from https://www.marketwatch.com/latest-news: 401\n"
     ]
    },
    {
     "name": "stderr",
     "output_type": "stream",
     "text": [
      " 71%|███████████████████████████████████████████████████████▎                      | 1630/2300 [07:26<02:42,  4.11it/s]"
     ]
    },
    {
     "name": "stdout",
     "output_type": "stream",
     "text": [
      "Error fetching articles from https://www.wsj.com/news/markets: 401\n"
     ]
    },
    {
     "name": "stderr",
     "output_type": "stream",
     "text": [
      " 71%|███████████████████████████████████████████████████████▋                      | 1641/2300 [07:30<03:25,  3.20it/s]"
     ]
    },
    {
     "name": "stdout",
     "output_type": "stream",
     "text": [
      "Error fetching articles from https://www.investing.com/news/stock-market-news for ANET: 'href'\n",
      "Error fetching articles from https://www.zacks.com/investment-news: 404\n"
     ]
    },
    {
     "name": "stderr",
     "output_type": "stream",
     "text": [
      " 71%|███████████████████████████████████████████████████████▊                      | 1644/2300 [07:31<03:48,  2.87it/s]"
     ]
    },
    {
     "name": "stdout",
     "output_type": "stream",
     "text": [
      "Error fetching articles from https://www.thestreet.com/markets: 404\n",
      "Error fetching articles from https://www.morningstar.com/market-news: 404\n",
      "Error fetching articles from https://www.investors.com/market-trend/stock-market-today/: 403\n",
      "Error fetching articles from https://www.reuters.com/technology/: 401\n"
     ]
    },
    {
     "name": "stderr",
     "output_type": "stream",
     "text": [
      " 72%|███████████████████████████████████████████████████████▉                      | 1651/2300 [07:32<01:15,  8.62it/s]"
     ]
    },
    {
     "name": "stdout",
     "output_type": "stream",
     "text": [
      "Error fetching articles from https://www.marketwatch.com/latest-news: 401\n"
     ]
    },
    {
     "name": "stderr",
     "output_type": "stream",
     "text": [
      " 72%|████████████████████████████████████████████████████████                      | 1653/2300 [07:32<01:27,  7.38it/s]"
     ]
    },
    {
     "name": "stdout",
     "output_type": "stream",
     "text": [
      "Error fetching articles from https://www.wsj.com/news/markets: 401\n"
     ]
    },
    {
     "name": "stderr",
     "output_type": "stream",
     "text": [
      " 72%|████████████████████████████████████████████████████████▎                     | 1662/2300 [07:35<03:20,  3.18it/s]"
     ]
    },
    {
     "name": "stdout",
     "output_type": "stream",
     "text": [
      "Error fetching articles from https://www.investing.com/news/stock-market-news for MDT: 'href'\n",
      "Error fetching articles from https://www.zacks.com/investment-news: 404\n"
     ]
    },
    {
     "name": "stderr",
     "output_type": "stream",
     "text": [
      " 72%|████████████████████████████████████████████████████████▌                     | 1667/2300 [07:36<01:57,  5.38it/s]"
     ]
    },
    {
     "name": "stdout",
     "output_type": "stream",
     "text": [
      "Error fetching articles from https://www.thestreet.com/markets: 404\n",
      "Error fetching articles from https://www.morningstar.com/market-news: 404\n"
     ]
    },
    {
     "name": "stderr",
     "output_type": "stream",
     "text": [
      " 73%|████████████████████████████████████████████████████████▌                     | 1669/2300 [07:36<01:46,  5.92it/s]"
     ]
    },
    {
     "name": "stdout",
     "output_type": "stream",
     "text": [
      "Error fetching articles from https://www.investors.com/market-trend/stock-market-today/: 403\n"
     ]
    },
    {
     "name": "stderr",
     "output_type": "stream",
     "text": [
      " 73%|████████████████████████████████████████████████████████▋                     | 1672/2300 [07:37<02:35,  4.04it/s]"
     ]
    },
    {
     "name": "stdout",
     "output_type": "stream",
     "text": [
      "Error fetching articles from https://www.reuters.com/technology/: 401\n"
     ]
    },
    {
     "name": "stderr",
     "output_type": "stream",
     "text": [
      " 73%|████████████████████████████████████████████████████████▊                     | 1674/2300 [07:37<02:00,  5.18it/s]"
     ]
    },
    {
     "name": "stdout",
     "output_type": "stream",
     "text": [
      "Error fetching articles from https://www.marketwatch.com/latest-news: 401\n",
      "Error fetching articles from https://www.wsj.com/news/markets: 401\n"
     ]
    },
    {
     "name": "stderr",
     "output_type": "stream",
     "text": [
      " 73%|█████████████████████████████████████████████████████████                     | 1684/2300 [07:42<03:31,  2.91it/s]"
     ]
    },
    {
     "name": "stdout",
     "output_type": "stream",
     "text": [
      "Error fetching articles from https://www.investing.com/news/stock-market-news for SONY: 'href'\n"
     ]
    },
    {
     "name": "stderr",
     "output_type": "stream",
     "text": [
      " 73%|█████████████████████████████████████████████████████████▏                    | 1688/2300 [07:43<02:18,  4.41it/s]"
     ]
    },
    {
     "name": "stdout",
     "output_type": "stream",
     "text": [
      "Error fetching articles from https://www.thestreet.com/markets: 404\n"
     ]
    },
    {
     "name": "stderr",
     "output_type": "stream",
     "text": [
      " 74%|█████████████████████████████████████████████████████████▎                    | 1691/2300 [07:43<01:58,  5.14it/s]"
     ]
    },
    {
     "name": "stdout",
     "output_type": "stream",
     "text": [
      "Error fetching articles from https://www.zacks.com/investment-news: 404\n",
      "Error fetching articles from https://www.morningstar.com/market-news: 404\n"
     ]
    },
    {
     "name": "stderr",
     "output_type": "stream",
     "text": [
      " 74%|█████████████████████████████████████████████████████████▍                    | 1693/2300 [07:44<02:07,  4.76it/s]"
     ]
    },
    {
     "name": "stdout",
     "output_type": "stream",
     "text": [
      "Error fetching articles from https://www.investors.com/market-trend/stock-market-today/: 403\n"
     ]
    },
    {
     "name": "stderr",
     "output_type": "stream",
     "text": [
      " 74%|█████████████████████████████████████████████████████████▌                    | 1696/2300 [07:44<02:17,  4.38it/s]"
     ]
    },
    {
     "name": "stdout",
     "output_type": "stream",
     "text": [
      "Error fetching articles from https://www.reuters.com/technology/: 401\n",
      "Error fetching articles from https://www.marketwatch.com/latest-news: 401\n"
     ]
    },
    {
     "name": "stderr",
     "output_type": "stream",
     "text": [
      " 74%|█████████████████████████████████████████████████████████▌                    | 1699/2300 [07:45<02:31,  3.96it/s]"
     ]
    },
    {
     "name": "stdout",
     "output_type": "stream",
     "text": [
      "Error fetching articles from https://www.wsj.com/news/markets: 401\n"
     ]
    },
    {
     "name": "stderr",
     "output_type": "stream",
     "text": [
      " 74%|█████████████████████████████████████████████████████████▉                    | 1707/2300 [07:48<02:09,  4.58it/s]"
     ]
    },
    {
     "name": "stdout",
     "output_type": "stream",
     "text": [
      "Error fetching articles from https://www.investing.com/news/stock-market-news for PANW: 'href'\n"
     ]
    },
    {
     "name": "stderr",
     "output_type": "stream",
     "text": [
      " 74%|█████████████████████████████████████████████████████████▉                    | 1709/2300 [07:49<03:05,  3.18it/s]"
     ]
    },
    {
     "name": "stdout",
     "output_type": "stream",
     "text": [
      "Error fetching articles from https://www.zacks.com/investment-news: 404\n",
      "Error fetching articles from https://www.thestreet.com/markets: 404\n"
     ]
    },
    {
     "name": "stderr",
     "output_type": "stream",
     "text": [
      " 74%|██████████████████████████████████████████████████████████                    | 1713/2300 [07:49<02:01,  4.83it/s]"
     ]
    },
    {
     "name": "stdout",
     "output_type": "stream",
     "text": [
      "Error fetching articles from https://www.morningstar.com/market-news: 404\n"
     ]
    },
    {
     "name": "stderr",
     "output_type": "stream",
     "text": [
      " 75%|██████████████████████████████████████████████████████████▏                   | 1716/2300 [07:50<01:23,  7.00it/s]"
     ]
    },
    {
     "name": "stdout",
     "output_type": "stream",
     "text": [
      "Error fetching articles from https://www.investors.com/market-trend/stock-market-today/: 403\n",
      "Error fetching articles from https://www.reuters.com/technology/: 401\n"
     ]
    },
    {
     "name": "stderr",
     "output_type": "stream",
     "text": [
      " 75%|██████████████████████████████████████████████████████████▎                   | 1719/2300 [07:50<01:49,  5.28it/s]"
     ]
    },
    {
     "name": "stdout",
     "output_type": "stream",
     "text": [
      "Error fetching articles from https://www.marketwatch.com/latest-news: 401\n"
     ]
    },
    {
     "name": "stderr",
     "output_type": "stream",
     "text": [
      " 75%|██████████████████████████████████████████████████████████▍                   | 1722/2300 [07:51<02:07,  4.52it/s]"
     ]
    },
    {
     "name": "stdout",
     "output_type": "stream",
     "text": [
      "Error fetching articles from https://www.wsj.com/news/markets: 401\n"
     ]
    },
    {
     "name": "stderr",
     "output_type": "stream",
     "text": [
      " 75%|██████████████████████████████████████████████████████████▋                   | 1731/2300 [07:54<02:21,  4.01it/s]"
     ]
    },
    {
     "name": "stdout",
     "output_type": "stream",
     "text": [
      "Error fetching articles from https://www.investing.com/news/stock-market-news for TD: 'href'\n"
     ]
    },
    {
     "name": "stderr",
     "output_type": "stream",
     "text": [
      " 75%|██████████████████████████████████████████████████████████▊                   | 1735/2300 [07:55<01:54,  4.93it/s]"
     ]
    },
    {
     "name": "stdout",
     "output_type": "stream",
     "text": [
      "Error fetching articles from https://www.thestreet.com/markets: 404\n",
      "Error fetching articles from https://www.morningstar.com/market-news: 404\n"
     ]
    },
    {
     "name": "stderr",
     "output_type": "stream",
     "text": [
      " 75%|██████████████████████████████████████████████████████████▊                   | 1736/2300 [07:56<02:24,  3.89it/s]"
     ]
    },
    {
     "name": "stdout",
     "output_type": "stream",
     "text": [
      "Error fetching articles from https://www.zacks.com/investment-news: 404\n",
      "Error fetching articles from https://www.investors.com/market-trend/stock-market-today/: 403\n"
     ]
    },
    {
     "name": "stderr",
     "output_type": "stream",
     "text": [
      " 76%|███████████████████████████████████████████████████████████                   | 1742/2300 [07:57<01:58,  4.70it/s]"
     ]
    },
    {
     "name": "stdout",
     "output_type": "stream",
     "text": [
      "Error fetching articles from https://www.reuters.com/technology/: 401\n"
     ]
    },
    {
     "name": "stderr",
     "output_type": "stream",
     "text": [
      " 76%|███████████████████████████████████████████████████████████▏                  | 1744/2300 [07:57<02:13,  4.18it/s]"
     ]
    },
    {
     "name": "stdout",
     "output_type": "stream",
     "text": [
      "Error fetching articles from https://www.marketwatch.com/latest-news: 401\n",
      "Error fetching articles from https://www.wsj.com/news/markets: 401\n"
     ]
    },
    {
     "name": "stderr",
     "output_type": "stream",
     "text": [
      " 76%|███████████████████████████████████████████████████████████▌                  | 1757/2300 [08:02<02:13,  4.06it/s]"
     ]
    },
    {
     "name": "stdout",
     "output_type": "stream",
     "text": [
      "Error fetching articles from https://www.thestreet.com/markets: 404\n",
      "Error fetching articles from https://www.investing.com/news/stock-market-news for KLAC: 'href'\n"
     ]
    },
    {
     "name": "stderr",
     "output_type": "stream",
     "text": [
      " 77%|███████████████████████████████████████████████████████████▋                  | 1761/2300 [08:03<01:43,  5.20it/s]"
     ]
    },
    {
     "name": "stdout",
     "output_type": "stream",
     "text": [
      "Error fetching articles from https://www.morningstar.com/market-news: 404\n",
      "Error fetching articles from https://www.investors.com/market-trend/stock-market-today/: 403\n",
      "Error fetching articles from https://www.zacks.com/investment-news: 404\n"
     ]
    },
    {
     "name": "stderr",
     "output_type": "stream",
     "text": [
      " 77%|███████████████████████████████████████████████████████████▊                  | 1765/2300 [08:04<02:03,  4.32it/s]"
     ]
    },
    {
     "name": "stdout",
     "output_type": "stream",
     "text": [
      "Error fetching articles from https://www.reuters.com/technology/: 401\n",
      "Error fetching articles from https://www.marketwatch.com/latest-news: 401\n"
     ]
    },
    {
     "name": "stderr",
     "output_type": "stream",
     "text": [
      " 77%|███████████████████████████████████████████████████████████▉                  | 1768/2300 [08:05<02:00,  4.41it/s]"
     ]
    },
    {
     "name": "stdout",
     "output_type": "stream",
     "text": [
      "Error fetching articles from https://www.wsj.com/news/markets: 401\n"
     ]
    },
    {
     "name": "stderr",
     "output_type": "stream",
     "text": [
      " 77%|████████████████████████████████████████████████████████████▎                 | 1777/2300 [08:07<01:52,  4.66it/s]"
     ]
    },
    {
     "name": "stdout",
     "output_type": "stream",
     "text": [
      "Error fetching articles from https://www.investing.com/news/stock-market-news for IBN: 'href'\n",
      "Error fetching articles from https://www.thestreet.com/markets: 404\n",
      "Error fetching articles from https://www.zacks.com/investment-news: 404\n"
     ]
    },
    {
     "name": "stderr",
     "output_type": "stream",
     "text": [
      " 77%|████████████████████████████████████████████████████████████▎                 | 1780/2300 [08:08<01:41,  5.10it/s]"
     ]
    },
    {
     "name": "stdout",
     "output_type": "stream",
     "text": [
      "Error fetching articles from https://www.morningstar.com/market-news: 404\n"
     ]
    },
    {
     "name": "stderr",
     "output_type": "stream",
     "text": [
      " 78%|████████████████████████████████████████████████████████████▍                 | 1783/2300 [08:08<01:31,  5.64it/s]"
     ]
    },
    {
     "name": "stdout",
     "output_type": "stream",
     "text": [
      "Error fetching articles from https://www.investors.com/market-trend/stock-market-today/: 403\n"
     ]
    },
    {
     "name": "stderr",
     "output_type": "stream",
     "text": [
      " 78%|████████████████████████████████████████████████████████████▋                 | 1788/2300 [08:10<02:00,  4.26it/s]"
     ]
    },
    {
     "name": "stdout",
     "output_type": "stream",
     "text": [
      "Error fetching articles from https://www.marketwatch.com/latest-news: 401\n",
      "Error fetching articles from https://www.reuters.com/technology/: 401\n"
     ]
    },
    {
     "name": "stderr",
     "output_type": "stream",
     "text": [
      " 78%|████████████████████████████████████████████████████████████▋                 | 1791/2300 [08:11<02:39,  3.18it/s]"
     ]
    },
    {
     "name": "stdout",
     "output_type": "stream",
     "text": [
      "Error fetching articles from https://www.wsj.com/news/markets: 401\n"
     ]
    },
    {
     "name": "stderr",
     "output_type": "stream",
     "text": [
      " 78%|█████████████████████████████████████████████████████████████                 | 1800/2300 [08:13<01:43,  4.82it/s]"
     ]
    },
    {
     "name": "stdout",
     "output_type": "stream",
     "text": [
      "Error fetching articles from https://www.investing.com/news/stock-market-news for MMM: 'href'\n"
     ]
    },
    {
     "name": "stderr",
     "output_type": "stream",
     "text": [
      " 78%|█████████████████████████████████████████████████████████████▏                | 1803/2300 [08:14<01:34,  5.28it/s]"
     ]
    },
    {
     "name": "stdout",
     "output_type": "stream",
     "text": [
      "Error fetching articles from https://www.thestreet.com/markets: 404\n",
      "Error fetching articles from https://www.morningstar.com/market-news: 404\n",
      "Error fetching articles from https://www.zacks.com/investment-news: 404\n"
     ]
    },
    {
     "name": "stderr",
     "output_type": "stream",
     "text": [
      " 78%|█████████████████████████████████████████████████████████████▏                | 1805/2300 [08:15<01:56,  4.24it/s]"
     ]
    },
    {
     "name": "stdout",
     "output_type": "stream",
     "text": [
      "Error fetching articles from https://www.investors.com/market-trend/stock-market-today/: 403\n"
     ]
    },
    {
     "name": "stderr",
     "output_type": "stream",
     "text": [
      " 79%|█████████████████████████████████████████████████████████████▍                | 1811/2300 [08:16<01:40,  4.87it/s]"
     ]
    },
    {
     "name": "stdout",
     "output_type": "stream",
     "text": [
      "Error fetching articles from https://www.reuters.com/technology/: 401\n"
     ]
    },
    {
     "name": "stderr",
     "output_type": "stream",
     "text": [
      " 79%|█████████████████████████████████████████████████████████████▍                | 1812/2300 [08:16<01:41,  4.79it/s]"
     ]
    },
    {
     "name": "stdout",
     "output_type": "stream",
     "text": [
      "Error fetching articles from https://www.marketwatch.com/latest-news: 401\n"
     ]
    },
    {
     "name": "stderr",
     "output_type": "stream",
     "text": [
      " 79%|█████████████████████████████████████████████████████████████▌                | 1814/2300 [08:17<01:55,  4.20it/s]"
     ]
    },
    {
     "name": "stdout",
     "output_type": "stream",
     "text": [
      "Error fetching articles from https://www.wsj.com/news/markets: 401\n"
     ]
    },
    {
     "name": "stderr",
     "output_type": "stream",
     "text": [
      " 79%|█████████████████████████████████████████████████████████████▊                | 1822/2300 [08:20<02:13,  3.58it/s]"
     ]
    },
    {
     "name": "stdout",
     "output_type": "stream",
     "text": [
      "Error fetching articles from https://www.investing.com/news/stock-market-news for GILD: 'href'\n"
     ]
    },
    {
     "name": "stderr",
     "output_type": "stream",
     "text": [
      " 79%|█████████████████████████████████████████████████████████████▉                | 1825/2300 [08:20<01:38,  4.83it/s]"
     ]
    },
    {
     "name": "stdout",
     "output_type": "stream",
     "text": [
      "Error fetching articles from https://www.thestreet.com/markets: 404\n"
     ]
    },
    {
     "name": "stderr",
     "output_type": "stream",
     "text": [
      " 79%|█████████████████████████████████████████████████████████████▉                | 1827/2300 [08:21<01:42,  4.60it/s]"
     ]
    },
    {
     "name": "stdout",
     "output_type": "stream",
     "text": [
      "Error fetching articles from https://www.morningstar.com/market-news: 404\n",
      "Error fetching articles from https://www.zacks.com/investment-news: 404\n"
     ]
    },
    {
     "name": "stderr",
     "output_type": "stream",
     "text": [
      " 80%|██████████████████████████████████████████████████████████████                | 1830/2300 [08:21<01:26,  5.40it/s]"
     ]
    },
    {
     "name": "stdout",
     "output_type": "stream",
     "text": [
      "Error fetching articles from https://www.investors.com/market-trend/stock-market-today/: 403\n"
     ]
    },
    {
     "name": "stderr",
     "output_type": "stream",
     "text": [
      " 80%|██████████████████████████████████████████████████████████████▏               | 1833/2300 [08:22<01:53,  4.11it/s]"
     ]
    },
    {
     "name": "stdout",
     "output_type": "stream",
     "text": [
      "Error fetching articles from https://www.reuters.com/technology/: 401\n"
     ]
    },
    {
     "name": "stderr",
     "output_type": "stream",
     "text": [
      " 80%|██████████████████████████████████████████████████████████████▏               | 1835/2300 [08:22<01:50,  4.21it/s]"
     ]
    },
    {
     "name": "stdout",
     "output_type": "stream",
     "text": [
      "Error fetching articles from https://www.marketwatch.com/latest-news: 401\n",
      "Error fetching articles from https://www.wsj.com/news/markets: 401\n"
     ]
    },
    {
     "name": "stderr",
     "output_type": "stream",
     "text": [
      " 80%|██████████████████████████████████████████████████████████████▌               | 1844/2300 [08:26<02:17,  3.32it/s]"
     ]
    },
    {
     "name": "stdout",
     "output_type": "stream",
     "text": [
      "Error fetching articles from https://www.investing.com/news/stock-market-news for PEP: 'href'\n"
     ]
    },
    {
     "name": "stderr",
     "output_type": "stream",
     "text": [
      " 80%|██████████████████████████████████████████████████████████████▋               | 1848/2300 [08:27<02:14,  3.36it/s]"
     ]
    },
    {
     "name": "stdout",
     "output_type": "stream",
     "text": [
      "Error fetching articles from https://www.zacks.com/investment-news: 404\n",
      "Error fetching articles from https://www.thestreet.com/markets: 404\n"
     ]
    },
    {
     "name": "stderr",
     "output_type": "stream",
     "text": [
      " 81%|██████████████████████████████████████████████████████████████▊               | 1854/2300 [08:28<01:17,  5.76it/s]"
     ]
    },
    {
     "name": "stdout",
     "output_type": "stream",
     "text": [
      "Error fetching articles from https://www.morningstar.com/market-news: 404\n",
      "Error fetching articles from https://www.investors.com/market-trend/stock-market-today/: 403\n"
     ]
    },
    {
     "name": "stderr",
     "output_type": "stream",
     "text": [
      " 81%|███████████████████████████████████████████████████████████████               | 1858/2300 [08:29<01:09,  6.36it/s]"
     ]
    },
    {
     "name": "stdout",
     "output_type": "stream",
     "text": [
      "Error fetching articles from https://www.reuters.com/technology/: 401\n",
      "Error fetching articles from https://www.marketwatch.com/latest-news: 401\n"
     ]
    },
    {
     "name": "stderr",
     "output_type": "stream",
     "text": [
      " 81%|███████████████████████████████████████████████████████████████               | 1859/2300 [08:30<02:02,  3.60it/s]"
     ]
    },
    {
     "name": "stdout",
     "output_type": "stream",
     "text": [
      "Error fetching articles from https://www.wsj.com/news/markets: 401\n"
     ]
    },
    {
     "name": "stderr",
     "output_type": "stream",
     "text": [
      " 81%|███████████████████████████████████████████████████████████████▍              | 1869/2300 [08:33<01:50,  3.91it/s]"
     ]
    },
    {
     "name": "stdout",
     "output_type": "stream",
     "text": [
      "Error fetching articles from https://www.investing.com/news/stock-market-news for ABT: 'href'\n"
     ]
    },
    {
     "name": "stderr",
     "output_type": "stream",
     "text": [
      " 81%|███████████████████████████████████████████████████████████████▍              | 1872/2300 [08:33<01:33,  4.60it/s]"
     ]
    },
    {
     "name": "stdout",
     "output_type": "stream",
     "text": [
      "Error fetching articles from https://www.thestreet.com/markets: 404\n",
      "Error fetching articles from https://www.morningstar.com/market-news: 404\n"
     ]
    },
    {
     "name": "stderr",
     "output_type": "stream",
     "text": [
      " 82%|███████████████████████████████████████████████████████████████▌              | 1875/2300 [08:34<01:15,  5.62it/s]"
     ]
    },
    {
     "name": "stdout",
     "output_type": "stream",
     "text": [
      "Error fetching articles from https://www.zacks.com/investment-news: 404\n",
      "Error fetching articles from https://www.investors.com/market-trend/stock-market-today/: 403\n"
     ]
    },
    {
     "name": "stderr",
     "output_type": "stream",
     "text": [
      " 82%|███████████████████████████████████████████████████████████████▊              | 1880/2300 [08:35<01:29,  4.68it/s]"
     ]
    },
    {
     "name": "stdout",
     "output_type": "stream",
     "text": [
      "Error fetching articles from https://www.reuters.com/technology/: 401\n"
     ]
    },
    {
     "name": "stderr",
     "output_type": "stream",
     "text": [
      " 82%|███████████████████████████████████████████████████████████████▊              | 1881/2300 [08:35<01:37,  4.28it/s]"
     ]
    },
    {
     "name": "stdout",
     "output_type": "stream",
     "text": [
      "Error fetching articles from https://www.marketwatch.com/latest-news: 401\n"
     ]
    },
    {
     "name": "stderr",
     "output_type": "stream",
     "text": [
      " 82%|███████████████████████████████████████████████████████████████▊              | 1883/2300 [08:36<01:55,  3.61it/s]"
     ]
    },
    {
     "name": "stdout",
     "output_type": "stream",
     "text": [
      "Error fetching articles from https://www.wsj.com/news/markets: 401\n"
     ]
    },
    {
     "name": "stderr",
     "output_type": "stream",
     "text": [
      " 82%|████████████████████████████████████████████████████████████████              | 1890/2300 [08:39<01:53,  3.60it/s]"
     ]
    },
    {
     "name": "stdout",
     "output_type": "stream",
     "text": [
      "Error fetching articles from https://www.investing.com/news/stock-market-news for MRK: 'href'\n"
     ]
    },
    {
     "name": "stderr",
     "output_type": "stream",
     "text": [
      " 82%|████████████████████████████████████████████████████████████████▎             | 1895/2300 [08:40<01:36,  4.21it/s]"
     ]
    },
    {
     "name": "stdout",
     "output_type": "stream",
     "text": [
      "Error fetching articles from https://www.thestreet.com/markets: 404\n",
      "Error fetching articles from https://www.zacks.com/investment-news: 404\n",
      "Error fetching articles from https://www.morningstar.com/market-news: 404\n"
     ]
    },
    {
     "name": "stderr",
     "output_type": "stream",
     "text": [
      " 83%|████████████████████████████████████████████████████████████████▍             | 1901/2300 [08:41<01:12,  5.50it/s]"
     ]
    },
    {
     "name": "stdout",
     "output_type": "stream",
     "text": [
      "Error fetching articles from https://www.investors.com/market-trend/stock-market-today/: 403\n"
     ]
    },
    {
     "name": "stderr",
     "output_type": "stream",
     "text": [
      " 83%|████████████████████████████████████████████████████████████████▌             | 1902/2300 [08:41<01:44,  3.81it/s]"
     ]
    },
    {
     "name": "stdout",
     "output_type": "stream",
     "text": [
      "Error fetching articles from https://www.reuters.com/technology/: 401\n"
     ]
    },
    {
     "name": "stderr",
     "output_type": "stream",
     "text": [
      " 83%|████████████████████████████████████████████████████████████████▌             | 1904/2300 [08:42<01:34,  4.20it/s]"
     ]
    },
    {
     "name": "stdout",
     "output_type": "stream",
     "text": [
      "Error fetching articles from https://www.marketwatch.com/latest-news: 401\n",
      "Error fetching articles from https://www.wsj.com/news/markets: 401\n"
     ]
    },
    {
     "name": "stderr",
     "output_type": "stream",
     "text": [
      " 83%|████████████████████████████████████████████████████████████████▉             | 1915/2300 [08:45<01:34,  4.06it/s]"
     ]
    },
    {
     "name": "stdout",
     "output_type": "stream",
     "text": [
      "Error fetching articles from https://www.investing.com/news/stock-market-news for WMT: 'href'\n"
     ]
    },
    {
     "name": "stderr",
     "output_type": "stream",
     "text": [
      " 83%|████████████████████████████████████████████████████████████████▉             | 1916/2300 [08:45<01:36,  3.97it/s]"
     ]
    },
    {
     "name": "stdout",
     "output_type": "stream",
     "text": [
      "Error fetching articles from https://www.thestreet.com/markets: 404\n"
     ]
    },
    {
     "name": "stderr",
     "output_type": "stream",
     "text": [
      " 83%|█████████████████████████████████████████████████████████████████             | 1917/2300 [08:46<01:52,  3.39it/s]"
     ]
    },
    {
     "name": "stdout",
     "output_type": "stream",
     "text": [
      "Error fetching articles from https://www.zacks.com/investment-news: 404\n",
      "Error fetching articles from https://www.morningstar.com/market-news: 404\n"
     ]
    },
    {
     "name": "stderr",
     "output_type": "stream",
     "text": [
      " 83%|█████████████████████████████████████████████████████████████████             | 1920/2300 [08:47<01:44,  3.64it/s]"
     ]
    },
    {
     "name": "stdout",
     "output_type": "stream",
     "text": [
      "Error fetching articles from https://www.investors.com/market-trend/stock-market-today/: 403\n"
     ]
    },
    {
     "name": "stderr",
     "output_type": "stream",
     "text": [
      " 84%|█████████████████████████████████████████████████████████████████▎            | 1925/2300 [08:48<01:12,  5.17it/s]"
     ]
    },
    {
     "name": "stdout",
     "output_type": "stream",
     "text": [
      "Error fetching articles from https://www.reuters.com/technology/: 401\n"
     ]
    },
    {
     "name": "stderr",
     "output_type": "stream",
     "text": [
      " 84%|█████████████████████████████████████████████████████████████████▍            | 1928/2300 [08:48<01:05,  5.70it/s]"
     ]
    },
    {
     "name": "stdout",
     "output_type": "stream",
     "text": [
      "Error fetching articles from https://www.marketwatch.com/latest-news: 401\n"
     ]
    },
    {
     "name": "stderr",
     "output_type": "stream",
     "text": [
      " 84%|█████████████████████████████████████████████████████████████████▍            | 1930/2300 [08:49<01:09,  5.32it/s]"
     ]
    },
    {
     "name": "stdout",
     "output_type": "stream",
     "text": [
      "Error fetching articles from https://www.wsj.com/news/markets: 401\n"
     ]
    },
    {
     "name": "stderr",
     "output_type": "stream",
     "text": [
      " 84%|█████████████████████████████████████████████████████████████████▋            | 1937/2300 [08:51<01:33,  3.90it/s]"
     ]
    },
    {
     "name": "stdout",
     "output_type": "stream",
     "text": [
      "Error fetching articles from https://www.investing.com/news/stock-market-news for KO: 'href'\n"
     ]
    },
    {
     "name": "stderr",
     "output_type": "stream",
     "text": [
      " 84%|█████████████████████████████████████████████████████████████████▊            | 1940/2300 [08:52<01:33,  3.84it/s]"
     ]
    },
    {
     "name": "stdout",
     "output_type": "stream",
     "text": [
      "Error fetching articles from https://www.thestreet.com/markets: 404\n",
      "Error fetching articles from https://www.zacks.com/investment-news: 404\n"
     ]
    },
    {
     "name": "stderr",
     "output_type": "stream",
     "text": [
      " 84%|█████████████████████████████████████████████████████████████████▊            | 1942/2300 [08:53<01:20,  4.43it/s]"
     ]
    },
    {
     "name": "stdout",
     "output_type": "stream",
     "text": [
      "Error fetching articles from https://www.morningstar.com/market-news: 404\n"
     ]
    },
    {
     "name": "stderr",
     "output_type": "stream",
     "text": [
      " 84%|█████████████████████████████████████████████████████████████████▉            | 1943/2300 [08:53<01:41,  3.51it/s]"
     ]
    },
    {
     "name": "stdout",
     "output_type": "stream",
     "text": [
      "Error fetching articles from https://www.investors.com/market-trend/stock-market-today/: 403\n"
     ]
    },
    {
     "name": "stderr",
     "output_type": "stream",
     "text": [
      " 85%|██████████████████████████████████████████████████████████████████            | 1947/2300 [08:54<01:06,  5.31it/s]"
     ]
    },
    {
     "name": "stdout",
     "output_type": "stream",
     "text": [
      "Error fetching articles from https://www.reuters.com/technology/: 401\n"
     ]
    },
    {
     "name": "stderr",
     "output_type": "stream",
     "text": [
      " 85%|██████████████████████████████████████████████████████████████████▏           | 1951/2300 [08:55<01:14,  4.68it/s]"
     ]
    },
    {
     "name": "stdout",
     "output_type": "stream",
     "text": [
      "Error fetching articles from https://www.marketwatch.com/latest-news: 401\n",
      "Error fetching articles from https://www.wsj.com/news/markets: 401\n"
     ]
    },
    {
     "name": "stderr",
     "output_type": "stream",
     "text": [
      " 85%|██████████████████████████████████████████████████████████████████▌           | 1963/2300 [08:58<01:02,  5.41it/s]"
     ]
    },
    {
     "name": "stdout",
     "output_type": "stream",
     "text": [
      "Error fetching articles from https://www.investing.com/news/stock-market-news for CMG: 'href'\n"
     ]
    },
    {
     "name": "stderr",
     "output_type": "stream",
     "text": [
      " 85%|██████████████████████████████████████████████████████████████████▋           | 1965/2300 [08:58<01:01,  5.45it/s]"
     ]
    },
    {
     "name": "stdout",
     "output_type": "stream",
     "text": [
      "Error fetching articles from https://www.thestreet.com/markets: 404\n",
      "Error fetching articles from https://www.morningstar.com/market-news: 404\n"
     ]
    },
    {
     "name": "stderr",
     "output_type": "stream",
     "text": [
      " 85%|██████████████████████████████████████████████████████████████████▋           | 1966/2300 [08:59<01:10,  4.77it/s]"
     ]
    },
    {
     "name": "stdout",
     "output_type": "stream",
     "text": [
      "Error fetching articles from https://www.zacks.com/investment-news: 404\n",
      "Error fetching articles from https://www.investors.com/market-trend/stock-market-today/: 403\n"
     ]
    },
    {
     "name": "stderr",
     "output_type": "stream",
     "text": [
      " 86%|██████████████████████████████████████████████████████████████████▊           | 1971/2300 [09:00<01:07,  4.85it/s]"
     ]
    },
    {
     "name": "stdout",
     "output_type": "stream",
     "text": [
      "Error fetching articles from https://www.reuters.com/technology/: 401\n"
     ]
    },
    {
     "name": "stderr",
     "output_type": "stream",
     "text": [
      " 86%|██████████████████████████████████████████████████████████████████▉           | 1972/2300 [09:00<01:25,  3.85it/s]"
     ]
    },
    {
     "name": "stdout",
     "output_type": "stream",
     "text": [
      "Error fetching articles from https://www.marketwatch.com/latest-news: 401\n"
     ]
    },
    {
     "name": "stderr",
     "output_type": "stream",
     "text": [
      " 86%|██████████████████████████████████████████████████████████████████▉           | 1974/2300 [09:01<01:24,  3.88it/s]"
     ]
    },
    {
     "name": "stdout",
     "output_type": "stream",
     "text": [
      "Error fetching articles from https://www.wsj.com/news/markets: 401\n"
     ]
    },
    {
     "name": "stderr",
     "output_type": "stream",
     "text": [
      " 86%|███████████████████████████████████████████████████████████████████▎          | 1986/2300 [09:05<00:55,  5.67it/s]"
     ]
    },
    {
     "name": "stdout",
     "output_type": "stream",
     "text": [
      "Error fetching articles from https://www.investing.com/news/stock-market-news for MCD: 'href'\n",
      "Error fetching articles from https://www.thestreet.com/markets: 404\n"
     ]
    },
    {
     "name": "stderr",
     "output_type": "stream",
     "text": [
      " 86%|███████████████████████████████████████████████████████████████████▍          | 1988/2300 [09:05<01:08,  4.56it/s]"
     ]
    },
    {
     "name": "stdout",
     "output_type": "stream",
     "text": [
      "Error fetching articles from https://www.zacks.com/investment-news: 404\n",
      "Error fetching articles from https://www.morningstar.com/market-news: 404\n"
     ]
    },
    {
     "name": "stderr",
     "output_type": "stream",
     "text": [
      " 87%|███████████████████████████████████████████████████████████████████▌          | 1991/2300 [09:06<01:19,  3.90it/s]"
     ]
    },
    {
     "name": "stdout",
     "output_type": "stream",
     "text": [
      "Error fetching articles from https://www.investors.com/market-trend/stock-market-today/: 403\n"
     ]
    },
    {
     "name": "stderr",
     "output_type": "stream",
     "text": [
      " 87%|███████████████████████████████████████████████████████████████████▌          | 1993/2300 [09:07<01:06,  4.62it/s]"
     ]
    },
    {
     "name": "stdout",
     "output_type": "stream",
     "text": [
      "Error fetching articles from https://www.reuters.com/technology/: 401\n"
     ]
    },
    {
     "name": "stderr",
     "output_type": "stream",
     "text": [
      " 87%|███████████████████████████████████████████████████████████████████▋          | 1996/2300 [09:07<01:13,  4.15it/s]"
     ]
    },
    {
     "name": "stdout",
     "output_type": "stream",
     "text": [
      "Error fetching articles from https://www.marketwatch.com/latest-news: 401\n"
     ]
    },
    {
     "name": "stderr",
     "output_type": "stream",
     "text": [
      " 87%|███████████████████████████████████████████████████████████████████▊          | 1998/2300 [09:09<02:01,  2.48it/s]"
     ]
    },
    {
     "name": "stdout",
     "output_type": "stream",
     "text": [
      "Error fetching articles from https://www.wsj.com/news/markets: 401\n"
     ]
    },
    {
     "name": "stderr",
     "output_type": "stream",
     "text": [
      " 87%|████████████████████████████████████████████████████████████████████          | 2008/2300 [09:12<01:09,  4.19it/s]"
     ]
    },
    {
     "name": "stdout",
     "output_type": "stream",
     "text": [
      "Error fetching articles from https://www.investing.com/news/stock-market-news for JNJ: 'href'\n",
      "Error fetching articles from https://www.thestreet.com/markets: 404\n",
      "Error fetching articles from https://www.zacks.com/investment-news: 404\n"
     ]
    },
    {
     "name": "stderr",
     "output_type": "stream",
     "text": [
      " 87%|████████████████████████████████████████████████████████████████████▏         | 2011/2300 [09:12<00:55,  5.23it/s]"
     ]
    },
    {
     "name": "stdout",
     "output_type": "stream",
     "text": [
      "Error fetching articles from https://www.morningstar.com/market-news: 404\n"
     ]
    },
    {
     "name": "stderr",
     "output_type": "stream",
     "text": [
      " 88%|████████████████████████████████████████████████████████████████████▎         | 2013/2300 [09:13<01:03,  4.51it/s]"
     ]
    },
    {
     "name": "stdout",
     "output_type": "stream",
     "text": [
      "Error fetching articles from https://www.investors.com/market-trend/stock-market-today/: 403\n"
     ]
    },
    {
     "name": "stderr",
     "output_type": "stream",
     "text": [
      " 88%|████████████████████████████████████████████████████████████████████▎         | 2016/2300 [09:14<01:05,  4.36it/s]"
     ]
    },
    {
     "name": "stdout",
     "output_type": "stream",
     "text": [
      "Error fetching articles from https://www.reuters.com/technology/: 401\n"
     ]
    },
    {
     "name": "stderr",
     "output_type": "stream",
     "text": [
      " 88%|████████████████████████████████████████████████████████████████████▍         | 2019/2300 [09:14<01:00,  4.61it/s]"
     ]
    },
    {
     "name": "stdout",
     "output_type": "stream",
     "text": [
      "Error fetching articles from https://www.marketwatch.com/latest-news: 401\n"
     ]
    },
    {
     "name": "stderr",
     "output_type": "stream",
     "text": [
      " 88%|████████████████████████████████████████████████████████████████████▌         | 2022/2300 [09:15<01:14,  3.72it/s]"
     ]
    },
    {
     "name": "stdout",
     "output_type": "stream",
     "text": [
      "Error fetching articles from https://www.wsj.com/news/markets: 401\n"
     ]
    },
    {
     "name": "stderr",
     "output_type": "stream",
     "text": [
      " 88%|████████████████████████████████████████████████████████████████████▉         | 2031/2300 [09:18<00:48,  5.55it/s]"
     ]
    },
    {
     "name": "stdout",
     "output_type": "stream",
     "text": [
      "Error fetching articles from https://www.investing.com/news/stock-market-news for V: 'href'\n",
      "Error fetching articles from https://www.thestreet.com/markets: 404\n"
     ]
    },
    {
     "name": "stderr",
     "output_type": "stream",
     "text": [
      " 88%|████████████████████████████████████████████████████████████████████▉         | 2034/2300 [09:19<00:54,  4.90it/s]"
     ]
    },
    {
     "name": "stdout",
     "output_type": "stream",
     "text": [
      "Error fetching articles from https://www.zacks.com/investment-news: 404\n",
      "Error fetching articles from https://www.morningstar.com/market-news: 404\n"
     ]
    },
    {
     "name": "stderr",
     "output_type": "stream",
     "text": [
      " 89%|█████████████████████████████████████████████████████████████████████         | 2036/2300 [09:19<00:53,  4.90it/s]"
     ]
    },
    {
     "name": "stdout",
     "output_type": "stream",
     "text": [
      "Error fetching articles from https://www.investors.com/market-trend/stock-market-today/: 403\n"
     ]
    },
    {
     "name": "stderr",
     "output_type": "stream",
     "text": [
      " 89%|█████████████████████████████████████████████████████████████████████▏        | 2040/2300 [09:20<00:51,  5.01it/s]"
     ]
    },
    {
     "name": "stdout",
     "output_type": "stream",
     "text": [
      "Error fetching articles from https://www.reuters.com/technology/: 401\n",
      "Error fetching articles from https://www.marketwatch.com/latest-news: 401\n"
     ]
    },
    {
     "name": "stderr",
     "output_type": "stream",
     "text": [
      " 89%|█████████████████████████████████████████████████████████████████████▎        | 2045/2300 [09:21<00:53,  4.77it/s]"
     ]
    },
    {
     "name": "stdout",
     "output_type": "stream",
     "text": [
      "Error fetching articles from https://www.wsj.com/news/markets: 401\n"
     ]
    },
    {
     "name": "stderr",
     "output_type": "stream",
     "text": [
      " 89%|█████████████████████████████████████████████████████████████████████▌        | 2052/2300 [09:24<01:18,  3.15it/s]"
     ]
    },
    {
     "name": "stdout",
     "output_type": "stream",
     "text": [
      "Error fetching articles from https://www.investing.com/news/stock-market-news for MA: 'href'\n"
     ]
    },
    {
     "name": "stderr",
     "output_type": "stream",
     "text": [
      " 89%|█████████████████████████████████████████████████████████████████████▋        | 2056/2300 [09:26<01:04,  3.77it/s]"
     ]
    },
    {
     "name": "stdout",
     "output_type": "stream",
     "text": [
      "Error fetching articles from https://www.thestreet.com/markets: 404\n",
      "Error fetching articles from https://www.zacks.com/investment-news: 404\n",
      "Error fetching articles from https://www.morningstar.com/market-news: 404\n"
     ]
    },
    {
     "name": "stderr",
     "output_type": "stream",
     "text": [
      " 90%|█████████████████████████████████████████████████████████████████████▉        | 2061/2300 [09:26<00:48,  4.92it/s]"
     ]
    },
    {
     "name": "stdout",
     "output_type": "stream",
     "text": [
      "Error fetching articles from https://www.investors.com/market-trend/stock-market-today/: 403\n"
     ]
    },
    {
     "name": "stderr",
     "output_type": "stream",
     "text": [
      " 90%|█████████████████████████████████████████████████████████████████████▉        | 2062/2300 [09:27<00:58,  4.06it/s]"
     ]
    },
    {
     "name": "stdout",
     "output_type": "stream",
     "text": [
      "Error fetching articles from https://www.reuters.com/technology/: 401\n"
     ]
    },
    {
     "name": "stderr",
     "output_type": "stream",
     "text": [
      " 90%|██████████████████████████████████████████████████████████████████████        | 2065/2300 [09:27<00:48,  4.83it/s]"
     ]
    },
    {
     "name": "stdout",
     "output_type": "stream",
     "text": [
      "Error fetching articles from https://www.marketwatch.com/latest-news: 401\n"
     ]
    },
    {
     "name": "stderr",
     "output_type": "stream",
     "text": [
      " 90%|██████████████████████████████████████████████████████████████████████        | 2066/2300 [09:28<00:49,  4.70it/s]"
     ]
    },
    {
     "name": "stdout",
     "output_type": "stream",
     "text": [
      "Error fetching articles from https://www.wsj.com/news/markets: 401\n"
     ]
    },
    {
     "name": "stderr",
     "output_type": "stream",
     "text": [
      " 90%|██████████████████████████████████████████████████████████████████████▍       | 2076/2300 [09:30<00:35,  6.28it/s]"
     ]
    },
    {
     "name": "stdout",
     "output_type": "stream",
     "text": [
      "Error fetching articles from https://www.investing.com/news/stock-market-news for PYPL: 'href'\n"
     ]
    },
    {
     "name": "stderr",
     "output_type": "stream",
     "text": [
      " 90%|██████████████████████████████████████████████████████████████████████▍       | 2078/2300 [09:31<00:48,  4.55it/s]"
     ]
    },
    {
     "name": "stdout",
     "output_type": "stream",
     "text": [
      "Error fetching articles from https://www.thestreet.com/markets: 404\n",
      "Error fetching articles from https://www.zacks.com/investment-news: 404\n"
     ]
    },
    {
     "name": "stderr",
     "output_type": "stream",
     "text": [
      " 91%|██████████████████████████████████████████████████████████████████████▌       | 2082/2300 [09:32<00:38,  5.62it/s]"
     ]
    },
    {
     "name": "stdout",
     "output_type": "stream",
     "text": [
      "Error fetching articles from https://www.morningstar.com/market-news: 404\n"
     ]
    },
    {
     "name": "stderr",
     "output_type": "stream",
     "text": [
      " 91%|██████████████████████████████████████████████████████████████████████▋       | 2084/2300 [09:32<00:37,  5.72it/s]"
     ]
    },
    {
     "name": "stdout",
     "output_type": "stream",
     "text": [
      "Error fetching articles from https://www.investors.com/market-trend/stock-market-today/: 403\n"
     ]
    },
    {
     "name": "stderr",
     "output_type": "stream",
     "text": [
      " 91%|██████████████████████████████████████████████████████████████████████▋       | 2086/2300 [09:33<00:39,  5.35it/s]"
     ]
    },
    {
     "name": "stdout",
     "output_type": "stream",
     "text": [
      "Error fetching articles from https://www.reuters.com/technology/: 401\n"
     ]
    },
    {
     "name": "stderr",
     "output_type": "stream",
     "text": [
      " 91%|██████████████████████████████████████████████████████████████████████▊       | 2088/2300 [09:33<00:35,  5.94it/s]"
     ]
    },
    {
     "name": "stdout",
     "output_type": "stream",
     "text": [
      "Error fetching articles from https://www.marketwatch.com/latest-news: 401\n"
     ]
    },
    {
     "name": "stderr",
     "output_type": "stream",
     "text": [
      " 91%|██████████████████████████████████████████████████████████████████████▉       | 2091/2300 [09:34<00:41,  5.05it/s]"
     ]
    },
    {
     "name": "stdout",
     "output_type": "stream",
     "text": [
      "Error fetching articles from https://www.wsj.com/news/markets: 401\n"
     ]
    },
    {
     "name": "stderr",
     "output_type": "stream",
     "text": [
      " 91%|███████████████████████████████████████████████████████████████████▎      | 2094/2300 [45:45<25:10:21, 439.91s/it]"
     ]
    },
    {
     "name": "stdout",
     "output_type": "stream",
     "text": [
      "Error fetching articles from https://www.investing.com/news/stock-market-news for NFLX: (\"Connection broken: ConnectionResetError(10054, 'An existing connection was forcibly closed by the remote host', None, 10054, None)\", ConnectionResetError(10054, 'An existing connection was forcibly closed by the remote host', None, 10054, None))\n"
     ]
    },
    {
     "name": "stderr",
     "output_type": "stream",
     "text": [
      " 91%|████████████████████████████████████████████████████████████████████▍      | 2098/2300 [45:47<6:06:39, 108.91s/it]"
     ]
    },
    {
     "name": "stdout",
     "output_type": "stream",
     "text": [
      "Error fetching articles from https://edition.cnn.com/business/markets for PYPL: (\"Connection broken: ConnectionResetError(10054, 'An existing connection was forcibly closed by the remote host', None, 10054, None)\", ConnectionResetError(10054, 'An existing connection was forcibly closed by the remote host', None, 10054, None))\n"
     ]
    },
    {
     "name": "stderr",
     "output_type": "stream",
     "text": [
      " 91%|█████████████████████████████████████████████████████████████████████▍      | 2103/2300 [45:47<1:48:21, 33.00s/it]"
     ]
    },
    {
     "name": "stdout",
     "output_type": "stream",
     "text": [
      "Error fetching articles from https://www.thestreet.com/markets: 404\n"
     ]
    },
    {
     "name": "stderr",
     "output_type": "stream",
     "text": [
      " 91%|█████████████████████████████████████████████████████████████████████▌      | 2104/2300 [45:48<1:25:40, 26.23s/it]"
     ]
    },
    {
     "name": "stdout",
     "output_type": "stream",
     "text": [
      "Error fetching articles from https://www.zacks.com/investment-news: 404\n",
      "Error fetching articles from https://www.morningstar.com/market-news: 404\n"
     ]
    },
    {
     "name": "stderr",
     "output_type": "stream",
     "text": [
      " 92%|███████████████████████████████████████████████████████████████████████▍      | 2106/2300 [45:48<53:26, 16.53s/it]"
     ]
    },
    {
     "name": "stdout",
     "output_type": "stream",
     "text": [
      "Error fetching articles from https://www.investors.com/market-trend/stock-market-today/: 403\n"
     ]
    },
    {
     "name": "stderr",
     "output_type": "stream",
     "text": [
      " 92%|███████████████████████████████████████████████████████████████████████▌      | 2110/2300 [45:49<18:08,  5.73s/it]"
     ]
    },
    {
     "name": "stdout",
     "output_type": "stream",
     "text": [
      "Error fetching articles from https://www.reuters.com/technology/: 401\n",
      "Error fetching articles from https://finance.yahoo.com/news/ for PYPL: (\"Connection broken: ConnectionResetError(10054, 'An existing connection was forcibly closed by the remote host', None, 10054, None)\", ConnectionResetError(10054, 'An existing connection was forcibly closed by the remote host', None, 10054, None))\n"
     ]
    },
    {
     "name": "stderr",
     "output_type": "stream",
     "text": [
      " 92%|███████████████████████████████████████████████████████████████████████▋      | 2115/2300 [45:50<04:26,  1.44s/it]"
     ]
    },
    {
     "name": "stdout",
     "output_type": "stream",
     "text": [
      "Error fetching articles from https://www.marketwatch.com/latest-news: 401\n",
      "Error fetching articles from https://www.wsj.com/news/markets: 401\n"
     ]
    },
    {
     "name": "stderr",
     "output_type": "stream",
     "text": [
      " 92%|███████████████████████████████████████████████████████████████████████▊      | 2116/2300 [45:50<03:55,  1.28s/it]"
     ]
    },
    {
     "name": "stdout",
     "output_type": "stream",
     "text": [
      "Error fetching articles from https://finance.yahoo.com/ for NFLX: (\"Connection broken: ConnectionResetError(10054, 'An existing connection was forcibly closed by the remote host', None, 10054, None)\", ConnectionResetError(10054, 'An existing connection was forcibly closed by the remote host', None, 10054, None))\n"
     ]
    },
    {
     "name": "stderr",
     "output_type": "stream",
     "text": [
      " 92%|███████████████████████████████████████████████████████████████████████▉      | 2121/2300 [45:53<01:51,  1.61it/s]"
     ]
    },
    {
     "name": "stdout",
     "output_type": "stream",
     "text": [
      "Error fetching articles from https://www.investing.com/news/stock-market-news for ADBE: 'href'\n"
     ]
    },
    {
     "name": "stderr",
     "output_type": "stream",
     "text": [
      " 92%|████████████████████████████████████████████████████████████████████████      | 2125/2300 [45:54<00:50,  3.47it/s]"
     ]
    },
    {
     "name": "stdout",
     "output_type": "stream",
     "text": [
      "Error fetching articles from https://www.thestreet.com/markets: 404\n",
      "Error fetching articles from https://www.morningstar.com/market-news: 404\n"
     ]
    },
    {
     "name": "stderr",
     "output_type": "stream",
     "text": [
      " 93%|████████████████████████████████████████████████████████████████████████▏     | 2129/2300 [45:54<00:31,  5.37it/s]"
     ]
    },
    {
     "name": "stdout",
     "output_type": "stream",
     "text": [
      "Error fetching articles from https://www.zacks.com/investment-news: 404\n",
      "Error fetching articles from https://www.investors.com/market-trend/stock-market-today/: 403\n"
     ]
    },
    {
     "name": "stderr",
     "output_type": "stream",
     "text": [
      " 93%|████████████████████████████████████████████████████████████████████████▎     | 2132/2300 [45:55<00:30,  5.43it/s]"
     ]
    },
    {
     "name": "stdout",
     "output_type": "stream",
     "text": [
      "Error fetching articles from https://www.reuters.com/technology/: 401\n"
     ]
    },
    {
     "name": "stderr",
     "output_type": "stream",
     "text": [
      " 93%|████████████████████████████████████████████████████████████████████████▎     | 2134/2300 [45:55<00:25,  6.41it/s]"
     ]
    },
    {
     "name": "stdout",
     "output_type": "stream",
     "text": [
      "Error fetching articles from https://www.marketwatch.com/latest-news: 401\n"
     ]
    },
    {
     "name": "stderr",
     "output_type": "stream",
     "text": [
      " 93%|████████████████████████████████████████████████████████████████████████▍     | 2136/2300 [45:55<00:32,  5.09it/s]"
     ]
    },
    {
     "name": "stdout",
     "output_type": "stream",
     "text": [
      "Error fetching articles from https://www.wsj.com/news/markets: 401\n"
     ]
    },
    {
     "name": "stderr",
     "output_type": "stream",
     "text": [
      " 93%|████████████████████████████████████████████████████████████████████████▊     | 2147/2300 [46:01<00:48,  3.13it/s]"
     ]
    },
    {
     "name": "stdout",
     "output_type": "stream",
     "text": [
      "Error fetching articles from https://www.investing.com/news/stock-market-news for CRM: 'href'\n",
      "Error fetching articles from https://www.thestreet.com/markets: 404\n",
      "Error fetching articles from https://www.zacks.com/investment-news: 404\n",
      "Error fetching articles from https://www.morningstar.com/market-news: 404\n"
     ]
    },
    {
     "name": "stderr",
     "output_type": "stream",
     "text": [
      " 94%|█████████████████████████████████████████████████████████████████████████     | 2153/2300 [46:02<00:23,  6.18it/s]"
     ]
    },
    {
     "name": "stdout",
     "output_type": "stream",
     "text": [
      "Error fetching articles from https://www.investors.com/market-trend/stock-market-today/: 403\n"
     ]
    },
    {
     "name": "stderr",
     "output_type": "stream",
     "text": [
      " 94%|█████████████████████████████████████████████████████████████████████████     | 2155/2300 [46:03<00:26,  5.52it/s]"
     ]
    },
    {
     "name": "stdout",
     "output_type": "stream",
     "text": [
      "Error fetching articles from https://www.reuters.com/technology/: 401\n"
     ]
    },
    {
     "name": "stderr",
     "output_type": "stream",
     "text": [
      " 94%|█████████████████████████████████████████████████████████████████████████     | 2156/2300 [46:03<00:33,  4.27it/s]"
     ]
    },
    {
     "name": "stdout",
     "output_type": "stream",
     "text": [
      "Error fetching articles from https://www.marketwatch.com/latest-news: 401\n"
     ]
    },
    {
     "name": "stderr",
     "output_type": "stream",
     "text": [
      " 94%|█████████████████████████████████████████████████████████████████████████▏    | 2158/2300 [46:04<00:35,  4.04it/s]"
     ]
    },
    {
     "name": "stdout",
     "output_type": "stream",
     "text": [
      "Error fetching articles from https://www.wsj.com/news/markets: 401\n"
     ]
    },
    {
     "name": "stderr",
     "output_type": "stream",
     "text": [
      " 94%|█████████████████████████████████████████████████████████████████████████▌    | 2169/2300 [46:06<00:29,  4.39it/s]"
     ]
    },
    {
     "name": "stdout",
     "output_type": "stream",
     "text": [
      "Error fetching articles from https://www.thestreet.com/markets: 404Error fetching articles from https://www.investing.com/news/stock-market-news for CSCO: 'href'\n",
      "\n"
     ]
    },
    {
     "name": "stderr",
     "output_type": "stream",
     "text": [
      " 94%|█████████████████████████████████████████████████████████████████████████▋    | 2172/2300 [46:07<00:26,  4.84it/s]"
     ]
    },
    {
     "name": "stdout",
     "output_type": "stream",
     "text": [
      "Error fetching articles from https://www.zacks.com/investment-news: 404\n",
      "Error fetching articles from https://www.morningstar.com/market-news: 404\n"
     ]
    },
    {
     "name": "stderr",
     "output_type": "stream",
     "text": [
      " 95%|█████████████████████████████████████████████████████████████████████████▋    | 2174/2300 [46:07<00:26,  4.72it/s]"
     ]
    },
    {
     "name": "stdout",
     "output_type": "stream",
     "text": [
      "Error fetching articles from https://www.investors.com/market-trend/stock-market-today/: 403\n"
     ]
    },
    {
     "name": "stderr",
     "output_type": "stream",
     "text": [
      " 95%|█████████████████████████████████████████████████████████████████████████▊    | 2178/2300 [46:08<00:24,  4.95it/s]"
     ]
    },
    {
     "name": "stdout",
     "output_type": "stream",
     "text": [
      "Error fetching articles from https://www.reuters.com/technology/: 401\n"
     ]
    },
    {
     "name": "stderr",
     "output_type": "stream",
     "text": [
      " 95%|█████████████████████████████████████████████████████████████████████████▉    | 2181/2300 [46:09<00:22,  5.34it/s]"
     ]
    },
    {
     "name": "stdout",
     "output_type": "stream",
     "text": [
      "Error fetching articles from https://www.marketwatch.com/latest-news: 401\n",
      "Error fetching articles from https://www.wsj.com/news/markets: 401\n"
     ]
    },
    {
     "name": "stderr",
     "output_type": "stream",
     "text": [
      " 95%|██████████████████████████████████████████████████████████████████████████▎   | 2190/2300 [46:13<00:35,  3.06it/s]"
     ]
    },
    {
     "name": "stdout",
     "output_type": "stream",
     "text": [
      "Error fetching articles from https://www.investing.com/news/stock-market-news for ORCL: 'href'\n"
     ]
    },
    {
     "name": "stderr",
     "output_type": "stream",
     "text": [
      " 95%|██████████████████████████████████████████████████████████████████████████▎   | 2193/2300 [46:14<00:30,  3.49it/s]"
     ]
    },
    {
     "name": "stdout",
     "output_type": "stream",
     "text": [
      "Error fetching articles from https://www.thestreet.com/markets: 404\n",
      "Error fetching articles from https://www.morningstar.com/market-news: 404\n",
      "Error fetching articles from https://www.zacks.com/investment-news: 404\n"
     ]
    },
    {
     "name": "stderr",
     "output_type": "stream",
     "text": [
      " 96%|██████████████████████████████████████████████████████████████████████████▌   | 2198/2300 [46:14<00:20,  4.96it/s]"
     ]
    },
    {
     "name": "stdout",
     "output_type": "stream",
     "text": [
      "Error fetching articles from https://www.investors.com/market-trend/stock-market-today/: 403\n"
     ]
    },
    {
     "name": "stderr",
     "output_type": "stream",
     "text": [
      " 96%|██████████████████████████████████████████████████████████████████████████▌   | 2200/2300 [46:15<00:20,  4.94it/s]"
     ]
    },
    {
     "name": "stdout",
     "output_type": "stream",
     "text": [
      "Error fetching articles from https://www.reuters.com/technology/: 401\n"
     ]
    },
    {
     "name": "stderr",
     "output_type": "stream",
     "text": [
      " 96%|██████████████████████████████████████████████████████████████████████████▊   | 2205/2300 [46:16<00:23,  3.96it/s]"
     ]
    },
    {
     "name": "stdout",
     "output_type": "stream",
     "text": [
      "Error fetching articles from https://www.marketwatch.com/latest-news: 401\n",
      "Error fetching articles from https://www.wsj.com/news/markets: 401\n"
     ]
    },
    {
     "name": "stderr",
     "output_type": "stream",
     "text": [
      " 96%|███████████████████████████████████████████████████████████████████████████   | 2215/2300 [46:19<00:15,  5.60it/s]"
     ]
    },
    {
     "name": "stdout",
     "output_type": "stream",
     "text": [
      "Error fetching articles from https://www.investing.com/news/stock-market-news for SAP: 'href'\n"
     ]
    },
    {
     "name": "stderr",
     "output_type": "stream",
     "text": [
      " 96%|███████████████████████████████████████████████████████████████████████████▏  | 2216/2300 [46:19<00:15,  5.52it/s]"
     ]
    },
    {
     "name": "stdout",
     "output_type": "stream",
     "text": [
      "Error fetching articles from https://www.thestreet.com/markets: 404\n"
     ]
    },
    {
     "name": "stderr",
     "output_type": "stream",
     "text": [
      " 96%|███████████████████████████████████████████████████████████████████████████▏  | 2217/2300 [46:19<00:17,  4.63it/s]"
     ]
    },
    {
     "name": "stdout",
     "output_type": "stream",
     "text": [
      "Error fetching articles from https://www.morningstar.com/market-news: 404\n"
     ]
    },
    {
     "name": "stderr",
     "output_type": "stream",
     "text": [
      " 96%|███████████████████████████████████████████████████████████████████████████▏  | 2218/2300 [46:20<00:24,  3.38it/s]"
     ]
    },
    {
     "name": "stdout",
     "output_type": "stream",
     "text": [
      "Error fetching articles from https://www.zacks.com/investment-news: 404\n"
     ]
    },
    {
     "name": "stderr",
     "output_type": "stream",
     "text": [
      " 97%|███████████████████████████████████████████████████████████████████████████▍  | 2223/2300 [46:21<00:14,  5.25it/s]"
     ]
    },
    {
     "name": "stdout",
     "output_type": "stream",
     "text": [
      "Error fetching articles from https://www.reuters.com/technology/: 401\n",
      "Error fetching articles from https://www.investors.com/market-trend/stock-market-today/: 403\n"
     ]
    },
    {
     "name": "stderr",
     "output_type": "stream",
     "text": [
      " 97%|███████████████████████████████████████████████████████████████████████████▍  | 2226/2300 [46:21<00:12,  6.12it/s]"
     ]
    },
    {
     "name": "stdout",
     "output_type": "stream",
     "text": [
      "Error fetching articles from https://www.marketwatch.com/latest-news: 401\n"
     ]
    },
    {
     "name": "stderr",
     "output_type": "stream",
     "text": [
      " 97%|███████████████████████████████████████████████████████████████████████████▌  | 2227/2300 [46:21<00:14,  5.10it/s]"
     ]
    },
    {
     "name": "stdout",
     "output_type": "stream",
     "text": [
      "Error fetching articles from https://www.wsj.com/news/markets: 401\n"
     ]
    },
    {
     "name": "stderr",
     "output_type": "stream",
     "text": [
      " 97%|███████████████████████████████████████████████████████████████████████████▊  | 2235/2300 [46:25<00:19,  3.42it/s]"
     ]
    },
    {
     "name": "stdout",
     "output_type": "stream",
     "text": [
      "Error fetching articles from https://www.investing.com/news/stock-market-news for INTU: 'href'\n"
     ]
    },
    {
     "name": "stderr",
     "output_type": "stream",
     "text": [
      " 97%|███████████████████████████████████████████████████████████████████████████▉  | 2239/2300 [46:26<00:16,  3.78it/s]"
     ]
    },
    {
     "name": "stdout",
     "output_type": "stream",
     "text": [
      "Error fetching articles from https://www.zacks.com/investment-news: 404\n",
      "Error fetching articles from https://www.thestreet.com/markets: 404\n"
     ]
    },
    {
     "name": "stderr",
     "output_type": "stream",
     "text": [
      " 97%|███████████████████████████████████████████████████████████████████████████▉  | 2240/2300 [46:27<00:20,  2.87it/s]"
     ]
    },
    {
     "name": "stdout",
     "output_type": "stream",
     "text": [
      "Error fetching articles from https://www.morningstar.com/market-news: 404\n"
     ]
    },
    {
     "name": "stderr",
     "output_type": "stream",
     "text": [
      " 98%|████████████████████████████████████████████████████████████████████████████  | 2244/2300 [46:27<00:11,  4.98it/s]"
     ]
    },
    {
     "name": "stdout",
     "output_type": "stream",
     "text": [
      "Error fetching articles from https://www.investors.com/market-trend/stock-market-today/: 403\n"
     ]
    },
    {
     "name": "stderr",
     "output_type": "stream",
     "text": [
      " 98%|████████████████████████████████████████████████████████████████████████████▏ | 2247/2300 [46:28<00:09,  5.39it/s]"
     ]
    },
    {
     "name": "stdout",
     "output_type": "stream",
     "text": [
      "Error fetching articles from https://www.reuters.com/technology/: 401\n"
     ]
    },
    {
     "name": "stderr",
     "output_type": "stream",
     "text": [
      " 98%|████████████████████████████████████████████████████████████████████████████▎ | 2249/2300 [46:28<00:10,  4.99it/s]"
     ]
    },
    {
     "name": "stdout",
     "output_type": "stream",
     "text": [
      "Error fetching articles from https://www.marketwatch.com/latest-news: 401\n"
     ]
    },
    {
     "name": "stderr",
     "output_type": "stream",
     "text": [
      " 98%|████████████████████████████████████████████████████████████████████████████▎ | 2250/2300 [46:28<00:11,  4.38it/s]"
     ]
    },
    {
     "name": "stdout",
     "output_type": "stream",
     "text": [
      "Error fetching articles from https://www.wsj.com/news/markets: 401\n"
     ]
    },
    {
     "name": "stderr",
     "output_type": "stream",
     "text": [
      " 98%|████████████████████████████████████████████████████████████████████████████▋ | 2262/2300 [46:31<00:06,  5.82it/s]"
     ]
    },
    {
     "name": "stdout",
     "output_type": "stream",
     "text": [
      "Error fetching articles from https://www.investing.com/news/stock-market-news for AMD: 'href'\n",
      "Error fetching articles from https://www.thestreet.com/markets: 404\n"
     ]
    },
    {
     "name": "stderr",
     "output_type": "stream",
     "text": [
      " 98%|████████████████████████████████████████████████████████████████████████████▊ | 2265/2300 [46:32<00:05,  6.04it/s]"
     ]
    },
    {
     "name": "stdout",
     "output_type": "stream",
     "text": [
      "Error fetching articles from https://www.morningstar.com/market-news: 404\n",
      "Error fetching articles from https://www.zacks.com/investment-news: 404\n"
     ]
    },
    {
     "name": "stderr",
     "output_type": "stream",
     "text": [
      " 99%|████████████████████████████████████████████████████████████████████████████▊ | 2266/2300 [46:32<00:06,  4.87it/s]"
     ]
    },
    {
     "name": "stdout",
     "output_type": "stream",
     "text": [
      "Error fetching articles from https://www.investors.com/market-trend/stock-market-today/: 403\n"
     ]
    },
    {
     "name": "stderr",
     "output_type": "stream",
     "text": [
      " 99%|█████████████████████████████████████████████████████████████████████████████ | 2272/2300 [46:33<00:04,  5.84it/s]"
     ]
    },
    {
     "name": "stdout",
     "output_type": "stream",
     "text": [
      "Error fetching articles from https://www.reuters.com/technology/: 401\n",
      "Error fetching articles from https://www.marketwatch.com/latest-news: 401\n"
     ]
    },
    {
     "name": "stderr",
     "output_type": "stream",
     "text": [
      " 99%|█████████████████████████████████████████████████████████████████████████████ | 2274/2300 [46:34<00:05,  4.34it/s]"
     ]
    },
    {
     "name": "stdout",
     "output_type": "stream",
     "text": [
      "Error fetching articles from https://www.wsj.com/news/markets: 401\n"
     ]
    },
    {
     "name": "stderr",
     "output_type": "stream",
     "text": [
      " 99%|█████████████████████████████████████████████████████████████████████████████▍| 2282/2300 [46:37<00:05,  3.56it/s]"
     ]
    },
    {
     "name": "stdout",
     "output_type": "stream",
     "text": [
      "Error fetching articles from https://www.investing.com/news/stock-market-news for QCOM: 'href'\n"
     ]
    },
    {
     "name": "stderr",
     "output_type": "stream",
     "text": [
      " 99%|█████████████████████████████████████████████████████████████████████████████▍| 2285/2300 [46:38<00:03,  4.59it/s]"
     ]
    },
    {
     "name": "stdout",
     "output_type": "stream",
     "text": [
      "Error fetching articles from https://www.thestreet.com/markets: 404\n",
      "Error fetching articles from https://www.zacks.com/investment-news: 404\n",
      "Error fetching articles from https://www.morningstar.com/market-news: 404\n"
     ]
    },
    {
     "name": "stderr",
     "output_type": "stream",
     "text": [
      "100%|█████████████████████████████████████████████████████████████████████████████▋| 2290/2300 [46:39<00:01,  5.36it/s]"
     ]
    },
    {
     "name": "stdout",
     "output_type": "stream",
     "text": [
      "Error fetching articles from https://www.investors.com/market-trend/stock-market-today/: 403\n"
     ]
    },
    {
     "name": "stderr",
     "output_type": "stream",
     "text": [
      "100%|██████████████████████████████████████████████████████████████████████████████| 2300/2300 [46:44<00:00,  1.22s/it]"
     ]
    },
    {
     "name": "stdout",
     "output_type": "stream",
     "text": [
      "News articles gathered and saved to 'news_articles_100_tickers.csv'.\n",
      "  ticker                                              title  \\\n",
      "0   AAPL                                    News & Insights   \n",
      "1   AAPL  8 out of 10 S&P 500 materials stocks deliver E...   \n",
      "2   AAPL  Libya is said to begin cutting output at bigge...   \n",
      "3   AAPL  19 out of 25 Information Technology companies ...   \n",
      "4   AAPL  Boeing's new CEO will confront key issues with...   \n",
      "\n",
      "                                         description  \\\n",
      "0  Options trading has become increasingly popula...   \n",
      "1                                     No description   \n",
      "2                                     No description   \n",
      "3                                     No description   \n",
      "4                                     No description   \n",
      "\n",
      "                                                 url publishedAt  \n",
      "0                       /market-activity/stocks/adbe     No date  \n",
      "1  /news/4133384-8-out-of-10-sp-500-materials-sto...     No date  \n",
      "2  /news/4133697-libya-is-said-to-begin-cutting-o...     No date  \n",
      "3  /news/4133361-20-out-of-25-information-technol...     No date  \n",
      "4  /news/4133695-boeings-new-ceo-will-confront-ke...     No date  \n"
     ]
    },
    {
     "name": "stderr",
     "output_type": "stream",
     "text": [
      "\n"
     ]
    }
   ],
   "source": [
    "import requests\n",
    "import pandas as pd\n",
    "from bs4 import BeautifulSoup\n",
    "import concurrent.futures\n",
    "from tqdm import tqdm\n",
    "\n",
    "# List of 100 ticker symbols\n",
    "tickers = [\n",
    "    'AAPL', 'MSFT', 'NVDA', 'GOOGL', 'AI', 'GOOG', 'AMZN', 'META', 'TSM', 'TSLA', \n",
    "    'PINS', 'IBM', 'PFE', 'VZ', 'PDD', 'DIS', 'NOW', 'BABA', 'BX', 'MS', \n",
    "    'AMAT', 'CAT', 'GS', 'NEE', 'ISRG', 'HSBC', 'CMCSA', 'RTX', 'RY', 'TTE', \n",
    "    'UL', 'SPGI', 'UNP', 'HDB', 'T', 'BHP', 'LOW', 'HON', 'LMT', 'VRTX', \n",
    "    'SNY', 'MUFG', 'TJX', 'BLK', 'UBER', 'ARM', 'SYK', 'COP', 'PGR', 'BUD', \n",
    "    'BKNG', 'INTC', 'ELV', 'C', 'ETN', 'REGN', 'PLD', 'SCHW', 'MU', 'UPS', \n",
    "    'NKE', 'BSX', 'MMC', 'CB', 'BA', 'RIO', 'ADI', 'LRCX', 'ADP', 'AMT', \n",
    "    'KKR', 'ANET', 'MDT', 'SONY', 'PANW', 'TD', 'KLAC', 'IBN', 'MMM', 'GILD', \n",
    "    'PEP', 'ABT', 'MRK', 'WMT', 'KO', 'CMG', 'MCD', 'JNJ', 'V', 'MA', \n",
    "    'PYPL', 'NFLX', 'ADBE', 'CRM', 'CSCO', 'ORCL', 'SAP', 'INTU', 'AMD', 'QCOM'\n",
    "]\n",
    "\n",
    "# URLs to fetch articles from\n",
    "urls = [\n",
    "    \"https://www.reuters.com/technology/\",\n",
    "    \"https://www.bloomberg.com/markets\",\n",
    "    \"https://www.marketwatch.com/latest-news\",\n",
    "    \"https://www.cnbc.com/world/?region=world\",\n",
    "    \"https://www.wsj.com/news/markets\",\n",
    "    \"https://www.ft.com/markets\",\n",
    "    \"https://finance.yahoo.com/\",\n",
    "    \"https://www.investing.com/news/stock-market-news\",\n",
    "    \"https://seekingalpha.com/market-news\",\n",
    "    \"https://www.fool.com/investing-news/\",\n",
    "    \"https://www.nasdaq.com/news/market-news\",\n",
    "    \"https://www.barrons.com/market-data\",\n",
    "    \"https://www.forbes.com/investing/\",\n",
    "    \"https://www.businessinsider.com/markets\",\n",
    "    \"https://www.zacks.com/investment-news\",\n",
    "    \"https://www.thestreet.com/markets\",\n",
    "    \"https://www.morningstar.com/market-news\",\n",
    "    \"https://www.benzinga.com/markets\",\n",
    "    \"https://www.bloombergquint.com/markets\",\n",
    "    \"https://www.investors.com/market-trend/stock-market-today/\",\n",
    "    \"https://edition.cnn.com/business/markets\",\n",
    "    \"https://www.msn.com/en-us/money/markets\",\n",
    "    \"https://finance.yahoo.com/news/\",\n",
    "]\n",
    "\n",
    "# Function to fetch articles from a single URL\n",
    "def fetch_articles_from_url(url, ticker):\n",
    "    headers = {'User-Agent': 'Mozilla/5.0'}\n",
    "    articles = []\n",
    "    try:\n",
    "        response = requests.get(url, headers=headers)\n",
    "        if response.status_code != 200:\n",
    "            print(f\"Error fetching articles from {url}: {response.status_code}\")\n",
    "            return articles\n",
    "\n",
    "        soup = BeautifulSoup(response.content, 'html.parser')\n",
    "        article_elements = soup.find_all('article')\n",
    "        for article in article_elements[:10]:  # Limit to 10 articles per URL\n",
    "            title = article.find('h3').get_text() if article.find('h3') else 'No title'\n",
    "            description = article.find('p').get_text() if article.find('p') else 'No description'\n",
    "            link = article.find('a')['href'] if article.find('a') else 'No link'\n",
    "            published_at = article.find('time')['datetime'] if article.find('time') else 'No date'\n",
    "            articles.append({\n",
    "                'ticker': ticker,\n",
    "                'title': title,\n",
    "                'description': description,\n",
    "                'url': link,\n",
    "                'publishedAt': published_at\n",
    "            })\n",
    "    except Exception as e:\n",
    "        print(f\"Error fetching articles from {url} for {ticker}: {e}\")\n",
    "    return articles\n",
    "\n",
    "# Use concurrent.futures to parallelize the fetching process\n",
    "def load_articles_for_tickers(tickers, urls):\n",
    "    all_articles = []\n",
    "    with concurrent.futures.ThreadPoolExecutor(max_workers=10) as executor:\n",
    "        futures = {executor.submit(fetch_articles_from_url, url, ticker): (url, ticker) for ticker in tickers for url in urls}\n",
    "        for future in tqdm(concurrent.futures.as_completed(futures), total=len(futures)):\n",
    "            url, ticker = futures[future]\n",
    "            try:\n",
    "                articles = future.result()\n",
    "                all_articles.extend(articles)\n",
    "            except Exception as e:\n",
    "                print(f\"Error fetching articles for {ticker} from {url}: {e}\")\n",
    "    return all_articles\n",
    "\n",
    "# Load articles\n",
    "articles = load_articles_for_tickers(tickers, urls)\n",
    "\n",
    "# Check if articles list is empty\n",
    "if articles:\n",
    "    # Save to CSV\n",
    "    news_df = pd.DataFrame(articles)\n",
    "    news_df.to_csv('news_articles_100_tickers.csv', index=False)\n",
    "    print(\"News articles gathered and saved to 'news_articles_100_tickers.csv'.\")\n",
    "else:\n",
    "    print(\"No news articles found for any ticker.\")\n",
    "\n",
    "# Optional: Display the first few rows of the DataFrame to verify\n",
    "if articles:\n",
    "    print(pd.DataFrame(articles).head())\n"
   ]
  },
  {
   "cell_type": "code",
   "execution_count": null,
   "id": "97865d8c-1ffc-40db-8687-5f6f15bbfdbd",
   "metadata": {},
   "outputs": [],
   "source": []
  }
 ],
 "metadata": {
  "kernelspec": {
   "display_name": "Python 3 (ipykernel)",
   "language": "python",
   "name": "python3"
  },
  "language_info": {
   "codemirror_mode": {
    "name": "ipython",
    "version": 3
   },
   "file_extension": ".py",
   "mimetype": "text/x-python",
   "name": "python",
   "nbconvert_exporter": "python",
   "pygments_lexer": "ipython3",
   "version": "3.8.19"
  }
 },
 "nbformat": 4,
 "nbformat_minor": 5
}
