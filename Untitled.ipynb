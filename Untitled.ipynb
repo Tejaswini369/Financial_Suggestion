{
 "cells": [
  {
   "cell_type": "code",
   "execution_count": 2,
   "id": "4a51a130-66a6-4a78-bc7c-5fb3b4bb2bfe",
   "metadata": {},
   "outputs": [
    {
     "name": "stdout",
     "output_type": "stream",
     "text": [
      "Requirement already satisfied: pandas in c:\\users\\kteja\\anaconda3\\envs\\llm_finance\\lib\\site-packages (2.0.3)\n",
      "Requirement already satisfied: langchain in c:\\users\\kteja\\anaconda3\\envs\\llm_finance\\lib\\site-packages (0.2.11)\n",
      "Requirement already satisfied: transformers in c:\\users\\kteja\\anaconda3\\envs\\llm_finance\\lib\\site-packages (4.43.3)\n",
      "Requirement already satisfied: sentence-transformers in c:\\users\\kteja\\anaconda3\\envs\\llm_finance\\lib\\site-packages (3.0.1)\n",
      "Note: you may need to restart the kernel to use updated packages.\n"
     ]
    },
    {
     "name": "stderr",
     "output_type": "stream",
     "text": [
      "ERROR: Could not find a version that satisfies the requirement faiss-gpu (from versions: none)\n",
      "ERROR: No matching distribution found for faiss-gpu\n"
     ]
    }
   ],
   "source": [
    "pip install pandas langchain transformers sentence-transformers faiss-gpu torch\n"
   ]
  },
  {
   "cell_type": "code",
   "execution_count": 1,
   "id": "630e18a6-b84c-4468-8735-c953763d5327",
   "metadata": {},
   "outputs": [
    {
     "name": "stdout",
     "output_type": "stream",
     "text": [
      "Failed to detect a GPU.\n"
     ]
    }
   ],
   "source": [
    "import tensorflow as tf\n",
    "gpus = tf.config.list_physical_devices(\"GPU\")\n",
    "if gpus:\n",
    "    for gpu in gpus:\n",
    "        print(\"Found a GPU with the name:\", gpu)\n",
    "else:\n",
    "    print(\"Failed to detect a GPU.\")\n",
    "        "
   ]
  },
  {
   "cell_type": "code",
   "execution_count": 2,
   "id": "dfe93f39-d47d-44b8-8cbe-d2696a589c6b",
   "metadata": {},
   "outputs": [
    {
     "name": "stdout",
     "output_type": "stream",
     "text": [
      "Stock Data:\n",
      "         Date      AAPL        AI      AMZN      GOOG     GOOGL      META  \\\n",
      "0  2023-01-03  1.000000  1.000000  1.000000  1.000000  1.000000  1.000000   \n",
      "1  2023-01-04  1.010314  1.024390  0.992076  0.988963  0.988330  1.021084   \n",
      "2  2023-01-05  0.999600  0.976513  0.968539  0.967336  0.967235  1.017637   \n",
      "3  2023-01-06  1.036380  0.989160  1.003030  0.982832  0.980027  1.042328   \n",
      "4  2023-01-09  1.040617  1.014453  1.017945  0.989967  0.987657  1.037919   \n",
      "\n",
      "       MSFT      NVDA      PINS      TSLA       TSM  \n",
      "0  1.000000  1.000000  1.000000  1.000000  1.000000  \n",
      "1  0.956257  1.030318  1.038882  1.051249  1.030933  \n",
      "2  0.927916  0.996507  1.030581  1.020722  1.022964  \n",
      "3  0.938851  1.038002  1.068589  1.045883  1.054572  \n",
      "4  0.947992  1.091722  1.086938  1.107956  1.084830  \n",
      "Financial Statements:\n",
      "  fiscalDateEnding reportedCurrency   grossProfit  totalRevenue  \\\n",
      "0       2023-09-30              USD  169148000000  379352000000   \n",
      "1       2022-09-30              USD  170782000000  391397000000   \n",
      "2       2021-09-30              USD  152836000000  363172000000   \n",
      "3       2020-09-30              USD  104956000000  271642000000   \n",
      "4       2019-09-30              USD   98392000000  256598000000   \n",
      "\n",
      "   costOfRevenue  costofGoodsAndServicesSold  operatingIncome  \\\n",
      "0   239069000000                214137000000     114301000000   \n",
      "1   248640000000                223546000000     119437000000   \n",
      "2   234954000000                212981000000     108949000000   \n",
      "3   189475000000                169559000000      66288000000   \n",
      "4   180027000000                161782000000      63930000000   \n",
      "\n",
      "   sellingGeneralAndAdministrative  researchAndDevelopment  operatingExpenses  \\\n",
      "0                      24932000000             29915000000        54847000000   \n",
      "1                      25094000000             26251000000        51345000000   \n",
      "2                      21973000000             21914000000        43887000000   \n",
      "3                      19916000000             18752000000        38668000000   \n",
      "4                      18245000000             16217000000        34462000000   \n",
      "\n",
      "   ...  depreciationAndAmortization  incomeBeforeTax  incomeTaxExpense  \\\n",
      "0  ...                  11519000000     113736000000       16741000000   \n",
      "1  ...                  11104000000     119103000000       19300000000   \n",
      "2  ...                  11284000000     109207000000       14527000000   \n",
      "3  ...                  11056000000      67091000000        9680000000   \n",
      "4  ...                  12547000000      65737000000       10481000000   \n",
      "\n",
      "   interestAndDebtExpense  netIncomeFromContinuingOperations  \\\n",
      "0            3.933000e+09                       9.699500e+10   \n",
      "1            2.931000e+09                       9.980300e+10   \n",
      "2            2.645000e+09                       9.468000e+10   \n",
      "3            2.873000e+09                       5.741100e+10   \n",
      "4            3.576000e+09                       5.525600e+10   \n",
      "\n",
      "   comprehensiveIncomeNetOfTax          ebit        ebitda    netIncome  \\\n",
      "0                 9.665200e+10  117669000000  125820000000  96995000000   \n",
      "1                 8.853100e+10  122034000000  130541000000  99803000000   \n",
      "2                 9.524900e+10  111852000000  120233000000  94680000000   \n",
      "3                 5.745300e+10   69964000000   77344000000  57411000000   \n",
      "4                 5.803700e+10   69313000000   76477000000  55256000000   \n",
      "\n",
      "   ticker  \n",
      "0    AAPL  \n",
      "1    AAPL  \n",
      "2    AAPL  \n",
      "3    AAPL  \n",
      "4    AAPL  \n",
      "\n",
      "[5 rows x 27 columns]\n",
      "Stock Data with 'combined' column:\n",
      "  ticker                                           combined\n",
      "0   AAPL         Date: 2023-01-03, Ticker: AAPL, Value: 1.0\n",
      "1   AAPL  Date: 2023-01-04, Ticker: AAPL, Value: 1.01031...\n",
      "2   AAPL  Date: 2023-01-05, Ticker: AAPL, Value: 0.99960...\n",
      "3   AAPL  Date: 2023-01-06, Ticker: AAPL, Value: 1.03637...\n",
      "4   AAPL  Date: 2023-01-09, Ticker: AAPL, Value: 1.04061...\n",
      "Financial Statements with 'combined' column:\n",
      "  ticker                                           combined\n",
      "0   AAPL  fiscalDateEnding: 2023-09-30, reportedCurrency...\n",
      "1   AAPL  fiscalDateEnding: 2022-09-30, reportedCurrency...\n",
      "2   AAPL  fiscalDateEnding: 2021-09-30, reportedCurrency...\n",
      "3   AAPL  fiscalDateEnding: 2020-09-30, reportedCurrency...\n",
      "4   AAPL  fiscalDateEnding: 2019-09-30, reportedCurrency...\n"
     ]
    }
   ],
   "source": [
    "import pandas as pd\n",
    "\n",
    "# Load the datasets\n",
    "stock_data = pd.read_csv('normalized_stock_data.csv')\n",
    "financial_statements = pd.read_csv('financial_statements.csv')\n",
    "\n",
    "# Display the first few rows of each dataset\n",
    "print(\"Stock Data:\")\n",
    "print(stock_data.head())\n",
    "\n",
    "print(\"Financial Statements:\")\n",
    "print(financial_statements.head())\n",
    "\n",
    "# Preprocess the data to create a 'combined' column\n",
    "# For stock data\n",
    "stock_data_melted = pd.melt(stock_data, id_vars=['Date'], var_name='ticker', value_name='stock_value')\n",
    "stock_data_melted['combined'] = stock_data_melted.apply(lambda row: f\"Date: {row['Date']}, Ticker: {row['ticker']}, Value: {row['stock_value']}\", axis=1)\n",
    "\n",
    "# For financial statements\n",
    "financial_statements['combined'] = financial_statements.apply(lambda row: ', '.join([f\"{col}: {row[col]}\" for col in financial_statements.columns if col != 'ticker']), axis=1)\n",
    "\n",
    "# Verify the new 'combined' column\n",
    "print(\"Stock Data with 'combined' column:\")\n",
    "print(stock_data_melted[['ticker', 'combined']].head())\n",
    "\n",
    "print(\"Financial Statements with 'combined' column:\")\n",
    "print(financial_statements[['ticker', 'combined']].head())\n"
   ]
  },
  {
   "cell_type": "code",
   "execution_count": null,
   "id": "fe17a335-d38a-45eb-a78d-4c0546cdb8e3",
   "metadata": {},
   "outputs": [],
   "source": []
  },
  {
   "cell_type": "code",
   "execution_count": 3,
   "id": "161f9b59-1423-4345-8c28-77e0096abd09",
   "metadata": {},
   "outputs": [
    {
     "data": {
      "application/vnd.jupyter.widget-view+json": {
       "model_id": "2a99db64dfb947fab8210b1bc5dad29a",
       "version_major": 2,
       "version_minor": 0
      },
      "text/plain": [
       "Batches:   0%|          | 0/136 [00:00<?, ?it/s]"
      ]
     },
     "metadata": {},
     "output_type": "display_data"
    },
    {
     "data": {
      "application/vnd.jupyter.widget-view+json": {
       "model_id": "42560a6630ef4b9eb9a2c5e38d8c60ea",
       "version_major": 2,
       "version_minor": 0
      },
      "text/plain": [
       "Batches:   0%|          | 0/5 [00:00<?, ?it/s]"
      ]
     },
     "metadata": {},
     "output_type": "display_data"
    }
   ],
   "source": [
    "from sentence_transformers import SentenceTransformer\n",
    "\n",
    "# Load the Sentence Transformer model\n",
    "model = SentenceTransformer('all-MiniLM-L6-v2')\n",
    "\n",
    "# Generate embeddings for each dataset\n",
    "def generate_embeddings(data, column):\n",
    "    embeddings = model.encode(data[column].tolist(), show_progress_bar=True)\n",
    "    return embeddings\n",
    "\n",
    "stock_embeddings = generate_embeddings(stock_data_melted, 'combined')\n",
    "financial_embeddings = generate_embeddings(financial_statements, 'combined')\n"
   ]
  },
  {
   "cell_type": "code",
   "execution_count": 4,
   "id": "aa8e54ac-c938-4e99-b075-20e1553e5512",
   "metadata": {},
   "outputs": [
    {
     "name": "stdout",
     "output_type": "stream",
     "text": [
      "Query: What is the latest stock performance of AAPL?\n",
      "Stock Response: Date: 2024-06-18, Ticker: AAPL, Value: 1.71336046860965\n",
      "Financial Response: fiscalDateEnding: 2018-12-31, reportedCurrency: TWD, grossProfit: 497874253000, totalRevenue: 1031361769000, costOfRevenue: 533487516000, costofGoodsAndServicesSold: 533487516000, operatingIncome: 383623524000, sellingGeneralAndAdministrative: 20265900000, researchAndDevelopment: 85895600000, operatingExpenses: 112821617000, investmentIncomeNet: nan, netInterestIncome: 11643300000.0, interestIncome: 14012124000.0, interestExpense: 3051100000.0, nonInterestIncome: nan, otherNonOperatingIncome: 0.0, depreciation: nan, depreciationAndAmortization: 311632376000, incomeBeforeTax: 397543100000, incomeTaxExpense: 34436900000, interestAndDebtExpense: nan, netIncomeFromContinuingOperations: 363106200000.0, comprehensiveIncomeNetOfTax: nan, ebit: 383623524000, ebitda: 695255900000, netIncome: 363052700000\n",
      "Query: Summarize the financial statements for GOOGL.\n",
      "Stock Response: Date: 2024-06-20, Ticker: GOOGL, Value: 1.9782315711218863\n",
      "Financial Response: fiscalDateEnding: 2013-12-31, reportedCurrency: USD, grossProfit: 5997000000, totalRevenue: 7872000000, costOfRevenue: 1875000000, costofGoodsAndServicesSold: 1875000000, operatingIncome: 2804000000, sellingGeneralAndAdministrative: 1778000000, researchAndDevelopment: 1415000000, operatingExpenses: 3450000000, investmentIncomeNet: 19000000.0, netInterestIncome: -56000000.0, interestIncome: 19000000.0, interestExpense: 56000000.0, nonInterestIncome: -70000000.0, otherNonOperatingIncome: 1000000.0, depreciation: 857000000.0, depreciationAndAmortization: 145000000, incomeBeforeTax: 2754000000, incomeTaxExpense: 1254000000, interestAndDebtExpense: 56000000.0, netIncomeFromContinuingOperations: 1500000000.0, comprehensiveIncomeNetOfTax: 1512000000.0, ebit: 2810000000, ebitda: 2955000000, netIncome: 1500000000\n"
     ]
    }
   ],
   "source": [
    "import numpy as np\n",
    "from sklearn.metrics.pairwise import cosine_similarity\n",
    "\n",
    "# Function to retrieve relevant information based on cosine similarity\n",
    "def retrieve_information(query, embeddings, data):\n",
    "    query_embedding = model.encode([query])\n",
    "    similarities = cosine_similarity(query_embedding, embeddings)\n",
    "    most_similar_idx = np.argmax(similarities)\n",
    "    return data.iloc[most_similar_idx]['combined']\n",
    "\n",
    "# Example queries\n",
    "queries = [\n",
    "    \"What is the latest stock performance of AAPL?\",\n",
    "    \"Summarize the financial statements for GOOGL.\"\n",
    "]\n",
    "\n",
    "# Generate responses for the queries\n",
    "for query in queries:\n",
    "    stock_response = retrieve_information(query, stock_embeddings, stock_data_melted)\n",
    "    financial_response = retrieve_information(query, financial_embeddings, financial_statements)\n",
    "\n",
    "    print(f\"Query: {query}\")\n",
    "    print(f\"Stock Response: {stock_response}\")\n",
    "    print(f\"Financial Response: {financial_response}\")\n"
   ]
  },
  {
   "cell_type": "code",
   "execution_count": null,
   "id": "09e94296-8701-4e92-bdd2-fc4f4f74ac4e",
   "metadata": {},
   "outputs": [],
   "source": []
  }
 ],
 "metadata": {
  "kernelspec": {
   "display_name": "Python 3 (ipykernel)",
   "language": "python",
   "name": "python3"
  },
  "language_info": {
   "codemirror_mode": {
    "name": "ipython",
    "version": 3
   },
   "file_extension": ".py",
   "mimetype": "text/x-python",
   "name": "python",
   "nbconvert_exporter": "python",
   "pygments_lexer": "ipython3",
   "version": "3.10.9"
  }
 },
 "nbformat": 4,
 "nbformat_minor": 5
}
